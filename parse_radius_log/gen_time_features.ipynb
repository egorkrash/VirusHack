{
 "cells": [
  {
   "cell_type": "code",
   "execution_count": 138,
   "metadata": {},
   "outputs": [],
   "source": [
    "import pandas as pd\n",
    "import numpy\n",
    "from catboost import CatBoostRegressor\n",
    "from sklearn.ensemble import RandomForestRegressor\n",
    "from sklearn.linear_model import LinearRegression\n",
    "from sklearn.metrics import mean_squared_error, mean_absolute_error\n",
    "from sklearn.model_selection import train_test_split"
   ]
  },
  {
   "cell_type": "code",
   "execution_count": 168,
   "metadata": {},
   "outputs": [],
   "source": [
    "data = pd.read_csv('gb_dfs_concat_dropna.csv')\n",
    "\n",
    "data = data.sort_values(['month', 'day', 'hour'])"
   ]
  },
  {
   "cell_type": "code",
   "execution_count": null,
   "metadata": {},
   "outputs": [],
   "source": [
    "# mean_delay\n",
    "# trafic\n",
    "# count"
   ]
  },
  {
   "cell_type": "code",
   "execution_count": 163,
   "metadata": {},
   "outputs": [],
   "source": [
    "def make_time_features(data, timestamps=[24, 12, 6, 5, 4, 3, 2, 1], target='mean_delay'):\n",
    "    targets = []\n",
    "    features = []\n",
    "    for i in range(data.shape[0]):\n",
    "        temp_arr = []\n",
    "        for s in timestamps:\n",
    "            temp = data.shift(s)[target].loc[i]\n",
    "            temp_arr.append(temp)\n",
    "            \n",
    "        targets.append(data[target].loc[i])\n",
    "        features.append(temp_arr)\n",
    "    \n",
    "    res_df = pd.DataFrame(features)\n",
    "    res_df['target_{}'.format(target)] = targets\n",
    "    \n",
    "    rename_dict = {}\n",
    "    for i in range(len(timestamps)):\n",
    "        rename_dict[i] = 'lag_{}_hours'.format(timestamps[i])\n",
    "    res_df = res_df.rename(columns=rename_dict)\n",
    "    \n",
    "    return res_df"
   ]
  },
  {
   "cell_type": "code",
   "execution_count": 164,
   "metadata": {},
   "outputs": [],
   "source": [
    "def make_mean_features(data, timestamps=[24, 12, 6, 5, 4, 3, 2], target='mean_delay'):\n",
    "    target_column = data['target_{}'.format(target)]\n",
    "    features = []\n",
    "    for timestamp in timestamps:\n",
    "        column = [np.nan] * (timestamp-1)\n",
    "        for i in range(timestamp, len(data)):\n",
    "            data_slice = target_column[i-timestamp:i]\n",
    "            column.append(np.mean(data_slice))\n",
    "        features.append(column)\n",
    "        \n",
    "    res_df = pd.DataFrame(np.array(features).T, columns=['mean_{}_hours'.format(timestamps[j])\n",
    "                          for j in range(len(timestamps))])\n",
    "    #res_df['target_{}'.format(target)] = target_column\n",
    "    return res_df"
   ]
  },
  {
   "cell_type": "code",
   "execution_count": 179,
   "metadata": {},
   "outputs": [],
   "source": [
    "def make_data(data, target='mean_delay'):\n",
    "    lags = make_time_features(data, target=target)\n",
    "    X = make_mean_features(lags, target=target)\n",
    "    X = pd.concat((X, lags), axis=1)\n",
    "    y = X['target_{}'.format(target)]\n",
    "    X = X.fillna(0).drop('target_{}'.format(target), axis=1)\n",
    "    return X, y"
   ]
  },
  {
   "cell_type": "code",
   "execution_count": 182,
   "metadata": {},
   "outputs": [],
   "source": [
    "data_mean_delay = make_data(data)\n",
    "data_count = make_data(data, target='count')\n",
    "data_mean_input_trafic = make_data(data, target='mean_input_trafic')\n",
    "data_mean_output_trafic = make_data(data, target='mean_output_trafic')"
   ]
  },
  {
   "cell_type": "code",
   "execution_count": 128,
   "metadata": {},
   "outputs": [],
   "source": [
    "class TargetForecasting(object):\n",
    "    def __init__(self, estimator='cat', **params):\n",
    "        if estimator == 'cat':\n",
    "            self.estimator = CatBoostRegressor(**params)\n",
    "        elif estimator == 'rf':\n",
    "            self.estimator = RandomForestRegressor(**params)\n",
    "        elif estimator == 'lin':\n",
    "            self.estimator = LinearRegression(**params)\n",
    "        \n",
    "    def fit(self, X, y, **fit_params):\n",
    "        self.estimator.fit(X, y, **fit_params)\n",
    "    \n",
    "    def predict(self, X):\n",
    "        return self.estimator.predict(X)"
   ]
  },
  {
   "cell_type": "code",
   "execution_count": 185,
   "metadata": {},
   "outputs": [],
   "source": [
    "def make_model(data_target):\n",
    "    X, y = data_target\n",
    "    X_train, X_test, y_train, y_test = train_test_split(X, y, test_size=0.2, random_state=42)\n",
    "    model = TargetForecasting(estimator='rf', n_estimators=40)\n",
    "    model.fit(X_train, y_train)\n",
    "    print('MAE:', mean_absolute_error(y_test, model.predict(X_test)))"
   ]
  },
  {
   "cell_type": "code",
   "execution_count": 187,
   "metadata": {},
   "outputs": [
    {
     "name": "stdout",
     "output_type": "stream",
     "text": [
      "MAE: 0.01685603499301018\n",
      "MAE: 6780.501704545456\n",
      "MAE: 61317128.29828878\n",
      "MAE: 258767596.0361783\n"
     ]
    }
   ],
   "source": [
    "make_model(data_mean_delay)\n",
    "make_model(data_count)\n",
    "make_model(data_mean_input_trafic)\n",
    "make_model(data_mean_output_trafic)"
   ]
  },
  {
   "cell_type": "code",
   "execution_count": null,
   "metadata": {},
   "outputs": [],
   "source": []
  }
 ],
 "metadata": {
  "kernelspec": {
   "display_name": "Python 3",
   "language": "python",
   "name": "python3"
  },
  "language_info": {
   "codemirror_mode": {
    "name": "ipython",
    "version": 3
   },
   "file_extension": ".py",
   "mimetype": "text/x-python",
   "name": "python",
   "nbconvert_exporter": "python",
   "pygments_lexer": "ipython3",
   "version": "3.7.3"
  }
 },
 "nbformat": 4,
 "nbformat_minor": 2
}
