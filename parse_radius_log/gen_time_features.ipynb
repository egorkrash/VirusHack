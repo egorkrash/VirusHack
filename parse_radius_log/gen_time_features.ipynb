{
 "cells": [
  {
   "cell_type": "code",
   "execution_count": 91,
   "metadata": {},
   "outputs": [],
   "source": [
    "import pandas as pd\n",
    "import numpy as np\n",
    "import matplotlib.pyplot as plt\n",
    "from catboost import CatBoostRegressor\n",
    "from sklearn.ensemble import RandomForestRegressor\n",
    "from sklearn.linear_model import LinearRegression\n",
    "from sklearn.metrics import mean_squared_error, mean_absolute_error\n",
    "from sklearn.model_selection import train_test_split"
   ]
  },
  {
   "cell_type": "code",
   "execution_count": 45,
   "metadata": {},
   "outputs": [],
   "source": [
    "data = pd.read_csv('gb_total.csv')"
   ]
  },
  {
   "cell_type": "code",
   "execution_count": 46,
   "metadata": {},
   "outputs": [],
   "source": [
    "targets = data.columns[1:]"
   ]
  },
  {
   "cell_type": "code",
   "execution_count": 163,
   "metadata": {},
   "outputs": [],
   "source": [
    "def make_time_features(data, timestamps=[24, 12, 6, 5, 4, 3, 2, 1], target='mean_delay'):\n",
    "    targets = []\n",
    "    features = []\n",
    "    features_mean = []\n",
    "    for i in range(data.shape[0]):\n",
    "        \n",
    "        # prev values\n",
    "        temp_arr = []\n",
    "        for s in timestamps:\n",
    "            temp = data.shift(s)[target].loc[i]\n",
    "            temp_arr.append(temp)\n",
    "            \n",
    "        # mean\n",
    "        for s in timestamps:\n",
    "            temp = np.mean(data[target].loc[i-s:i-1])\n",
    "            temp_arr.append(temp)\n",
    "            \n",
    "        targets.append(data[target].loc[i])\n",
    "        features.append(temp_arr)\n",
    "    \n",
    "    res_df = pd.DataFrame(features)\n",
    "    res_df['target_{}'.format(target)] = targets\n",
    "    \n",
    "    rename_dict = {}\n",
    "    for i in range(len(timestamps)*2):\n",
    "        if i < len(timestamps):\n",
    "            rename_dict[i] = 'lag_{}_hours'.format(timestamps[i])\n",
    "        else:\n",
    "            rename_dict[i] = 'mean_{}_hours'.format(timestamps[len(timestamps) - i])\n",
    "            \n",
    "            \n",
    "    res_df = res_df.rename(columns=rename_dict)\n",
    "    res_df = res_df.dropna()\n",
    "    \n",
    "    return res_df.drop('target_{}'.format(target), axis=1), res_df['target_{}'.format(target)]"
   ]
  },
  {
   "cell_type": "code",
   "execution_count": 164,
   "metadata": {},
   "outputs": [],
   "source": [
    "# def make_mean_features(data, timestamps=[24, 12, 6, 5, 4, 3, 2], target='mean_delay'):\n",
    "#     target_column = data['target_{}'.format(target)]\n",
    "#     features = []\n",
    "#     for timestamp in timestamps:\n",
    "#         column = [np.nan] * (timestamp-1)\n",
    "#         for i in range(timestamp, len(data)):\n",
    "#             data_slice = target_column[i-timestamp:i]\n",
    "#             column.append(np.mean(data_slice))\n",
    "#         features.append(column)\n",
    "        \n",
    "#     res_df = pd.DataFrame(np.array(features).T, columns=['mean_{}_hours'.format(timestamps[j])\n",
    "#                           for j in range(len(timestamps))])\n",
    "#     #res_df['target_{}'.format(target)] = target_column\n",
    "#     return res_df"
   ]
  },
  {
   "cell_type": "code",
   "execution_count": 165,
   "metadata": {},
   "outputs": [],
   "source": [
    "# def make_data(data, target='mean_delay'):\n",
    "#     lags = make_time_features(data, target=target)\n",
    "#     X = make_mean_features(lags, target=target)\n",
    "#     X = pd.concat((X, lags), axis=1)\n",
    "#     y = X['target_{}'.format(target)]\n",
    "#     X = X.fillna(0).drop('target_{}'.format(target), axis=1)\n",
    "#     return X, y"
   ]
  },
  {
   "cell_type": "code",
   "execution_count": 166,
   "metadata": {},
   "outputs": [],
   "source": [
    "class TargetForecasting(object):\n",
    "    def __init__(self, estimator='cat', **params):\n",
    "        if estimator == 'cat':\n",
    "            self.estimator = CatBoostRegressor(silent=True, **params)\n",
    "        elif estimator == 'rf':\n",
    "            self.estimator = RandomForestRegressor(**params)\n",
    "        elif estimator == 'lin':\n",
    "            self.estimator = LinearRegression(**params)\n",
    "        \n",
    "    def fit(self, X, y, **fit_params):\n",
    "        self.estimator.fit(X, y, **fit_params)\n",
    "    \n",
    "    def predict(self, X):\n",
    "        return self.estimator.predict(X)"
   ]
  },
  {
   "cell_type": "code",
   "execution_count": 167,
   "metadata": {},
   "outputs": [],
   "source": [
    "def make_model(data_target, estimator='cat'):\n",
    "    X, y = data_target\n",
    "    X_train, X_test, y_train, y_test = train_test_split(X, y, test_size=0.2, random_state=42)\n",
    "    model = TargetForecasting(estimator=estimator)\n",
    "    model.fit(X_train, y_train)\n",
    "    print('MAE (train):', mean_absolute_error(y_train, model.predict(X_train)))\n",
    "    print('MAE:', mean_absolute_error(y_test, model.predict(X_test)))"
   ]
  },
  {
   "cell_type": "code",
   "execution_count": 168,
   "metadata": {},
   "outputs": [
    {
     "name": "stdout",
     "output_type": "stream",
     "text": [
      "target start_stop_alige_count_\n",
      "MAE (train): 2514.265066634867\n",
      "MAE: 2793.4467426291158\n",
      "\n",
      "target start_stop_alige_count_Alive\n",
      "MAE (train): 14448.065383898263\n",
      "MAE: 15693.241575319213\n",
      "\n",
      "target start_stop_alige_count_Start\n",
      "MAE (train): 5912.36959426127\n",
      "MAE: 6843.367511243549\n",
      "\n",
      "target start_stop_alige_count_Stop\n",
      "MAE (train): 2488.2320470847235\n",
      "MAE: 2897.6839160079626\n",
      "\n",
      "target type__count_Billing-Accounting\n",
      "MAE (train): 20001.556886479633\n",
      "MAE: 21351.4526222069\n",
      "\n",
      "target type__count_Billing-Authentication\n",
      "MAE (train): 1263.187327530517\n",
      "MAE: 1242.6814015935036\n",
      "\n",
      "target mean_delay\n",
      "MAE (train): 0.015425411264080221\n",
      "MAE: 0.015551402212526532\n",
      "\n",
      "target mean_input_trafic\n",
      "MAE (train): 146916272.72432372\n",
      "MAE: 154760831.3606813\n",
      "\n",
      "target mean_output_trafic\n",
      "MAE (train): 488082334.4183722\n",
      "MAE: 572978430.2527899\n",
      "\n",
      "target count_failed\n",
      "MAE (train): 135.10363125105414\n",
      "MAE: 152.87203421578423\n",
      "\n"
     ]
    }
   ],
   "source": [
    "for target in targets:\n",
    "    print('target', target)\n",
    "    data_time_features = make_time_features(data, target=target)\n",
    "    make_model(data_time_features, estimator='lin')\n",
    "    print()"
   ]
  },
  {
   "cell_type": "code",
   "execution_count": 169,
   "metadata": {},
   "outputs": [
    {
     "name": "stdout",
     "output_type": "stream",
     "text": [
      "target start_stop_alige_count_\n"
     ]
    },
    {
     "name": "stderr",
     "output_type": "stream",
     "text": [
      "/Users/aqice/opt/anaconda3/lib/python3.7/site-packages/sklearn/ensemble/forest.py:245: FutureWarning: The default value of n_estimators will change from 10 in version 0.20 to 100 in 0.22.\n",
      "  \"10 in version 0.20 to 100 in 0.22.\", FutureWarning)\n"
     ]
    },
    {
     "name": "stdout",
     "output_type": "stream",
     "text": [
      "MAE (train): 1286.4863636363636\n",
      "MAE: 2642.8794871794867\n",
      "\n",
      "target start_stop_alige_count_Alive\n"
     ]
    },
    {
     "name": "stderr",
     "output_type": "stream",
     "text": [
      "/Users/aqice/opt/anaconda3/lib/python3.7/site-packages/sklearn/ensemble/forest.py:245: FutureWarning: The default value of n_estimators will change from 10 in version 0.20 to 100 in 0.22.\n",
      "  \"10 in version 0.20 to 100 in 0.22.\", FutureWarning)\n"
     ]
    },
    {
     "name": "stdout",
     "output_type": "stream",
     "text": [
      "MAE (train): 5548.772727272726\n",
      "MAE: 14317.010256410256\n",
      "\n",
      "target start_stop_alige_count_Start\n"
     ]
    },
    {
     "name": "stderr",
     "output_type": "stream",
     "text": [
      "/Users/aqice/opt/anaconda3/lib/python3.7/site-packages/sklearn/ensemble/forest.py:245: FutureWarning: The default value of n_estimators will change from 10 in version 0.20 to 100 in 0.22.\n",
      "  \"10 in version 0.20 to 100 in 0.22.\", FutureWarning)\n"
     ]
    },
    {
     "name": "stdout",
     "output_type": "stream",
     "text": [
      "MAE (train): 2488.737012987013\n",
      "MAE: 4095.241025641025\n",
      "\n",
      "target start_stop_alige_count_Stop\n"
     ]
    },
    {
     "name": "stderr",
     "output_type": "stream",
     "text": [
      "/Users/aqice/opt/anaconda3/lib/python3.7/site-packages/sklearn/ensemble/forest.py:245: FutureWarning: The default value of n_estimators will change from 10 in version 0.20 to 100 in 0.22.\n",
      "  \"10 in version 0.20 to 100 in 0.22.\", FutureWarning)\n"
     ]
    },
    {
     "name": "stdout",
     "output_type": "stream",
     "text": [
      "MAE (train): 1158.898701298701\n",
      "MAE: 2621.4948717948723\n",
      "\n",
      "target type__count_Billing-Accounting\n"
     ]
    },
    {
     "name": "stderr",
     "output_type": "stream",
     "text": [
      "/Users/aqice/opt/anaconda3/lib/python3.7/site-packages/sklearn/ensemble/forest.py:245: FutureWarning: The default value of n_estimators will change from 10 in version 0.20 to 100 in 0.22.\n",
      "  \"10 in version 0.20 to 100 in 0.22.\", FutureWarning)\n"
     ]
    },
    {
     "name": "stdout",
     "output_type": "stream",
     "text": [
      "MAE (train): 9278.933766233766\n",
      "MAE: 17065.282051282058\n",
      "\n",
      "target type__count_Billing-Authentication\n"
     ]
    },
    {
     "name": "stderr",
     "output_type": "stream",
     "text": [
      "/Users/aqice/opt/anaconda3/lib/python3.7/site-packages/sklearn/ensemble/forest.py:245: FutureWarning: The default value of n_estimators will change from 10 in version 0.20 to 100 in 0.22.\n",
      "  \"10 in version 0.20 to 100 in 0.22.\", FutureWarning)\n"
     ]
    },
    {
     "name": "stdout",
     "output_type": "stream",
     "text": [
      "MAE (train): 668.2727272727275\n",
      "MAE: 949.9205128205131\n",
      "\n",
      "target mean_delay\n"
     ]
    },
    {
     "name": "stderr",
     "output_type": "stream",
     "text": [
      "/Users/aqice/opt/anaconda3/lib/python3.7/site-packages/sklearn/ensemble/forest.py:245: FutureWarning: The default value of n_estimators will change from 10 in version 0.20 to 100 in 0.22.\n",
      "  \"10 in version 0.20 to 100 in 0.22.\", FutureWarning)\n"
     ]
    },
    {
     "name": "stdout",
     "output_type": "stream",
     "text": [
      "MAE (train): 0.0047134135609030155\n",
      "MAE: 0.013398094219326003\n",
      "\n",
      "target mean_input_trafic\n"
     ]
    },
    {
     "name": "stderr",
     "output_type": "stream",
     "text": [
      "/Users/aqice/opt/anaconda3/lib/python3.7/site-packages/sklearn/ensemble/forest.py:245: FutureWarning: The default value of n_estimators will change from 10 in version 0.20 to 100 in 0.22.\n",
      "  \"10 in version 0.20 to 100 in 0.22.\", FutureWarning)\n"
     ]
    },
    {
     "name": "stdout",
     "output_type": "stream",
     "text": [
      "MAE (train): 69326413.35640785\n",
      "MAE: 177057729.96740142\n",
      "\n",
      "target mean_output_trafic\n"
     ]
    },
    {
     "name": "stderr",
     "output_type": "stream",
     "text": [
      "/Users/aqice/opt/anaconda3/lib/python3.7/site-packages/sklearn/ensemble/forest.py:245: FutureWarning: The default value of n_estimators will change from 10 in version 0.20 to 100 in 0.22.\n",
      "  \"10 in version 0.20 to 100 in 0.22.\", FutureWarning)\n"
     ]
    },
    {
     "name": "stdout",
     "output_type": "stream",
     "text": [
      "MAE (train): 245739042.8697699\n",
      "MAE: 670628445.2681135\n",
      "\n",
      "target count_failed\n",
      "MAE (train): 43.68766233766234\n",
      "MAE: 95.07948717948716\n",
      "\n"
     ]
    },
    {
     "name": "stderr",
     "output_type": "stream",
     "text": [
      "/Users/aqice/opt/anaconda3/lib/python3.7/site-packages/sklearn/ensemble/forest.py:245: FutureWarning: The default value of n_estimators will change from 10 in version 0.20 to 100 in 0.22.\n",
      "  \"10 in version 0.20 to 100 in 0.22.\", FutureWarning)\n"
     ]
    }
   ],
   "source": [
    "for target in targets:\n",
    "    print('target', target)\n",
    "    data_time_features = make_time_features(data, target=target)\n",
    "    make_model(data_time_features, estimator='rf')\n",
    "    print()"
   ]
  },
  {
   "cell_type": "code",
   "execution_count": 170,
   "metadata": {},
   "outputs": [
    {
     "name": "stdout",
     "output_type": "stream",
     "text": [
      "target start_stop_alige_count_\n",
      "MAE (train): 251.18720933917712\n",
      "MAE: 2581.2506241366345\n",
      "\n",
      "target start_stop_alige_count_Alive\n",
      "MAE (train): 585.5403864092185\n",
      "MAE: 13631.17694744232\n",
      "\n",
      "target start_stop_alige_count_Start\n",
      "MAE (train): 502.54351673431165\n",
      "MAE: 3371.2604260416133\n",
      "\n",
      "target start_stop_alige_count_Stop\n",
      "MAE (train): 218.49707408053678\n",
      "MAE: 2323.8844117865033\n",
      "\n",
      "target type__count_Billing-Accounting\n",
      "MAE (train): 1097.8294027356073\n",
      "MAE: 13160.008896567822\n",
      "\n",
      "target type__count_Billing-Authentication\n",
      "MAE (train): 164.3161003677103\n",
      "MAE: 802.8733686484095\n",
      "\n",
      "target mean_delay\n",
      "MAE (train): 0.0008800720572250893\n",
      "MAE: 0.009299840458508775\n",
      "\n",
      "target mean_input_trafic\n",
      "MAE (train): 11643543.752258182\n",
      "MAE: 152793914.69727463\n",
      "\n",
      "target mean_output_trafic\n",
      "MAE (train): 48894995.34903459\n",
      "MAE: 621402211.2413698\n",
      "\n",
      "target count_failed\n",
      "MAE (train): 11.837647853880998\n",
      "MAE: 114.13667966468788\n",
      "\n"
     ]
    }
   ],
   "source": [
    "for target in targets:\n",
    "    print('target', target)\n",
    "    data_time_features = make_time_features(data, target=target)\n",
    "    make_model(data_time_features, estimator='cat')\n",
    "    print()"
   ]
  },
  {
   "cell_type": "markdown",
   "metadata": {},
   "source": [
    "### final fitting"
   ]
  },
  {
   "cell_type": "code",
   "execution_count": 254,
   "metadata": {},
   "outputs": [
    {
     "name": "stdout",
     "output_type": "stream",
     "text": [
      "start_stop_alige_count_ done\n",
      "start_stop_alige_count_Alive done\n",
      "start_stop_alige_count_Start done\n",
      "start_stop_alige_count_Stop done\n",
      "type__count_Billing-Accounting done\n",
      "type__count_Billing-Authentication done\n",
      "mean_delay done\n",
      "mean_input_trafic done\n",
      "mean_output_trafic done\n",
      "count_failed done\n"
     ]
    }
   ],
   "source": [
    "pred_df = pd.DataFrame({'date': data[-24:]['date']})\n",
    "\n",
    "for target in targets:\n",
    "    \n",
    "    data_time_features = make_time_features(data, target=target)\n",
    "\n",
    "    forecaster = TargetForecasting(estimator='lin')\n",
    "    \n",
    "    \n",
    "    X, y = data_time_features\n",
    "    X_fit = X[:-1].values\n",
    "    y_fit = y[:-1]\n",
    "\n",
    "    forecaster.fit(X_fit, y_fit)\n",
    "\n",
    "    X_pred = X.values[-24:]\n",
    "    \n",
    "    last_pred = forecaster.predict(X_pred)\n",
    "    pred_df[target] = last_pred\n",
    "    \n",
    "    print('{} done'.format(target))"
   ]
  },
  {
   "cell_type": "code",
   "execution_count": 255,
   "metadata": {},
   "outputs": [],
   "source": [
    "final_data = data.copy()"
   ]
  },
  {
   "cell_type": "code",
   "execution_count": 256,
   "metadata": {},
   "outputs": [],
   "source": [
    "def plot_target(data, pred_data, target='start_stop_alige_count_'):\n",
    "    \n",
    "    fig = plt.figure(figsize=(8, 6))\n",
    "    \n",
    "    data['date'] = pd.to_datetime(data['date'])\n",
    "    pred_data['date'] = pd.to_datetime(pred_data['date'])\n",
    "    \n",
    "    real_date, real_value = data.iloc[-24:-1]['date'], data.iloc[-24:-1][target]\n",
    "    \n",
    "    pred_date, pred_value = pred_data[-24:]['date'], pred_data[-24:][target]\n",
    "    \n",
    "    plt.title('{} per hour'.format(target))\n",
    "    plt.plot(real_date, real_value, label='real')\n",
    "    plt.plot(pred_date, pred_value, label='predicted', alpha=0.4)\n",
    "    plt.legend()\n",
    "    "
   ]
  },
  {
   "cell_type": "code",
   "execution_count": 266,
   "metadata": {},
   "outputs": [
    {
     "data": {
      "image/png": "[encoded data removed]",
      "text/plain": [
       "<Figure size 576x432 with 1 Axes>"
      ]
     },
     "metadata": {
      "needs_background": "light"
     },
     "output_type": "display_data"
    }
   ],
   "source": [
    "plot_target(final_data, pred_df, target=targets[9])"
   ]
  },
  {
   "cell_type": "code",
   "execution_count": null,
   "metadata": {},
   "outputs": [],
   "source": []
  }
 ],
 "metadata": {
  "kernelspec": {
   "display_name": "Python 3",
   "language": "python",
   "name": "python3"
  },
  "language_info": {
   "codemirror_mode": {
    "name": "ipython",
    "version": 3
   },
   "file_extension": ".py",
   "mimetype": "text/x-python",
   "name": "python",
   "nbconvert_exporter": "python",
   "pygments_lexer": "ipython3",
   "version": "3.7.4"
  }
 },
 "nbformat": 4,
 "nbformat_minor": 2
}
