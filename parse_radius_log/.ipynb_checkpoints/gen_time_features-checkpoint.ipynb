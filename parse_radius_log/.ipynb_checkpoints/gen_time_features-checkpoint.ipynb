{
 "cells": [
  {
   "cell_type": "code",
   "execution_count": 1,
   "metadata": {},
   "outputs": [],
   "source": [
    "import pandas as pd"
   ]
  },
  {
   "cell_type": "code",
   "execution_count": 3,
   "metadata": {},
   "outputs": [],
   "source": [
    "data = pd.read_csv('gb.csv')"
   ]
  },
  {
   "cell_type": "code",
   "execution_count": 4,
   "metadata": {},
   "outputs": [
    {
     "data": {
      "text/plain": [
       "mean_delay        0.026334\n",
       "count         39905.733780\n",
       "dtype: float64"
      ]
     },
     "execution_count": 4,
     "metadata": {},
     "output_type": "execute_result"
    }
   ],
   "source": [
    "data.iloc[1:-1].std()"
   ]
  },
  {
   "cell_type": "code",
   "execution_count": null,
   "metadata": {},
   "outputs": [],
   "source": []
  },
  {
   "cell_type": "code",
   "execution_count": 7,
   "metadata": {},
   "outputs": [
    {
     "data": {
      "text/html": [
       "<div>\n",
       "<style scoped>\n",
       "    .dataframe tbody tr th:only-of-type {\n",
       "        vertical-align: middle;\n",
       "    }\n",
       "\n",
       "    .dataframe tbody tr th {\n",
       "        vertical-align: top;\n",
       "    }\n",
       "\n",
       "    .dataframe thead th {\n",
       "        text-align: right;\n",
       "    }\n",
       "</style>\n",
       "<table border=\"1\" class=\"dataframe\">\n",
       "  <thead>\n",
       "    <tr style=\"text-align: right;\">\n",
       "      <th></th>\n",
       "      <th>hour</th>\n",
       "      <th>mean_delay</th>\n",
       "      <th>count</th>\n",
       "    </tr>\n",
       "  </thead>\n",
       "  <tbody>\n",
       "    <tr>\n",
       "      <th>0</th>\n",
       "      <td>2020.04.30 00</td>\n",
       "      <td>0.338620</td>\n",
       "      <td>215437</td>\n",
       "    </tr>\n",
       "    <tr>\n",
       "      <th>1</th>\n",
       "      <td>2020.04.30 01</td>\n",
       "      <td>0.241578</td>\n",
       "      <td>214455</td>\n",
       "    </tr>\n",
       "    <tr>\n",
       "      <th>2</th>\n",
       "      <td>2020.04.30 02</td>\n",
       "      <td>0.243426</td>\n",
       "      <td>233508</td>\n",
       "    </tr>\n",
       "    <tr>\n",
       "      <th>3</th>\n",
       "      <td>2020.04.30 03</td>\n",
       "      <td>0.237617</td>\n",
       "      <td>160895</td>\n",
       "    </tr>\n",
       "    <tr>\n",
       "      <th>4</th>\n",
       "      <td>2020.04.30 04</td>\n",
       "      <td>0.243973</td>\n",
       "      <td>214689</td>\n",
       "    </tr>\n",
       "    <tr>\n",
       "      <th>5</th>\n",
       "      <td>2020.04.30 05</td>\n",
       "      <td>0.231458</td>\n",
       "      <td>159229</td>\n",
       "    </tr>\n",
       "    <tr>\n",
       "      <th>6</th>\n",
       "      <td>2020.04.30 06</td>\n",
       "      <td>0.234219</td>\n",
       "      <td>273332</td>\n",
       "    </tr>\n",
       "    <tr>\n",
       "      <th>7</th>\n",
       "      <td>2020.04.30 07</td>\n",
       "      <td>0.215542</td>\n",
       "      <td>222348</td>\n",
       "    </tr>\n",
       "    <tr>\n",
       "      <th>8</th>\n",
       "      <td>2020.04.30 08</td>\n",
       "      <td>0.227765</td>\n",
       "      <td>280779</td>\n",
       "    </tr>\n",
       "    <tr>\n",
       "      <th>9</th>\n",
       "      <td>2020.04.30 09</td>\n",
       "      <td>0.232021</td>\n",
       "      <td>225161</td>\n",
       "    </tr>\n",
       "    <tr>\n",
       "      <th>10</th>\n",
       "      <td>2020.04.30 10</td>\n",
       "      <td>0.255794</td>\n",
       "      <td>307626</td>\n",
       "    </tr>\n",
       "    <tr>\n",
       "      <th>11</th>\n",
       "      <td>2020.04.30 11</td>\n",
       "      <td>0.226304</td>\n",
       "      <td>268894</td>\n",
       "    </tr>\n",
       "    <tr>\n",
       "      <th>12</th>\n",
       "      <td>2020.04.30 12</td>\n",
       "      <td>0.209752</td>\n",
       "      <td>311949</td>\n",
       "    </tr>\n",
       "    <tr>\n",
       "      <th>13</th>\n",
       "      <td>2020.04.30 13</td>\n",
       "      <td>0.212564</td>\n",
       "      <td>249986</td>\n",
       "    </tr>\n",
       "    <tr>\n",
       "      <th>14</th>\n",
       "      <td>2020.04.30 14</td>\n",
       "      <td>0.214415</td>\n",
       "      <td>301846</td>\n",
       "    </tr>\n",
       "    <tr>\n",
       "      <th>15</th>\n",
       "      <td>2020.04.30 15</td>\n",
       "      <td>0.208142</td>\n",
       "      <td>253778</td>\n",
       "    </tr>\n",
       "    <tr>\n",
       "      <th>16</th>\n",
       "      <td>2020.04.30 16</td>\n",
       "      <td>0.221147</td>\n",
       "      <td>293688</td>\n",
       "    </tr>\n",
       "    <tr>\n",
       "      <th>17</th>\n",
       "      <td>2020.04.30 17</td>\n",
       "      <td>0.220138</td>\n",
       "      <td>238082</td>\n",
       "    </tr>\n",
       "    <tr>\n",
       "      <th>18</th>\n",
       "      <td>2020.04.30 18</td>\n",
       "      <td>0.226596</td>\n",
       "      <td>273545</td>\n",
       "    </tr>\n",
       "    <tr>\n",
       "      <th>19</th>\n",
       "      <td>2020.04.30 19</td>\n",
       "      <td>0.234180</td>\n",
       "      <td>242505</td>\n",
       "    </tr>\n",
       "    <tr>\n",
       "      <th>20</th>\n",
       "      <td>2020.04.30 20</td>\n",
       "      <td>0.256188</td>\n",
       "      <td>263268</td>\n",
       "    </tr>\n",
       "    <tr>\n",
       "      <th>21</th>\n",
       "      <td>2020.04.30 21</td>\n",
       "      <td>0.294574</td>\n",
       "      <td>254029</td>\n",
       "    </tr>\n",
       "    <tr>\n",
       "      <th>22</th>\n",
       "      <td>2020.04.30 22</td>\n",
       "      <td>0.271680</td>\n",
       "      <td>240110</td>\n",
       "    </tr>\n",
       "    <tr>\n",
       "      <th>23</th>\n",
       "      <td>2020.04.30 23</td>\n",
       "      <td>0.313607</td>\n",
       "      <td>255936</td>\n",
       "    </tr>\n",
       "    <tr>\n",
       "      <th>24</th>\n",
       "      <td>2020.05.01 00</td>\n",
       "      <td>0.327827</td>\n",
       "      <td>45197</td>\n",
       "    </tr>\n",
       "  </tbody>\n",
       "</table>\n",
       "</div>"
      ],
      "text/plain": [
       "             hour  mean_delay   count\n",
       "0   2020.04.30 00    0.338620  215437\n",
       "1   2020.04.30 01    0.241578  214455\n",
       "2   2020.04.30 02    0.243426  233508\n",
       "3   2020.04.30 03    0.237617  160895\n",
       "4   2020.04.30 04    0.243973  214689\n",
       "5   2020.04.30 05    0.231458  159229\n",
       "6   2020.04.30 06    0.234219  273332\n",
       "7   2020.04.30 07    0.215542  222348\n",
       "8   2020.04.30 08    0.227765  280779\n",
       "9   2020.04.30 09    0.232021  225161\n",
       "10  2020.04.30 10    0.255794  307626\n",
       "11  2020.04.30 11    0.226304  268894\n",
       "12  2020.04.30 12    0.209752  311949\n",
       "13  2020.04.30 13    0.212564  249986\n",
       "14  2020.04.30 14    0.214415  301846\n",
       "15  2020.04.30 15    0.208142  253778\n",
       "16  2020.04.30 16    0.221147  293688\n",
       "17  2020.04.30 17    0.220138  238082\n",
       "18  2020.04.30 18    0.226596  273545\n",
       "19  2020.04.30 19    0.234180  242505\n",
       "20  2020.04.30 20    0.256188  263268\n",
       "21  2020.04.30 21    0.294574  254029\n",
       "22  2020.04.30 22    0.271680  240110\n",
       "23  2020.04.30 23    0.313607  255936\n",
       "24  2020.05.01 00    0.327827   45197"
      ]
     },
     "execution_count": 7,
     "metadata": {},
     "output_type": "execute_result"
    }
   ],
   "source": [
    "data"
   ]
  },
  {
   "cell_type": "code",
   "execution_count": 16,
   "metadata": {},
   "outputs": [],
   "source": [
    "def make_time_features(data, timestamps=[24, 12, 6, 5, 4, 3, 2, 1], target='mean_delay'):\n",
    "    targets = []\n",
    "    features = []\n",
    "    for i in range(data.shape[0]):\n",
    "        temp_arr = []\n",
    "        for s in timestamps:\n",
    "            temp = data.shift(s)[target].loc[i]\n",
    "            temp_arr.append(temp)\n",
    "            \n",
    "        targets.append(data[target].loc[i])\n",
    "        features.append(temp_arr)\n",
    "    \n",
    "    res_df = pd.DataFrame(features)\n",
    "    res_df['target_{}'.format(target)] = targets\n",
    "    \n",
    "    rename_dict = {}\n",
    "    for i in range(len(timestamps)):\n",
    "        rename_dict[i] = 'lag_{}_hours'.format(timestamps[i])\n",
    "    res_df = res_df.rename(columns=rename_dict)\n",
    "    \n",
    "    return res_df\n",
    "    \n",
    "    "
   ]
  },
  {
   "cell_type": "code",
   "execution_count": 10,
   "metadata": {},
   "outputs": [],
   "source": [
    "import numpy as np"
   ]
  },
  {
   "cell_type": "code",
   "execution_count": 97,
   "metadata": {},
   "outputs": [],
   "source": [
    "def make_mean_features(data, timestamps=[24, 12, 6, 5, 4, 3, 2], target='mean_delay'):\n",
    "    target_column = data['target_{}'.format(target)]\n",
    "    features = []\n",
    "    for timestamp in timestamps:\n",
    "        column = [np.nan] * (timestamp-1)\n",
    "        for i in range(timestamp, len(data)):\n",
    "            data_slice = target_column[i-timestamp:i]\n",
    "            column.append(np.mean(data_slice))\n",
    "        features.append(column)\n",
    "        \n",
    "    res_df = pd.DataFrame(np.array(features).T, columns=['mean_{}_hours'.format(timestamps[j])\n",
    "                          for j in range(len(timestamps))])\n",
    "    #res_df['target_{}'.format(target)] = target_column\n",
    "    return res_df"
   ]
  },
  {
   "cell_type": "code",
   "execution_count": 126,
   "metadata": {},
   "outputs": [],
   "source": [
    "lags = make_time_features(data, target='mean_delay')\n",
    "\n",
    "X = make_mean_features(lags, target='mean_delay')\n",
    "\n",
    "X = pd.concat((X, d), axis=1)\n",
    "\n",
    "y = X.target_mean_delay\n",
    "X = X.fillna(0).drop('target_mean_delay', axis=1)\n",
    "X_train, X_test, y_train, y_test = train_test_split(X, y, test_size=0.2, random_state=42)"
   ]
  },
  {
   "cell_type": "code",
   "execution_count": 127,
   "metadata": {},
   "outputs": [],
   "source": [
    "from sklearn.metrics import mean_squared_error, mean_absolute_error\n",
    "from sklearn.model_selection import train_test_split"
   ]
  },
  {
   "cell_type": "code",
   "execution_count": 128,
   "metadata": {},
   "outputs": [],
   "source": [
    "from catboost import CatBoostRegressor\n",
    "from sklearn.ensemble import RandomForestRegressor\n",
    "from sklearn.linear_model import LinearRegression\n",
    "\n",
    "class TargetForecasting(object):\n",
    "    def __init__(self, estimator='cat', **params):\n",
    "        if estimator == 'cat':\n",
    "            self.estimator = CatBoostRegressor(**params)\n",
    "        elif estimator == 'rf':\n",
    "            self.estimator = RandomForestRegressor(**params)\n",
    "        elif estimator == 'lin':\n",
    "            self.estimator = LinearRegression(**params)\n",
    "        \n",
    "    def fit(self, X, y, **fit_params):\n",
    "        self.estimator.fit(X, y, **fit_params)\n",
    "    \n",
    "    def predict(self, X):\n",
    "        return self.estimator.predict(X)"
   ]
  },
  {
   "cell_type": "code",
   "execution_count": 131,
   "metadata": {},
   "outputs": [],
   "source": [
    "model = TargetForecasting(estimator='rf', n_estimators=40)\n",
    "\n",
    "model.fit(X_train, y_train)"
   ]
  },
  {
   "cell_type": "code",
   "execution_count": 133,
   "metadata": {},
   "outputs": [
    {
     "data": {
      "text/plain": [
       "0.03629709975222744"
      ]
     },
     "execution_count": 133,
     "metadata": {},
     "output_type": "execute_result"
    }
   ],
   "source": [
    "mean_absolute_error(y_test, model.predict(X_test))"
   ]
  },
  {
   "cell_type": "code",
   "execution_count": null,
   "metadata": {},
   "outputs": [],
   "source": []
  }
 ],
 "metadata": {
  "kernelspec": {
   "display_name": "Python 3",
   "language": "python",
   "name": "python3"
  },
  "language_info": {
   "codemirror_mode": {
    "name": "ipython",
    "version": 3
   },
   "file_extension": ".py",
   "mimetype": "text/x-python",
   "name": "python",
   "nbconvert_exporter": "python",
   "pygments_lexer": "ipython3",
   "version": "3.7.3"
  }
 },
 "nbformat": 4,
 "nbformat_minor": 2
}
