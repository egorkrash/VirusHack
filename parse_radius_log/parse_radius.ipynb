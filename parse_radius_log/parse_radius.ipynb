{
 "cells": [
  {
   "cell_type": "code",
   "execution_count": 1,
   "metadata": {},
   "outputs": [],
   "source": [
    "import re\n",
    "import datetime\n",
    "import gc\n",
    "\n",
    "import numpy as np\n",
    "import pandas as pd\n",
    "import matplotlib.pyplot as plt\n",
    "from tqdm.notebook import tqdm"
   ]
  },
  {
   "cell_type": "code",
   "execution_count": 2,
   "metadata": {},
   "outputs": [],
   "source": [
    "PATH_DATA = \"../../../data/\""
   ]
  },
  {
   "cell_type": "raw",
   "metadata": {},
   "source": [
    "Краткие комментарии:\n",
    "Apr 29 06:08:38 – дата, время\n",
    "0A49824D-04@dhcp  - логин абонента\n",
    "89.239.189.1 – это ip БРАС-1 (может быть еще 89.239.189.2 – БРАС-2) \n",
    "ULSK-.... - id сессии \n",
    "RADIUS,, - мастер сессия \n",
    "RADIUS,1, - сессия аккаунтинга направления 1 и т.д (всего 6 направлений) \n",
    "c8:d3:a3:ed:2c:ff - mac абонента\n",
    "89.239.157.169 - ip абонента"
   ]
  },
  {
   "cell_type": "markdown",
   "metadata": {},
   "source": [
    "# 1. Парсим логи Radius'а"
   ]
  },
  {
   "cell_type": "code",
   "execution_count": 6,
   "metadata": {},
   "outputs": [],
   "source": [
    "def read_data(filename):\n",
    "    # 'radius.log.1'\n",
    "    with open(PATH_DATA + filename, 'rb') as f:\n",
    "        rows = f.readlines()\n",
    "    rows = [str(row)[2:][:-3] for row in tqdm(rows)]\n",
    "    return rows"
   ]
  },
  {
   "cell_type": "code",
   "execution_count": 7,
   "metadata": {},
   "outputs": [],
   "source": [
    "def unlist(x: list):\n",
    "    if len(x) > 0:\n",
    "        return x[0]\n",
    "    else:\n",
    "        return ''"
   ]
  },
  {
   "cell_type": "code",
   "execution_count": 8,
   "metadata": {},
   "outputs": [],
   "source": [
    "def parse_file(filename): \n",
    "    columns = [\n",
    "        'date',\n",
    "#         'rad/nfs',\n",
    "#         'radiusd',\n",
    "        'type_',\n",
    "#         'id_сессии',\n",
    "#         'flag_мастер_сессия',\n",
    "        'сессия_аккаунтинга_направления',\n",
    "        'логин_абонента',\n",
    "        'ip_абонента',\n",
    "        'mac_абонента',\n",
    "        'start_stop_alige',\n",
    "        'status_ok_or_not',\n",
    "        'БРАС-1/2',\n",
    "        'delay',\n",
    "        'input_trafic', \n",
    "        'output_trafic',\n",
    "#         'row'\n",
    "    ]\n",
    "    res_parse = []\n",
    "    bad_parse_rows = []\n",
    "    len_date = len(\"Apr 30 00:11:25\")\n",
    "    \n",
    "    with open(PATH_DATA + filename, 'rb') as f:\n",
    "        for idx, row_ in tqdm(enumerate(f)):\n",
    "            row = str(row_)[2:][:-3]\n",
    "            if 'huawei_save_sessid' in row:\n",
    "                continue\n",
    "#             if idx > 1_000_000:\n",
    "#                 break\n",
    "\n",
    "            date = row[:len_date]\n",
    "#             rad_nfs = row[(len_date+1): (len_date+4)]\n",
    "#             radiusd = unlist(re.findall(r'radiusd: \\[(\\w+)\\]', row))\n",
    "            type_ = unlist(re.findall(r'radiusd: \\[\\w+\\] ([\\w+|-|_|-]+)', row))\n",
    "            if type_ not in ['Billing-Authentication', 'Billing-Accounting']:\n",
    "                continue\n",
    "                \n",
    "        \n",
    "#             ulsk = re.findall(r'ULSK-(\\w+)', row)\n",
    "#             flg_master_session = \"RADIUS,,\" in row\n",
    "            session_accountinga_napravlenia = unlist(re.findall(r'RADIUS,(\\d),', row))\n",
    "#             login_abonenta = unlist(re.findall(r\"'(.+)' via\", row))\n",
    "            login_abonenta = unlist(re.findall(r\" ([\\S]+@[\\S]+) \", row)).replace(\"'\", \"\").replace(\"\\\\\", \"\")\n",
    "        \n",
    "            ip_abonent = unlist(re.findall(r\", (\\d+.\\d+.\\d+.\\d+), \", row))\n",
    "            mac_abonent = unlist(re.findall(r\", (\\w+:\\w+:\\w+:\\w+:\\w+:\\w+)\\) \", row))\n",
    "            start_stop_alige = unlist(re.findall(r\",PPP,(\\w+),\", row))\n",
    "            status_ok_or_not = unlist(re.findall(r\"- (.+) --\", row))[:60]\n",
    "            bras_1_2 = unlist(re.findall(r\"89.239.189.1:\\d+|89.239.189.2:\\d+\", row))\n",
    "#                     '2020.04.30 00:11:25,89.239.189.1:153223559' 89.239.189.2:153224753\n",
    "            delay = unlist(re.findall(r\"delay (\\d+\\.\\d+)\", row))\n",
    "            input_trafic = unlist(re.findall(r',\\d+.\\d+.\\d+.\\d+,\\d+,\\d+,(\\d+),\\d+, ', row))\n",
    "            output_trafic = unlist(re.findall(r',\\d+.\\d+.\\d+.\\d+,\\d+,\\d+,\\d+,(\\d+), ', row))\n",
    "\n",
    "#             if (delay != '') and (input_trafic == ''):\n",
    "# #                 pass\n",
    "#                 bad_parse_rows.append(row)\n",
    "#             else:\n",
    "            res_parse.append([\n",
    "                date, type_, session_accountinga_napravlenia,\n",
    "                login_abonenta, ip_abonent, mac_abonent, start_stop_alige,\n",
    "                status_ok_or_not, bras_1_2, delay, input_trafic, output_trafic,\n",
    "#                 row\n",
    "            ])\n",
    "        \n",
    "    df_ = pd.DataFrame(res_parse, columns=columns)\n",
    "    df_['date'] = pd.to_datetime('2020' + df_['date'], format='%Y%b %d %H:%M:%S')\n",
    "    \n",
    "    return bad_parse_rows, df_"
   ]
  },
  {
   "cell_type": "code",
   "execution_count": 9,
   "metadata": {},
   "outputs": [
    {
     "data": {
      "application/vnd.jupyter.widget-view+json": {
       "model_id": "becb44dfc99e484dbb683e4ca5b9170b",
       "version_major": 2,
       "version_minor": 0
      },
      "text/plain": [
       "HBox(children=(FloatProgress(value=1.0, bar_style='info', max=1.0), HTML(value='')))"
      ]
     },
     "metadata": {},
     "output_type": "display_data"
    },
    {
     "name": "stdout",
     "output_type": "stream",
     "text": [
      "\n"
     ]
    }
   ],
   "source": [
    "bad_parse_rows, a = parse_file(f'radius.log.{1}')"
   ]
  },
  {
   "cell_type": "code",
   "execution_count": 10,
   "metadata": {},
   "outputs": [
    {
     "data": {
      "text/plain": [
       "OK                                                              6214367\n",
       "OK Skiped due to traffic limit                                   441653\n",
       "FAILED Service isn?t ON.                                          49599\n",
       "FAILED Authentication failure:\"Password match failure\"             1716\n",
       "FAILED Tarification error.<SQL>ORA-20001: ORA-20099: PKG-000       1493\n",
       "FAILED Not enough money on account.                                 832\n",
       "FAILED Authentication failure:\"no Password or CHAP value-pai          8\n",
       "FAILED No username found                                              8\n",
       "Name: status_ok_or_not, dtype: int64"
      ]
     },
     "execution_count": 10,
     "metadata": {},
     "output_type": "execute_result"
    }
   ],
   "source": [
    "a['status_ok_or_not'].value_counts()"
   ]
  },
  {
   "cell_type": "code",
   "execution_count": 12,
   "metadata": {},
   "outputs": [
    {
     "data": {
      "text/plain": [
       "OK                                                              6602092\n",
       "OK Skiped due to traffic limit                                   503037\n",
       "FAILED Service isn?t ON.                                          47873\n",
       "FAILED Not enough money on account.                                3421\n",
       "FAILED Authentication failure:\"Password match failure\"             1421\n",
       "FAILED Tarification error.<SQL>ORA-20001: ORA-20099: PKG-000       1177\n",
       "FAILED Authentication failure:\"no Password or CHAP value-pai         80\n",
       "FAILED STOP on NORMAL closed session.                                10\n",
       "FAILED Session in work.                                               7\n",
       "FAILED No username found                                              6\n",
       "FAILED ALIVE on NORMAL closed session.                                1\n",
       "Name: status_ok_or_not, dtype: int64"
      ]
     },
     "execution_count": 12,
     "metadata": {},
     "output_type": "execute_result"
    }
   ],
   "source": [
    "a['status_ok_or_not'].value_counts()"
   ]
  },
  {
   "cell_type": "code",
   "execution_count": 15,
   "metadata": {},
   "outputs": [
    {
     "data": {
      "text/html": [
       "<div>\n",
       "<style scoped>\n",
       "    .dataframe tbody tr th:only-of-type {\n",
       "        vertical-align: middle;\n",
       "    }\n",
       "\n",
       "    .dataframe tbody tr th {\n",
       "        vertical-align: top;\n",
       "    }\n",
       "\n",
       "    .dataframe thead th {\n",
       "        text-align: right;\n",
       "    }\n",
       "</style>\n",
       "<table border=\"1\" class=\"dataframe\">\n",
       "  <thead>\n",
       "    <tr style=\"text-align: right;\">\n",
       "      <th></th>\n",
       "      <th>date</th>\n",
       "      <th>type_</th>\n",
       "      <th>сессия_аккаунтинга_направления</th>\n",
       "      <th>логин_абонента</th>\n",
       "      <th>ip_абонента</th>\n",
       "      <th>mac_абонента</th>\n",
       "      <th>start_stop_alige</th>\n",
       "      <th>status_ok_or_not</th>\n",
       "      <th>БРАС-1/2</th>\n",
       "      <th>delay</th>\n",
       "      <th>input_trafic</th>\n",
       "      <th>output_trafic</th>\n",
       "    </tr>\n",
       "  </thead>\n",
       "  <tbody>\n",
       "    <tr>\n",
       "      <th>0</th>\n",
       "      <td>2020-05-02 00:11:14</td>\n",
       "      <td>Billing-Accounting</td>\n",
       "      <td></td>\n",
       "      <td>rSTKIoB9@pppoe</td>\n",
       "      <td>89.239.189.2</td>\n",
       "      <td>78:c1:a7:26:2b:f2</td>\n",
       "      <td>Alive</td>\n",
       "      <td>OK</td>\n",
       "      <td>89.239.189.2:35775804</td>\n",
       "      <td>0.357546</td>\n",
       "      <td>10804589355</td>\n",
       "      <td>171926012896</td>\n",
       "    </tr>\n",
       "    <tr>\n",
       "      <th>1</th>\n",
       "      <td>2020-05-02 00:11:14</td>\n",
       "      <td>Billing-Accounting</td>\n",
       "      <td>1</td>\n",
       "      <td>GBRFnJAM@pppoe</td>\n",
       "      <td>89.239.189.2</td>\n",
       "      <td>ec:08:6b:b7:72:1a</td>\n",
       "      <td>Alive</td>\n",
       "      <td>OK</td>\n",
       "      <td>89.239.189.2:253891725</td>\n",
       "      <td>0.273068</td>\n",
       "      <td>2989776</td>\n",
       "      <td>73828767</td>\n",
       "    </tr>\n",
       "    <tr>\n",
       "      <th>2</th>\n",
       "      <td>2020-05-02 00:11:14</td>\n",
       "      <td>Billing-Accounting</td>\n",
       "      <td></td>\n",
       "      <td>OAXHLWA9@pppoe</td>\n",
       "      <td>89.239.189.1</td>\n",
       "      <td>d4:bf:7f:85:c8:01</td>\n",
       "      <td>Alive</td>\n",
       "      <td>OK</td>\n",
       "      <td>89.239.189.1:102888519</td>\n",
       "      <td>0.240214</td>\n",
       "      <td>5977761900</td>\n",
       "      <td>50271361952</td>\n",
       "    </tr>\n",
       "    <tr>\n",
       "      <th>3</th>\n",
       "      <td>2020-05-02 00:11:14</td>\n",
       "      <td>Billing-Accounting</td>\n",
       "      <td>6</td>\n",
       "      <td>GBRFnJAM@pppoe</td>\n",
       "      <td>89.239.189.2</td>\n",
       "      <td>ec:08:6b:b7:72:1a</td>\n",
       "      <td>Alive</td>\n",
       "      <td>OK</td>\n",
       "      <td>89.239.189.2:253891725</td>\n",
       "      <td>0.280033</td>\n",
       "      <td>9250671</td>\n",
       "      <td>303541285</td>\n",
       "    </tr>\n",
       "    <tr>\n",
       "      <th>4</th>\n",
       "      <td>2020-05-02 00:11:14</td>\n",
       "      <td>Billing-Accounting</td>\n",
       "      <td>6</td>\n",
       "      <td>Wssgg9-W@pppoe</td>\n",
       "      <td>89.239.189.2</td>\n",
       "      <td>ec:4c:4d:c1:51:d2</td>\n",
       "      <td>Alive</td>\n",
       "      <td>OK</td>\n",
       "      <td>89.239.189.2:102888473</td>\n",
       "      <td>0.282596</td>\n",
       "      <td>2394997</td>\n",
       "      <td>79303236</td>\n",
       "    </tr>\n",
       "  </tbody>\n",
       "</table>\n",
       "</div>"
      ],
      "text/plain": [
       "                 date               type_ сессия_аккаунтинга_направления  \\\n",
       "0 2020-05-02 00:11:14  Billing-Accounting                                  \n",
       "1 2020-05-02 00:11:14  Billing-Accounting                              1   \n",
       "2 2020-05-02 00:11:14  Billing-Accounting                                  \n",
       "3 2020-05-02 00:11:14  Billing-Accounting                              6   \n",
       "4 2020-05-02 00:11:14  Billing-Accounting                              6   \n",
       "\n",
       "   логин_абонента   ip_абонента       mac_абонента start_stop_alige  \\\n",
       "0  rSTKIoB9@pppoe  89.239.189.2  78:c1:a7:26:2b:f2            Alive   \n",
       "1  GBRFnJAM@pppoe  89.239.189.2  ec:08:6b:b7:72:1a            Alive   \n",
       "2  OAXHLWA9@pppoe  89.239.189.1  d4:bf:7f:85:c8:01            Alive   \n",
       "3  GBRFnJAM@pppoe  89.239.189.2  ec:08:6b:b7:72:1a            Alive   \n",
       "4  Wssgg9-W@pppoe  89.239.189.2  ec:4c:4d:c1:51:d2            Alive   \n",
       "\n",
       "  status_ok_or_not                БРАС-1/2     delay input_trafic  \\\n",
       "0               OK   89.239.189.2:35775804  0.357546  10804589355   \n",
       "1               OK  89.239.189.2:253891725  0.273068      2989776   \n",
       "2               OK  89.239.189.1:102888519  0.240214   5977761900   \n",
       "3               OK  89.239.189.2:253891725  0.280033      9250671   \n",
       "4               OK  89.239.189.2:102888473  0.282596      2394997   \n",
       "\n",
       "  output_trafic  \n",
       "0  171926012896  \n",
       "1      73828767  \n",
       "2   50271361952  \n",
       "3     303541285  \n",
       "4      79303236  "
      ]
     },
     "execution_count": 15,
     "metadata": {},
     "output_type": "execute_result"
    }
   ],
   "source": [
    "a.head()"
   ]
  },
  {
   "cell_type": "code",
   "execution_count": 12,
   "metadata": {},
   "outputs": [],
   "source": [
    "a.to_csv(f'parsed_radius_log_1.csv')"
   ]
  },
  {
   "cell_type": "code",
   "execution_count": 16,
   "metadata": {},
   "outputs": [
    {
     "name": "stdout",
     "output_type": "stream",
     "text": [
      "2\n"
     ]
    },
    {
     "data": {
      "application/vnd.jupyter.widget-view+json": {
       "model_id": "195ce8107bbd4811ba5042a665d5d00a",
       "version_major": 2,
       "version_minor": 0
      },
      "text/plain": [
       "HBox(children=(FloatProgress(value=1.0, bar_style='info', max=1.0), HTML(value='')))"
      ]
     },
     "metadata": {},
     "output_type": "display_data"
    },
    {
     "name": "stdout",
     "output_type": "stream",
     "text": [
      "\n",
      "3\n"
     ]
    },
    {
     "data": {
      "application/vnd.jupyter.widget-view+json": {
       "model_id": "3206d80f112f40f5928bb72bf117dc7f",
       "version_major": 2,
       "version_minor": 0
      },
      "text/plain": [
       "HBox(children=(FloatProgress(value=1.0, bar_style='info', max=1.0), HTML(value='')))"
      ]
     },
     "metadata": {},
     "output_type": "display_data"
    },
    {
     "name": "stdout",
     "output_type": "stream",
     "text": [
      "\n",
      "4\n"
     ]
    },
    {
     "data": {
      "application/vnd.jupyter.widget-view+json": {
       "model_id": "fb21f832c4a54098bae338a8fa2b083f",
       "version_major": 2,
       "version_minor": 0
      },
      "text/plain": [
       "HBox(children=(FloatProgress(value=1.0, bar_style='info', max=1.0), HTML(value='')))"
      ]
     },
     "metadata": {},
     "output_type": "display_data"
    },
    {
     "name": "stdout",
     "output_type": "stream",
     "text": [
      "\n",
      "5\n"
     ]
    },
    {
     "data": {
      "application/vnd.jupyter.widget-view+json": {
       "model_id": "0e119304dd944281872f104f18710ba0",
       "version_major": 2,
       "version_minor": 0
      },
      "text/plain": [
       "HBox(children=(FloatProgress(value=1.0, bar_style='info', max=1.0), HTML(value='')))"
      ]
     },
     "metadata": {},
     "output_type": "display_data"
    },
    {
     "name": "stdout",
     "output_type": "stream",
     "text": [
      "\n",
      "6\n"
     ]
    },
    {
     "data": {
      "application/vnd.jupyter.widget-view+json": {
       "model_id": "630ef9e30fdf4f9f8536be0e4bef925e",
       "version_major": 2,
       "version_minor": 0
      },
      "text/plain": [
       "HBox(children=(FloatProgress(value=1.0, bar_style='info', max=1.0), HTML(value='')))"
      ]
     },
     "metadata": {},
     "output_type": "display_data"
    },
    {
     "name": "stdout",
     "output_type": "stream",
     "text": [
      "\n",
      "7\n"
     ]
    },
    {
     "data": {
      "application/vnd.jupyter.widget-view+json": {
       "model_id": "a310f7b6490e44a79ba0f4c85af8c438",
       "version_major": 2,
       "version_minor": 0
      },
      "text/plain": [
       "HBox(children=(FloatProgress(value=1.0, bar_style='info', max=1.0), HTML(value='')))"
      ]
     },
     "metadata": {},
     "output_type": "display_data"
    },
    {
     "name": "stdout",
     "output_type": "stream",
     "text": [
      "\n",
      "8\n"
     ]
    },
    {
     "data": {
      "application/vnd.jupyter.widget-view+json": {
       "model_id": "f09da07866d44ea6b44aa8c0b5e28d41",
       "version_major": 2,
       "version_minor": 0
      },
      "text/plain": [
       "HBox(children=(FloatProgress(value=1.0, bar_style='info', max=1.0), HTML(value='')))"
      ]
     },
     "metadata": {},
     "output_type": "display_data"
    },
    {
     "name": "stdout",
     "output_type": "stream",
     "text": [
      "\n",
      "9\n"
     ]
    },
    {
     "data": {
      "application/vnd.jupyter.widget-view+json": {
       "model_id": "ea76b7a186a74268b9ab528bd434f9ae",
       "version_major": 2,
       "version_minor": 0
      },
      "text/plain": [
       "HBox(children=(FloatProgress(value=1.0, bar_style='info', max=1.0), HTML(value='')))"
      ]
     },
     "metadata": {},
     "output_type": "display_data"
    },
    {
     "name": "stdout",
     "output_type": "stream",
     "text": [
      "\n"
     ]
    }
   ],
   "source": [
    "for i in range(2, 10):\n",
    "    print(i)\n",
    "    del a\n",
    "    gc.collect()\n",
    "    _, a = parse_file(f'radius.log.{i}')\n",
    "    gc.collect()\n",
    "    a.to_csv(f'parsed_radius_log_{i}.csv')"
   ]
  },
  {
   "cell_type": "code",
   "execution_count": 103,
   "metadata": {
    "scrolled": true
   },
   "outputs": [
    {
     "data": {
      "application/vnd.jupyter.widget-view+json": {
       "model_id": "7fb7378c95614c58901240ea348c7778",
       "version_major": 2,
       "version_minor": 0
      },
      "text/plain": [
       "HBox(children=(FloatProgress(value=1.0, bar_style='info', max=1.0), HTML(value='')))"
      ]
     },
     "metadata": {},
     "output_type": "display_data"
    },
    {
     "name": "stdout",
     "output_type": "stream",
     "text": [
      "\n"
     ]
    }
   ],
   "source": [
    "bad_parse_rows, a = parse_file('radius.log.1')"
   ]
  },
  {
   "cell_type": "markdown",
   "metadata": {},
   "source": [
    "# 2. Агрегируем по часам"
   ]
  },
  {
   "cell_type": "code",
   "execution_count": null,
   "metadata": {},
   "outputs": [],
   "source": []
  },
  {
   "cell_type": "code",
   "execution_count": 4,
   "metadata": {},
   "outputs": [
    {
     "data": {
      "application/vnd.jupyter.widget-view+json": {
       "model_id": "9b9f2857fedf4b2194bce7fac209119a",
       "version_major": 2,
       "version_minor": 0
      },
      "text/plain": [
       "HBox(children=(FloatProgress(value=0.0, max=9.0), HTML(value='')))"
      ]
     },
     "metadata": {},
     "output_type": "display_data"
    },
    {
     "name": "stdout",
     "output_type": "stream",
     "text": [
      "\n"
     ]
    }
   ],
   "source": [
    "dfs = []\n",
    "for i in tqdm(range(1, 10)):\n",
    "    dfs.append(\n",
    "        pd.read_csv(f'parsed_radius_log_{i}.csv')\n",
    "        [['date', 'логин_абонента', 'type_', 'start_stop_alige', 'status_ok_or_not', 'delay', 'input_trafic', 'output_trafic']]\n",
    "    )\n",
    "dfs_concat = pd.concat(dfs)"
   ]
  },
  {
   "cell_type": "code",
   "execution_count": 14,
   "metadata": {},
   "outputs": [],
   "source": [
    "date_ = pd.to_datetime(dfs_concat['date'])\n",
    "\n",
    "dfs_concat['hour'] = date_.dt.hour\n",
    "dfs_concat['day'] = date_.dt.day\n",
    "dfs_concat['month'] = date_.dt.month\n",
    "\n",
    "dfs_concat['delay'] = dfs_concat['delay'].astype(float)"
   ]
  },
  {
   "cell_type": "code",
   "execution_count": 45,
   "metadata": {},
   "outputs": [
    {
     "data": {
      "text/plain": [
       "Billing-Accounting        61904357\n",
       "Billing-Authentication     5322969\n",
       "Name: type_, dtype: int64"
      ]
     },
     "execution_count": 45,
     "metadata": {},
     "output_type": "execute_result"
    }
   ],
   "source": [
    "dfs_concat['type_'].value_counts()"
   ]
  },
  {
   "cell_type": "code",
   "execution_count": 49,
   "metadata": {},
   "outputs": [
    {
     "data": {
      "text/plain": [
       "date                       0\n",
       "type_                      0\n",
       "start_stop_alige    10511918\n",
       "status_ok_or_not           0\n",
       "delay                5188949\n",
       "input_trafic        21033139\n",
       "output_trafic       21033139\n",
       "hour                       0\n",
       "day                        0\n",
       "month                      0\n",
       "dtype: int64"
      ]
     },
     "execution_count": 49,
     "metadata": {},
     "output_type": "execute_result"
    }
   ],
   "source": [
    "dfs_concat.isnull().sum(axis=0)"
   ]
  },
  {
   "cell_type": "code",
   "execution_count": 48,
   "metadata": {},
   "outputs": [
    {
     "data": {
      "text/plain": [
       "((67227326, 10), (46194187, 10))"
      ]
     },
     "execution_count": 48,
     "metadata": {},
     "output_type": "execute_result"
    }
   ],
   "source": [
    "dfs_concat.shape, dfs_concat.dropna().shape,"
   ]
  },
  {
   "cell_type": "code",
   "execution_count": 50,
   "metadata": {},
   "outputs": [],
   "source": [
    "gb_count = (\n",
    "    dfs_concat\n",
    "    .fillna('')\n",
    "    .groupby(['month', 'day', 'hour', 'type_', 'start_stop_alige', 'status_ok_or_not'])\n",
    "    [['date']]\n",
    "    .count()\n",
    "    .rename(columns={'date': 'count'})\n",
    "    .reset_index()\n",
    ")"
   ]
  },
  {
   "cell_type": "markdown",
   "metadata": {},
   "source": [
    "### кол-во запросов"
   ]
  },
  {
   "cell_type": "code",
   "execution_count": 51,
   "metadata": {},
   "outputs": [],
   "source": [
    "gb_count['date'] = [\n",
    "    datetime.datetime(2020, month, day, hour)\n",
    "    for month, day, hour in gb_count[['month', 'day', 'hour']].values\n",
    "]"
   ]
  },
  {
   "cell_type": "code",
   "execution_count": 55,
   "metadata": {},
   "outputs": [],
   "source": [
    "gb_count_pivot = pd.merge(\n",
    "    (\n",
    "        gb_count\n",
    "        .pivot_table(index='date', columns='start_stop_alige', values='count', aggfunc='sum')\n",
    "        .add_prefix('start_stop_alige_count_')\n",
    "    ),\n",
    "    (\n",
    "        gb_count\n",
    "        .pivot_table(index='date', columns='type_', values='count', aggfunc='sum')\n",
    "        .add_prefix('type__count_')),\n",
    "    left_index=True,\n",
    "    right_index=True\n",
    ")"
   ]
  },
  {
   "cell_type": "code",
   "execution_count": 57,
   "metadata": {},
   "outputs": [
    {
     "data": {
      "text/html": [
       "<div>\n",
       "<style scoped>\n",
       "    .dataframe tbody tr th:only-of-type {\n",
       "        vertical-align: middle;\n",
       "    }\n",
       "\n",
       "    .dataframe tbody tr th {\n",
       "        vertical-align: top;\n",
       "    }\n",
       "\n",
       "    .dataframe thead th {\n",
       "        text-align: right;\n",
       "    }\n",
       "</style>\n",
       "<table border=\"1\" class=\"dataframe\">\n",
       "  <thead>\n",
       "    <tr style=\"text-align: right;\">\n",
       "      <th></th>\n",
       "      <th>start_stop_alige_count_</th>\n",
       "      <th>start_stop_alige_count_Alive</th>\n",
       "      <th>start_stop_alige_count_Start</th>\n",
       "      <th>start_stop_alige_count_Stop</th>\n",
       "      <th>type__count_Billing-Accounting</th>\n",
       "      <th>type__count_Billing-Authentication</th>\n",
       "    </tr>\n",
       "    <tr>\n",
       "      <th>date</th>\n",
       "      <th></th>\n",
       "      <th></th>\n",
       "      <th></th>\n",
       "      <th></th>\n",
       "      <th></th>\n",
       "      <th></th>\n",
       "    </tr>\n",
       "  </thead>\n",
       "  <tbody>\n",
       "    <tr>\n",
       "      <th>2020-04-22 00:00:00</th>\n",
       "      <td>33085</td>\n",
       "      <td>179362</td>\n",
       "      <td>22712</td>\n",
       "      <td>22388</td>\n",
       "      <td>239344</td>\n",
       "      <td>18203</td>\n",
       "    </tr>\n",
       "    <tr>\n",
       "      <th>2020-04-22 01:00:00</th>\n",
       "      <td>38363</td>\n",
       "      <td>209859</td>\n",
       "      <td>25201</td>\n",
       "      <td>19882</td>\n",
       "      <td>271724</td>\n",
       "      <td>21581</td>\n",
       "    </tr>\n",
       "  </tbody>\n",
       "</table>\n",
       "</div>"
      ],
      "text/plain": [
       "                     start_stop_alige_count_  start_stop_alige_count_Alive  \\\n",
       "date                                                                         \n",
       "2020-04-22 00:00:00                    33085                        179362   \n",
       "2020-04-22 01:00:00                    38363                        209859   \n",
       "\n",
       "                     start_stop_alige_count_Start  \\\n",
       "date                                                \n",
       "2020-04-22 00:00:00                         22712   \n",
       "2020-04-22 01:00:00                         25201   \n",
       "\n",
       "                     start_stop_alige_count_Stop  \\\n",
       "date                                               \n",
       "2020-04-22 00:00:00                        22388   \n",
       "2020-04-22 01:00:00                        19882   \n",
       "\n",
       "                     type__count_Billing-Accounting  \\\n",
       "date                                                  \n",
       "2020-04-22 00:00:00                          239344   \n",
       "2020-04-22 01:00:00                          271724   \n",
       "\n",
       "                     type__count_Billing-Authentication  \n",
       "date                                                     \n",
       "2020-04-22 00:00:00                               18203  \n",
       "2020-04-22 01:00:00                               21581  "
      ]
     },
     "execution_count": 57,
     "metadata": {},
     "output_type": "execute_result"
    }
   ],
   "source": [
    "gb_count_pivot.head(2)"
   ]
  },
  {
   "cell_type": "code",
   "execution_count": 61,
   "metadata": {},
   "outputs": [
    {
     "data": {
      "text/html": [
       "<div>\n",
       "<style scoped>\n",
       "    .dataframe tbody tr th:only-of-type {\n",
       "        vertical-align: middle;\n",
       "    }\n",
       "\n",
       "    .dataframe tbody tr th {\n",
       "        vertical-align: top;\n",
       "    }\n",
       "\n",
       "    .dataframe thead th {\n",
       "        text-align: right;\n",
       "    }\n",
       "</style>\n",
       "<table border=\"1\" class=\"dataframe\">\n",
       "  <thead>\n",
       "    <tr style=\"text-align: right;\">\n",
       "      <th></th>\n",
       "      <th>month</th>\n",
       "      <th>day</th>\n",
       "      <th>hour</th>\n",
       "      <th>type_</th>\n",
       "      <th>start_stop_alige</th>\n",
       "      <th>status_ok_or_not</th>\n",
       "      <th>count</th>\n",
       "      <th>date</th>\n",
       "    </tr>\n",
       "  </thead>\n",
       "  <tbody>\n",
       "    <tr>\n",
       "      <th>0</th>\n",
       "      <td>4</td>\n",
       "      <td>22</td>\n",
       "      <td>0</td>\n",
       "      <td>Billing-Accounting</td>\n",
       "      <td></td>\n",
       "      <td>OK Skiped due to traffic limit</td>\n",
       "      <td>14882</td>\n",
       "      <td>2020-04-22</td>\n",
       "    </tr>\n",
       "    <tr>\n",
       "      <th>1</th>\n",
       "      <td>4</td>\n",
       "      <td>22</td>\n",
       "      <td>0</td>\n",
       "      <td>Billing-Accounting</td>\n",
       "      <td>Alive</td>\n",
       "      <td>OK</td>\n",
       "      <td>179362</td>\n",
       "      <td>2020-04-22</td>\n",
       "    </tr>\n",
       "    <tr>\n",
       "      <th>2</th>\n",
       "      <td>4</td>\n",
       "      <td>22</td>\n",
       "      <td>0</td>\n",
       "      <td>Billing-Accounting</td>\n",
       "      <td>Start</td>\n",
       "      <td>OK</td>\n",
       "      <td>22712</td>\n",
       "      <td>2020-04-22</td>\n",
       "    </tr>\n",
       "    <tr>\n",
       "      <th>3</th>\n",
       "      <td>4</td>\n",
       "      <td>22</td>\n",
       "      <td>0</td>\n",
       "      <td>Billing-Accounting</td>\n",
       "      <td>Stop</td>\n",
       "      <td>FAILED Tarification error.&lt;SQL&gt;ORA-20001: ORA-...</td>\n",
       "      <td>34</td>\n",
       "      <td>2020-04-22</td>\n",
       "    </tr>\n",
       "    <tr>\n",
       "      <th>4</th>\n",
       "      <td>4</td>\n",
       "      <td>22</td>\n",
       "      <td>0</td>\n",
       "      <td>Billing-Accounting</td>\n",
       "      <td>Stop</td>\n",
       "      <td>OK</td>\n",
       "      <td>22354</td>\n",
       "      <td>2020-04-22</td>\n",
       "    </tr>\n",
       "  </tbody>\n",
       "</table>\n",
       "</div>"
      ],
      "text/plain": [
       "   month  day  hour               type_ start_stop_alige  \\\n",
       "0      4   22     0  Billing-Accounting                    \n",
       "1      4   22     0  Billing-Accounting            Alive   \n",
       "2      4   22     0  Billing-Accounting            Start   \n",
       "3      4   22     0  Billing-Accounting             Stop   \n",
       "4      4   22     0  Billing-Accounting             Stop   \n",
       "\n",
       "                                    status_ok_or_not   count       date  \n",
       "0                     OK Skiped due to traffic limit   14882 2020-04-22  \n",
       "1                                                 OK  179362 2020-04-22  \n",
       "2                                                 OK   22712 2020-04-22  \n",
       "3  FAILED Tarification error.<SQL>ORA-20001: ORA-...      34 2020-04-22  \n",
       "4                                                 OK   22354 2020-04-22  "
      ]
     },
     "execution_count": 61,
     "metadata": {},
     "output_type": "execute_result"
    }
   ],
   "source": [
    "gb_count.head()"
   ]
  },
  {
   "cell_type": "markdown",
   "metadata": {},
   "source": [
    "### mean_delay"
   ]
  },
  {
   "cell_type": "code",
   "execution_count": 65,
   "metadata": {
    "scrolled": true
   },
   "outputs": [],
   "source": [
    "gb_mean_delay = (\n",
    "    dfs_concat\n",
    "    [['month', 'day', 'hour', 'delay']]\n",
    "    .dropna()\n",
    "    .groupby(['month', 'day', 'hour'])\n",
    "    [['delay']]\n",
    "    .mean()\n",
    "    .rename(columns={'delay': 'mean_delay'})\n",
    "    .reset_index()\n",
    ")\n",
    "gb_mean_delay['date'] = [\n",
    "    datetime.datetime(2020, month, day, hour)\n",
    "    for month, day, hour in gb_mean_delay[['month', 'day', 'hour']].values\n",
    "]\n",
    "gb_mean_delay = gb_mean_delay[['date', 'mean_delay']].set_index('date')"
   ]
  },
  {
   "cell_type": "code",
   "execution_count": 66,
   "metadata": {},
   "outputs": [
    {
     "data": {
      "text/html": [
       "<div>\n",
       "<style scoped>\n",
       "    .dataframe tbody tr th:only-of-type {\n",
       "        vertical-align: middle;\n",
       "    }\n",
       "\n",
       "    .dataframe tbody tr th {\n",
       "        vertical-align: top;\n",
       "    }\n",
       "\n",
       "    .dataframe thead th {\n",
       "        text-align: right;\n",
       "    }\n",
       "</style>\n",
       "<table border=\"1\" class=\"dataframe\">\n",
       "  <thead>\n",
       "    <tr style=\"text-align: right;\">\n",
       "      <th></th>\n",
       "      <th>mean_delay</th>\n",
       "    </tr>\n",
       "    <tr>\n",
       "      <th>date</th>\n",
       "      <th></th>\n",
       "    </tr>\n",
       "  </thead>\n",
       "  <tbody>\n",
       "    <tr>\n",
       "      <th>2020-04-22 00:00:00</th>\n",
       "      <td>0.269718</td>\n",
       "    </tr>\n",
       "    <tr>\n",
       "      <th>2020-04-22 01:00:00</th>\n",
       "      <td>0.218330</td>\n",
       "    </tr>\n",
       "    <tr>\n",
       "      <th>2020-04-22 02:00:00</th>\n",
       "      <td>0.216456</td>\n",
       "    </tr>\n",
       "    <tr>\n",
       "      <th>2020-04-22 03:00:00</th>\n",
       "      <td>0.212232</td>\n",
       "    </tr>\n",
       "    <tr>\n",
       "      <th>2020-04-22 04:00:00</th>\n",
       "      <td>0.214075</td>\n",
       "    </tr>\n",
       "  </tbody>\n",
       "</table>\n",
       "</div>"
      ],
      "text/plain": [
       "                     mean_delay\n",
       "date                           \n",
       "2020-04-22 00:00:00    0.269718\n",
       "2020-04-22 01:00:00    0.218330\n",
       "2020-04-22 02:00:00    0.216456\n",
       "2020-04-22 03:00:00    0.212232\n",
       "2020-04-22 04:00:00    0.214075"
      ]
     },
     "execution_count": 66,
     "metadata": {},
     "output_type": "execute_result"
    }
   ],
   "source": [
    "gb_mean_delay.head()"
   ]
  },
  {
   "cell_type": "markdown",
   "metadata": {},
   "source": [
    "### mean_trafic"
   ]
  },
  {
   "cell_type": "code",
   "execution_count": 69,
   "metadata": {
    "scrolled": true
   },
   "outputs": [],
   "source": [
    "gb_mean_trafic = (\n",
    "    dfs_concat\n",
    "    [['month', 'day', 'hour', 'input_trafic', 'output_trafic']]\n",
    "    .dropna()\n",
    "    .groupby(['month', 'day', 'hour'])\n",
    "    [['input_trafic', 'output_trafic']]\n",
    "    .mean()\n",
    "    .add_prefix('mean_')\n",
    "    .reset_index()\n",
    ")\n",
    "gb_mean_trafic['date'] = [\n",
    "    datetime.datetime(2020, month, day, hour)\n",
    "    for month, day, hour in gb_mean_trafic[['month', 'day', 'hour']].values\n",
    "]\n",
    "gb_mean_trafic = gb_mean_trafic[['date', 'mean_input_trafic', 'mean_output_trafic']].set_index('date')"
   ]
  },
  {
   "cell_type": "code",
   "execution_count": 70,
   "metadata": {},
   "outputs": [
    {
     "data": {
      "text/html": [
       "<div>\n",
       "<style scoped>\n",
       "    .dataframe tbody tr th:only-of-type {\n",
       "        vertical-align: middle;\n",
       "    }\n",
       "\n",
       "    .dataframe tbody tr th {\n",
       "        vertical-align: top;\n",
       "    }\n",
       "\n",
       "    .dataframe thead th {\n",
       "        text-align: right;\n",
       "    }\n",
       "</style>\n",
       "<table border=\"1\" class=\"dataframe\">\n",
       "  <thead>\n",
       "    <tr style=\"text-align: right;\">\n",
       "      <th></th>\n",
       "      <th>mean_input_trafic</th>\n",
       "      <th>mean_output_trafic</th>\n",
       "    </tr>\n",
       "    <tr>\n",
       "      <th>date</th>\n",
       "      <th></th>\n",
       "      <th></th>\n",
       "    </tr>\n",
       "  </thead>\n",
       "  <tbody>\n",
       "    <tr>\n",
       "      <th>2020-04-22 00:00:00</th>\n",
       "      <td>2.907789e+09</td>\n",
       "      <td>1.262401e+10</td>\n",
       "    </tr>\n",
       "    <tr>\n",
       "      <th>2020-04-22 01:00:00</th>\n",
       "      <td>2.943544e+09</td>\n",
       "      <td>1.333590e+10</td>\n",
       "    </tr>\n",
       "    <tr>\n",
       "      <th>2020-04-22 02:00:00</th>\n",
       "      <td>3.674643e+09</td>\n",
       "      <td>1.501675e+10</td>\n",
       "    </tr>\n",
       "    <tr>\n",
       "      <th>2020-04-22 03:00:00</th>\n",
       "      <td>2.706126e+09</td>\n",
       "      <td>1.293037e+10</td>\n",
       "    </tr>\n",
       "    <tr>\n",
       "      <th>2020-04-22 04:00:00</th>\n",
       "      <td>4.032782e+09</td>\n",
       "      <td>1.616832e+10</td>\n",
       "    </tr>\n",
       "  </tbody>\n",
       "</table>\n",
       "</div>"
      ],
      "text/plain": [
       "                     mean_input_trafic  mean_output_trafic\n",
       "date                                                      \n",
       "2020-04-22 00:00:00       2.907789e+09        1.262401e+10\n",
       "2020-04-22 01:00:00       2.943544e+09        1.333590e+10\n",
       "2020-04-22 02:00:00       3.674643e+09        1.501675e+10\n",
       "2020-04-22 03:00:00       2.706126e+09        1.293037e+10\n",
       "2020-04-22 04:00:00       4.032782e+09        1.616832e+10"
      ]
     },
     "execution_count": 70,
     "metadata": {},
     "output_type": "execute_result"
    }
   ],
   "source": [
    "gb_mean_trafic.head()"
   ]
  },
  {
   "cell_type": "markdown",
   "metadata": {},
   "source": [
    "### failed"
   ]
  },
  {
   "cell_type": "code",
   "execution_count": 83,
   "metadata": {},
   "outputs": [
    {
     "name": "stderr",
     "output_type": "stream",
     "text": [
      "/opt/anaconda3/lib/python3.7/site-packages/ipykernel_launcher.py:2: SettingWithCopyWarning: \n",
      "A value is trying to be set on a copy of a slice from a DataFrame.\n",
      "Try using .loc[row_indexer,col_indexer] = value instead\n",
      "\n",
      "See the caveats in the documentation: https://pandas.pydata.org/pandas-docs/stable/user_guide/indexing.html#returning-a-view-versus-a-copy\n",
      "  \n"
     ]
    }
   ],
   "source": [
    "df_failed = dfs_concat[['month', 'day', 'hour', 'status_ok_or_not']]\n",
    "df_failed['failed'] = [int('FAILED' in x) for x in df_failed['status_ok_or_not']]"
   ]
  },
  {
   "cell_type": "code",
   "execution_count": 87,
   "metadata": {
    "scrolled": true
   },
   "outputs": [],
   "source": [
    "gb_failed_count = (\n",
    "    df_failed\n",
    "    [['month', 'day', 'hour', 'failed']]\n",
    "    .groupby(['month', 'day', 'hour'])\n",
    "    [['failed']]\n",
    "    .sum()\n",
    "    .add_prefix('count_')\n",
    "    .reset_index()\n",
    ")\n",
    "gb_failed_count['date'] = [\n",
    "    datetime.datetime(2020, month, day, hour)\n",
    "    for month, day, hour in gb_failed_count[['month', 'day', 'hour']].values\n",
    "]\n",
    "gb_failed_count = gb_failed_count[['date', 'count_failed']].set_index('date')"
   ]
  },
  {
   "cell_type": "code",
   "execution_count": 89,
   "metadata": {},
   "outputs": [
    {
     "data": {
      "text/html": [
       "<div>\n",
       "<style scoped>\n",
       "    .dataframe tbody tr th:only-of-type {\n",
       "        vertical-align: middle;\n",
       "    }\n",
       "\n",
       "    .dataframe tbody tr th {\n",
       "        vertical-align: top;\n",
       "    }\n",
       "\n",
       "    .dataframe thead th {\n",
       "        text-align: right;\n",
       "    }\n",
       "</style>\n",
       "<table border=\"1\" class=\"dataframe\">\n",
       "  <thead>\n",
       "    <tr style=\"text-align: right;\">\n",
       "      <th></th>\n",
       "      <th>count_failed</th>\n",
       "    </tr>\n",
       "    <tr>\n",
       "      <th>date</th>\n",
       "      <th></th>\n",
       "    </tr>\n",
       "  </thead>\n",
       "  <tbody>\n",
       "    <tr>\n",
       "      <th>2020-04-22 00:00:00</th>\n",
       "      <td>2011</td>\n",
       "    </tr>\n",
       "    <tr>\n",
       "      <th>2020-04-22 01:00:00</th>\n",
       "      <td>2517</td>\n",
       "    </tr>\n",
       "    <tr>\n",
       "      <th>2020-04-22 02:00:00</th>\n",
       "      <td>2487</td>\n",
       "    </tr>\n",
       "    <tr>\n",
       "      <th>2020-04-22 03:00:00</th>\n",
       "      <td>2536</td>\n",
       "    </tr>\n",
       "    <tr>\n",
       "      <th>2020-04-22 04:00:00</th>\n",
       "      <td>2492</td>\n",
       "    </tr>\n",
       "  </tbody>\n",
       "</table>\n",
       "</div>"
      ],
      "text/plain": [
       "                     count_failed\n",
       "date                             \n",
       "2020-04-22 00:00:00          2011\n",
       "2020-04-22 01:00:00          2517\n",
       "2020-04-22 02:00:00          2487\n",
       "2020-04-22 03:00:00          2536\n",
       "2020-04-22 04:00:00          2492"
      ]
     },
     "execution_count": 89,
     "metadata": {},
     "output_type": "execute_result"
    }
   ],
   "source": [
    "gb_failed_count.head()"
   ]
  },
  {
   "cell_type": "code",
   "execution_count": 82,
   "metadata": {},
   "outputs": [
    {
     "data": {
      "text/plain": [
       "OK                                                              61478815\n",
       "OK Skiped due to traffic limit                                   5188949\n",
       "FAILED Service isn?t ON.                                          495751\n",
       "FAILED Not enough money on account.                                25340\n",
       "FAILED Authentication failure:\"Password match failure\"             22086\n",
       "FAILED Tarification error.<SQL>ORA-20001: ORA-20099: PKG-000       11874\n",
       "FAILED STOP on NORMAL closed session.                               3500\n",
       "FAILED Authentication failure:\"no Password or CHAP value-pai         577\n",
       "FAILED No username found                                             323\n",
       "FAILED Doubling session in TB_WTMPS.                                  80\n",
       "FAILED Session in work.                                               19\n",
       "FAILED ALIVE on NORMAL closed session.                                11\n",
       "FAILED Tarification error.<SQL>ORA-20001: ORA-00060: deadloc           1\n",
       "Name: status_ok_or_not, dtype: int64"
      ]
     },
     "execution_count": 82,
     "metadata": {},
     "output_type": "execute_result"
    }
   ],
   "source": [
    "dfs_concat['status_ok_or_not'].value_counts()"
   ]
  },
  {
   "cell_type": "markdown",
   "metadata": {},
   "source": [
    "### Итого"
   ]
  },
  {
   "cell_type": "code",
   "execution_count": 90,
   "metadata": {},
   "outputs": [],
   "source": [
    "gb_total = pd.concat(\n",
    "    [gb_count_pivot, gb_mean_delay, gb_mean_trafic, gb_failed_count],\n",
    "    axis=1\n",
    ").sort_index()"
   ]
  },
  {
   "cell_type": "code",
   "execution_count": 91,
   "metadata": {},
   "outputs": [
    {
     "data": {
      "text/plain": [
       "((217, 10), (217, 10))"
      ]
     },
     "execution_count": 91,
     "metadata": {},
     "output_type": "execute_result"
    }
   ],
   "source": [
    "gb_total.shape, gb_total.dropna().shape"
   ]
  },
  {
   "cell_type": "code",
   "execution_count": 92,
   "metadata": {},
   "outputs": [
    {
     "data": {
      "text/html": [
       "<div>\n",
       "<style scoped>\n",
       "    .dataframe tbody tr th:only-of-type {\n",
       "        vertical-align: middle;\n",
       "    }\n",
       "\n",
       "    .dataframe tbody tr th {\n",
       "        vertical-align: top;\n",
       "    }\n",
       "\n",
       "    .dataframe thead th {\n",
       "        text-align: right;\n",
       "    }\n",
       "</style>\n",
       "<table border=\"1\" class=\"dataframe\">\n",
       "  <thead>\n",
       "    <tr style=\"text-align: right;\">\n",
       "      <th></th>\n",
       "      <th>start_stop_alige_count_</th>\n",
       "      <th>start_stop_alige_count_Alive</th>\n",
       "      <th>start_stop_alige_count_Start</th>\n",
       "      <th>start_stop_alige_count_Stop</th>\n",
       "      <th>type__count_Billing-Accounting</th>\n",
       "      <th>type__count_Billing-Authentication</th>\n",
       "      <th>mean_delay</th>\n",
       "      <th>mean_input_trafic</th>\n",
       "      <th>mean_output_trafic</th>\n",
       "      <th>count_failed</th>\n",
       "    </tr>\n",
       "    <tr>\n",
       "      <th>date</th>\n",
       "      <th></th>\n",
       "      <th></th>\n",
       "      <th></th>\n",
       "      <th></th>\n",
       "      <th></th>\n",
       "      <th></th>\n",
       "      <th></th>\n",
       "      <th></th>\n",
       "      <th></th>\n",
       "      <th></th>\n",
       "    </tr>\n",
       "  </thead>\n",
       "  <tbody>\n",
       "    <tr>\n",
       "      <th>2020-04-22 00:00:00</th>\n",
       "      <td>33085</td>\n",
       "      <td>179362</td>\n",
       "      <td>22712</td>\n",
       "      <td>22388</td>\n",
       "      <td>239344</td>\n",
       "      <td>18203</td>\n",
       "      <td>0.269718</td>\n",
       "      <td>2.907789e+09</td>\n",
       "      <td>1.262401e+10</td>\n",
       "      <td>2011</td>\n",
       "    </tr>\n",
       "    <tr>\n",
       "      <th>2020-04-22 01:00:00</th>\n",
       "      <td>38363</td>\n",
       "      <td>209859</td>\n",
       "      <td>25201</td>\n",
       "      <td>19882</td>\n",
       "      <td>271724</td>\n",
       "      <td>21581</td>\n",
       "      <td>0.218330</td>\n",
       "      <td>2.943544e+09</td>\n",
       "      <td>1.333590e+10</td>\n",
       "      <td>2517</td>\n",
       "    </tr>\n",
       "    <tr>\n",
       "      <th>2020-04-22 02:00:00</th>\n",
       "      <td>37253</td>\n",
       "      <td>169129</td>\n",
       "      <td>24801</td>\n",
       "      <td>15142</td>\n",
       "      <td>225489</td>\n",
       "      <td>20836</td>\n",
       "      <td>0.216456</td>\n",
       "      <td>3.674643e+09</td>\n",
       "      <td>1.501675e+10</td>\n",
       "      <td>2487</td>\n",
       "    </tr>\n",
       "    <tr>\n",
       "      <th>2020-04-22 03:00:00</th>\n",
       "      <td>37810</td>\n",
       "      <td>155948</td>\n",
       "      <td>29919</td>\n",
       "      <td>16784</td>\n",
       "      <td>219988</td>\n",
       "      <td>20473</td>\n",
       "      <td>0.212232</td>\n",
       "      <td>2.706126e+09</td>\n",
       "      <td>1.293037e+10</td>\n",
       "      <td>2536</td>\n",
       "    </tr>\n",
       "    <tr>\n",
       "      <th>2020-04-22 04:00:00</th>\n",
       "      <td>36532</td>\n",
       "      <td>158745</td>\n",
       "      <td>26027</td>\n",
       "      <td>11468</td>\n",
       "      <td>212599</td>\n",
       "      <td>20173</td>\n",
       "      <td>0.214075</td>\n",
       "      <td>4.032782e+09</td>\n",
       "      <td>1.616832e+10</td>\n",
       "      <td>2492</td>\n",
       "    </tr>\n",
       "  </tbody>\n",
       "</table>\n",
       "</div>"
      ],
      "text/plain": [
       "                     start_stop_alige_count_  start_stop_alige_count_Alive  \\\n",
       "date                                                                         \n",
       "2020-04-22 00:00:00                    33085                        179362   \n",
       "2020-04-22 01:00:00                    38363                        209859   \n",
       "2020-04-22 02:00:00                    37253                        169129   \n",
       "2020-04-22 03:00:00                    37810                        155948   \n",
       "2020-04-22 04:00:00                    36532                        158745   \n",
       "\n",
       "                     start_stop_alige_count_Start  \\\n",
       "date                                                \n",
       "2020-04-22 00:00:00                         22712   \n",
       "2020-04-22 01:00:00                         25201   \n",
       "2020-04-22 02:00:00                         24801   \n",
       "2020-04-22 03:00:00                         29919   \n",
       "2020-04-22 04:00:00                         26027   \n",
       "\n",
       "                     start_stop_alige_count_Stop  \\\n",
       "date                                               \n",
       "2020-04-22 00:00:00                        22388   \n",
       "2020-04-22 01:00:00                        19882   \n",
       "2020-04-22 02:00:00                        15142   \n",
       "2020-04-22 03:00:00                        16784   \n",
       "2020-04-22 04:00:00                        11468   \n",
       "\n",
       "                     type__count_Billing-Accounting  \\\n",
       "date                                                  \n",
       "2020-04-22 00:00:00                          239344   \n",
       "2020-04-22 01:00:00                          271724   \n",
       "2020-04-22 02:00:00                          225489   \n",
       "2020-04-22 03:00:00                          219988   \n",
       "2020-04-22 04:00:00                          212599   \n",
       "\n",
       "                     type__count_Billing-Authentication  mean_delay  \\\n",
       "date                                                                  \n",
       "2020-04-22 00:00:00                               18203    0.269718   \n",
       "2020-04-22 01:00:00                               21581    0.218330   \n",
       "2020-04-22 02:00:00                               20836    0.216456   \n",
       "2020-04-22 03:00:00                               20473    0.212232   \n",
       "2020-04-22 04:00:00                               20173    0.214075   \n",
       "\n",
       "                     mean_input_trafic  mean_output_trafic  count_failed  \n",
       "date                                                                      \n",
       "2020-04-22 00:00:00       2.907789e+09        1.262401e+10          2011  \n",
       "2020-04-22 01:00:00       2.943544e+09        1.333590e+10          2517  \n",
       "2020-04-22 02:00:00       3.674643e+09        1.501675e+10          2487  \n",
       "2020-04-22 03:00:00       2.706126e+09        1.293037e+10          2536  \n",
       "2020-04-22 04:00:00       4.032782e+09        1.616832e+10          2492  "
      ]
     },
     "execution_count": 92,
     "metadata": {},
     "output_type": "execute_result"
    }
   ],
   "source": [
    "gb_total.head()"
   ]
  },
  {
   "cell_type": "code",
   "execution_count": 93,
   "metadata": {},
   "outputs": [],
   "source": [
    "gb_total.to_csv('gb_total.csv')"
   ]
  },
  {
   "cell_type": "markdown",
   "metadata": {},
   "source": [
    "# 3. Агрегируем по часам/пользователям"
   ]
  },
  {
   "cell_type": "code",
   "execution_count": 4,
   "metadata": {},
   "outputs": [
    {
     "data": {
      "application/vnd.jupyter.widget-view+json": {
       "model_id": "9b9f2857fedf4b2194bce7fac209119a",
       "version_major": 2,
       "version_minor": 0
      },
      "text/plain": [
       "HBox(children=(FloatProgress(value=0.0, max=9.0), HTML(value='')))"
      ]
     },
     "metadata": {},
     "output_type": "display_data"
    },
    {
     "name": "stdout",
     "output_type": "stream",
     "text": [
      "\n"
     ]
    }
   ],
   "source": [
    "dfs = []\n",
    "for i in tqdm(range(1, 10)):\n",
    "    dfs.append(\n",
    "        pd.read_csv(f'parsed_radius_log_{i}.csv')\n",
    "        [['date', 'логин_абонента', 'type_', 'start_stop_alige', 'status_ok_or_not', 'delay', 'input_trafic', 'output_trafic']]\n",
    "    )\n",
    "dfs_concat = pd.concat(dfs)"
   ]
  },
  {
   "cell_type": "code",
   "execution_count": 12,
   "metadata": {},
   "outputs": [
    {
     "data": {
      "application/vnd.jupyter.widget-view+json": {
       "model_id": "b755c23443484dff85718b75937908d4",
       "version_major": 2,
       "version_minor": 0
      },
      "text/plain": [
       "HBox(children=(FloatProgress(value=0.0, max=65030725.0), HTML(value='')))"
      ]
     },
     "metadata": {},
     "output_type": "display_data"
    },
    {
     "name": "stdout",
     "output_type": "stream",
     "text": [
      "\n"
     ]
    }
   ],
   "source": [
    "dfs_concat['day-hour'] = [x[5:13] for x in tqdm(dfs_concat['date'].values)]"
   ]
  },
  {
   "cell_type": "code",
   "execution_count": 14,
   "metadata": {},
   "outputs": [],
   "source": [
    "dfs_concat['stop'] = (dfs_concat['start_stop_alige'] == 'Stop').astype(int)"
   ]
  },
  {
   "cell_type": "code",
   "execution_count": 16,
   "metadata": {},
   "outputs": [],
   "source": [
    "dfs_concat['trafic_input_zero'] = (dfs_concat['input_trafic'] == 0).astype(int)\n",
    "dfs_concat['trafic_output_zero'] = (dfs_concat['output_trafic'] == 0).astype(int)"
   ]
  },
  {
   "cell_type": "code",
   "execution_count": 15,
   "metadata": {},
   "outputs": [
    {
     "data": {
      "application/vnd.jupyter.widget-view+json": {
       "model_id": "a961d63a9e144e86a2a9dd7ecae23bab",
       "version_major": 2,
       "version_minor": 0
      },
      "text/plain": [
       "HBox(children=(FloatProgress(value=0.0, max=65030725.0), HTML(value='')))"
      ]
     },
     "metadata": {},
     "output_type": "display_data"
    },
    {
     "name": "stdout",
     "output_type": "stream",
     "text": [
      "\n"
     ]
    }
   ],
   "source": [
    "dfs_concat['failed'] = [int('FAILED' in x) for x in tqdm(dfs_concat['status_ok_or_not'].values)]"
   ]
  },
  {
   "cell_type": "code",
   "execution_count": 17,
   "metadata": {},
   "outputs": [
    {
     "data": {
      "text/html": [
       "<div>\n",
       "<style scoped>\n",
       "    .dataframe tbody tr th:only-of-type {\n",
       "        vertical-align: middle;\n",
       "    }\n",
       "\n",
       "    .dataframe tbody tr th {\n",
       "        vertical-align: top;\n",
       "    }\n",
       "\n",
       "    .dataframe thead th {\n",
       "        text-align: right;\n",
       "    }\n",
       "</style>\n",
       "<table border=\"1\" class=\"dataframe\">\n",
       "  <thead>\n",
       "    <tr style=\"text-align: right;\">\n",
       "      <th></th>\n",
       "      <th>date</th>\n",
       "      <th>логин_абонента</th>\n",
       "      <th>type_</th>\n",
       "      <th>start_stop_alige</th>\n",
       "      <th>status_ok_or_not</th>\n",
       "      <th>delay</th>\n",
       "      <th>input_trafic</th>\n",
       "      <th>output_trafic</th>\n",
       "      <th>day-hour</th>\n",
       "      <th>stop</th>\n",
       "      <th>failed</th>\n",
       "      <th>trafic_input_zero</th>\n",
       "      <th>trafic_output_zero</th>\n",
       "    </tr>\n",
       "  </thead>\n",
       "  <tbody>\n",
       "    <tr>\n",
       "      <th>0</th>\n",
       "      <td>2020-05-02 00:11:14</td>\n",
       "      <td>rSTKIoB9@pppoe</td>\n",
       "      <td>Billing-Accounting</td>\n",
       "      <td>Alive</td>\n",
       "      <td>OK</td>\n",
       "      <td>0.357546</td>\n",
       "      <td>1.080459e+10</td>\n",
       "      <td>1.719260e+11</td>\n",
       "      <td>05-02 00</td>\n",
       "      <td>0</td>\n",
       "      <td>0</td>\n",
       "      <td>0</td>\n",
       "      <td>0</td>\n",
       "    </tr>\n",
       "    <tr>\n",
       "      <th>1</th>\n",
       "      <td>2020-05-02 00:11:14</td>\n",
       "      <td>GBRFnJAM@pppoe</td>\n",
       "      <td>Billing-Accounting</td>\n",
       "      <td>Alive</td>\n",
       "      <td>OK</td>\n",
       "      <td>0.273068</td>\n",
       "      <td>2.989776e+06</td>\n",
       "      <td>7.382877e+07</td>\n",
       "      <td>05-02 00</td>\n",
       "      <td>0</td>\n",
       "      <td>0</td>\n",
       "      <td>0</td>\n",
       "      <td>0</td>\n",
       "    </tr>\n",
       "    <tr>\n",
       "      <th>2</th>\n",
       "      <td>2020-05-02 00:11:14</td>\n",
       "      <td>OAXHLWA9@pppoe</td>\n",
       "      <td>Billing-Accounting</td>\n",
       "      <td>Alive</td>\n",
       "      <td>OK</td>\n",
       "      <td>0.240214</td>\n",
       "      <td>5.977762e+09</td>\n",
       "      <td>5.027136e+10</td>\n",
       "      <td>05-02 00</td>\n",
       "      <td>0</td>\n",
       "      <td>0</td>\n",
       "      <td>0</td>\n",
       "      <td>0</td>\n",
       "    </tr>\n",
       "    <tr>\n",
       "      <th>3</th>\n",
       "      <td>2020-05-02 00:11:14</td>\n",
       "      <td>GBRFnJAM@pppoe</td>\n",
       "      <td>Billing-Accounting</td>\n",
       "      <td>Alive</td>\n",
       "      <td>OK</td>\n",
       "      <td>0.280033</td>\n",
       "      <td>9.250671e+06</td>\n",
       "      <td>3.035413e+08</td>\n",
       "      <td>05-02 00</td>\n",
       "      <td>0</td>\n",
       "      <td>0</td>\n",
       "      <td>0</td>\n",
       "      <td>0</td>\n",
       "    </tr>\n",
       "    <tr>\n",
       "      <th>4</th>\n",
       "      <td>2020-05-02 00:11:14</td>\n",
       "      <td>Wssgg9-W@pppoe</td>\n",
       "      <td>Billing-Accounting</td>\n",
       "      <td>Alive</td>\n",
       "      <td>OK</td>\n",
       "      <td>0.282596</td>\n",
       "      <td>2.394997e+06</td>\n",
       "      <td>7.930324e+07</td>\n",
       "      <td>05-02 00</td>\n",
       "      <td>0</td>\n",
       "      <td>0</td>\n",
       "      <td>0</td>\n",
       "      <td>0</td>\n",
       "    </tr>\n",
       "  </tbody>\n",
       "</table>\n",
       "</div>"
      ],
      "text/plain": [
       "                  date  логин_абонента               type_ start_stop_alige  \\\n",
       "0  2020-05-02 00:11:14  rSTKIoB9@pppoe  Billing-Accounting            Alive   \n",
       "1  2020-05-02 00:11:14  GBRFnJAM@pppoe  Billing-Accounting            Alive   \n",
       "2  2020-05-02 00:11:14  OAXHLWA9@pppoe  Billing-Accounting            Alive   \n",
       "3  2020-05-02 00:11:14  GBRFnJAM@pppoe  Billing-Accounting            Alive   \n",
       "4  2020-05-02 00:11:14  Wssgg9-W@pppoe  Billing-Accounting            Alive   \n",
       "\n",
       "  status_ok_or_not     delay  input_trafic  output_trafic  day-hour  stop  \\\n",
       "0               OK  0.357546  1.080459e+10   1.719260e+11  05-02 00     0   \n",
       "1               OK  0.273068  2.989776e+06   7.382877e+07  05-02 00     0   \n",
       "2               OK  0.240214  5.977762e+09   5.027136e+10  05-02 00     0   \n",
       "3               OK  0.280033  9.250671e+06   3.035413e+08  05-02 00     0   \n",
       "4               OK  0.282596  2.394997e+06   7.930324e+07  05-02 00     0   \n",
       "\n",
       "   failed  trafic_input_zero  trafic_output_zero  \n",
       "0       0                  0                   0  \n",
       "1       0                  0                   0  \n",
       "2       0                  0                   0  \n",
       "3       0                  0                   0  \n",
       "4       0                  0                   0  "
      ]
     },
     "execution_count": 17,
     "metadata": {},
     "output_type": "execute_result"
    }
   ],
   "source": [
    "dfs_concat.head()"
   ]
  },
  {
   "cell_type": "code",
   "execution_count": 42,
   "metadata": {},
   "outputs": [
    {
     "data": {
      "text/plain": [
       "date                         0\n",
       "логин_абонента               0\n",
       "type_                        0\n",
       "start_stop_alige       9783898\n",
       "status_ok_or_not             0\n",
       "delay                  4795580\n",
       "input_trafic          19509616\n",
       "output_trafic         19509616\n",
       "day-hour                     0\n",
       "stop                         0\n",
       "failed                       0\n",
       "trafic_input_zero            0\n",
       "trafic_output_zero           0\n",
       "dtype: int64"
      ]
     },
     "execution_count": 42,
     "metadata": {},
     "output_type": "execute_result"
    }
   ],
   "source": [
    "dfs_concat.isnull().sum()"
   ]
  },
  {
   "cell_type": "code",
   "execution_count": 22,
   "metadata": {},
   "outputs": [],
   "source": [
    "gb_userlogin_hour = (\n",
    "    dfs_concat\n",
    "    .groupby(['логин_абонента', 'day-hour'])\n",
    "    [['stop', 'failed', 'trafic_input_zero', 'trafic_output_zero', 'input_trafic', 'output_trafic']]\n",
    "    .sum()\n",
    ")"
   ]
  },
  {
   "cell_type": "code",
   "execution_count": 25,
   "metadata": {},
   "outputs": [],
   "source": [
    "gb_userlogin_hour.reset_index().to_csv('gb_userlogin_hour.csv', index=False)"
   ]
  },
  {
   "cell_type": "code",
   "execution_count": 23,
   "metadata": {},
   "outputs": [
    {
     "data": {
      "text/plain": [
       "(10582045, 6)"
      ]
     },
     "execution_count": 23,
     "metadata": {},
     "output_type": "execute_result"
    }
   ],
   "source": [
    "gb_userlogin_hour.shape"
   ]
  },
  {
   "cell_type": "code",
   "execution_count": 40,
   "metadata": {},
   "outputs": [
    {
     "data": {
      "text/plain": [
       "dhcp             5562339\n",
       "pppoe            5008320\n",
       "CEbj.Cz.6V         10581\n",
       "CEbj.dI6Ed.6V        605\n",
       "wifiul               130\n",
       "FbmbVj                51\n",
       "startip_nn            15\n",
       "FFF.Cz.6V              4\n",
       "Name: логин_абонента, dtype: int64"
      ]
     },
     "execution_count": 40,
     "metadata": {},
     "output_type": "execute_result"
    }
   ],
   "source": [
    "gb_userlogin_hour.reset_index()['логин_абонента'].str.split('@').str[1].value_counts()"
   ]
  },
  {
   "cell_type": "code",
   "execution_count": 41,
   "metadata": {},
   "outputs": [
    {
     "data": {
      "text/html": [
       "<div>\n",
       "<style scoped>\n",
       "    .dataframe tbody tr th:only-of-type {\n",
       "        vertical-align: middle;\n",
       "    }\n",
       "\n",
       "    .dataframe tbody tr th {\n",
       "        vertical-align: top;\n",
       "    }\n",
       "\n",
       "    .dataframe thead th {\n",
       "        text-align: right;\n",
       "    }\n",
       "</style>\n",
       "<table border=\"1\" class=\"dataframe\">\n",
       "  <thead>\n",
       "    <tr style=\"text-align: right;\">\n",
       "      <th></th>\n",
       "      <th>логин_абонента</th>\n",
       "      <th>day-hour</th>\n",
       "      <th>stop</th>\n",
       "      <th>failed</th>\n",
       "      <th>trafic_input_zero</th>\n",
       "      <th>trafic_output_zero</th>\n",
       "      <th>input_trafic</th>\n",
       "      <th>output_trafic</th>\n",
       "    </tr>\n",
       "  </thead>\n",
       "  <tbody>\n",
       "    <tr>\n",
       "      <th>0</th>\n",
       "      <td>zzl1d098@pppoe</td>\n",
       "      <td>05-02 14</td>\n",
       "      <td>0</td>\n",
       "      <td>0</td>\n",
       "      <td>0</td>\n",
       "      <td>0</td>\n",
       "      <td>5.193323e+09</td>\n",
       "      <td>5.850485e+10</td>\n",
       "    </tr>\n",
       "    <tr>\n",
       "      <th>1</th>\n",
       "      <td>zzl1d098@pppoe</td>\n",
       "      <td>05-02 16</td>\n",
       "      <td>0</td>\n",
       "      <td>0</td>\n",
       "      <td>0</td>\n",
       "      <td>0</td>\n",
       "      <td>5.499853e+09</td>\n",
       "      <td>6.717188e+10</td>\n",
       "    </tr>\n",
       "    <tr>\n",
       "      <th>2</th>\n",
       "      <td>zzl1d098@pppoe</td>\n",
       "      <td>05-02 18</td>\n",
       "      <td>0</td>\n",
       "      <td>0</td>\n",
       "      <td>0</td>\n",
       "      <td>0</td>\n",
       "      <td>5.514587e+09</td>\n",
       "      <td>6.744701e+10</td>\n",
       "    </tr>\n",
       "    <tr>\n",
       "      <th>3</th>\n",
       "      <td>zzl1d098@pppoe</td>\n",
       "      <td>05-02 20</td>\n",
       "      <td>0</td>\n",
       "      <td>0</td>\n",
       "      <td>0</td>\n",
       "      <td>0</td>\n",
       "      <td>5.341497e+09</td>\n",
       "      <td>6.171147e+10</td>\n",
       "    </tr>\n",
       "    <tr>\n",
       "      <th>4</th>\n",
       "      <td>zzl1d098@pppoe</td>\n",
       "      <td>05-02 22</td>\n",
       "      <td>0</td>\n",
       "      <td>0</td>\n",
       "      <td>0</td>\n",
       "      <td>0</td>\n",
       "      <td>5.341602e+09</td>\n",
       "      <td>6.171189e+10</td>\n",
       "    </tr>\n",
       "  </tbody>\n",
       "</table>\n",
       "</div>"
      ],
      "text/plain": [
       "   логин_абонента  day-hour  stop  failed  trafic_input_zero  \\\n",
       "0  zzl1d098@pppoe  05-02 14     0       0                  0   \n",
       "1  zzl1d098@pppoe  05-02 16     0       0                  0   \n",
       "2  zzl1d098@pppoe  05-02 18     0       0                  0   \n",
       "3  zzl1d098@pppoe  05-02 20     0       0                  0   \n",
       "4  zzl1d098@pppoe  05-02 22     0       0                  0   \n",
       "\n",
       "   trafic_output_zero  input_trafic  output_trafic  \n",
       "0                   0  5.193323e+09   5.850485e+10  \n",
       "1                   0  5.499853e+09   6.717188e+10  \n",
       "2                   0  5.514587e+09   6.744701e+10  \n",
       "3                   0  5.341497e+09   6.171147e+10  \n",
       "4                   0  5.341602e+09   6.171189e+10  "
      ]
     },
     "execution_count": 41,
     "metadata": {},
     "output_type": "execute_result"
    }
   ],
   "source": [
    "gb_userlogin_hour.tail().reset_index()"
   ]
  },
  {
   "cell_type": "code",
   "execution_count": null,
   "metadata": {},
   "outputs": [],
   "source": [
    "'логин_абонента', 'day-hour', 'stop', 'failed', 'trafic_input_zero', 'trafic_output_zero', 'input_trafic', 'output_trafic'"
   ]
  },
  {
   "cell_type": "code",
   "execution_count": 21,
   "metadata": {},
   "outputs": [
    {
     "data": {
      "text/plain": [
       "0.0008548113218790042"
      ]
     },
     "execution_count": 21,
     "metadata": {},
     "output_type": "execute_result"
    }
   ],
   "source": [
    "dfs_concat['trafic_output_zero'].mean()"
   ]
  },
  {
   "cell_type": "code",
   "execution_count": 10,
   "metadata": {},
   "outputs": [
    {
     "data": {
      "text/plain": [
       "'05-02 00'"
      ]
     },
     "execution_count": 10,
     "metadata": {},
     "output_type": "execute_result"
    }
   ],
   "source": [
    "dfs_concat.iloc[0,0][5:13]"
   ]
  },
  {
   "cell_type": "code",
   "execution_count": 33,
   "metadata": {},
   "outputs": [
    {
     "data": {
      "text/plain": [
       "0      10531857\n",
       "11         9875\n",
       "9          7071\n",
       "4          6302\n",
       "12         5804\n",
       "         ...   \n",
       "174           1\n",
       "175           1\n",
       "154           1\n",
       "140           1\n",
       "214           1\n",
       "Name: failed, Length: 232, dtype: int64"
      ]
     },
     "execution_count": 33,
     "metadata": {},
     "output_type": "execute_result"
    }
   ],
   "source": [
    "gb_userlogin_hour['failed'].value_counts()"
   ]
  },
  {
   "cell_type": "code",
   "execution_count": null,
   "metadata": {},
   "outputs": [],
   "source": []
  },
  {
   "cell_type": "code",
   "execution_count": null,
   "metadata": {},
   "outputs": [],
   "source": []
  },
  {
   "cell_type": "code",
   "execution_count": null,
   "metadata": {},
   "outputs": [],
   "source": []
  },
  {
   "cell_type": "code",
   "execution_count": null,
   "metadata": {},
   "outputs": [],
   "source": []
  },
  {
   "cell_type": "code",
   "execution_count": null,
   "metadata": {},
   "outputs": [],
   "source": []
  }
 ],
 "metadata": {
  "kernelspec": {
   "display_name": "Python 3",
   "language": "python",
   "name": "python3"
  },
  "language_info": {
   "codemirror_mode": {
    "name": "ipython",
    "version": 3
   },
   "file_extension": ".py",
   "mimetype": "text/x-python",
   "name": "python",
   "nbconvert_exporter": "python",
   "pygments_lexer": "ipython3",
   "version": "3.7.6"
  }
 },
 "nbformat": 4,
 "nbformat_minor": 4
}
