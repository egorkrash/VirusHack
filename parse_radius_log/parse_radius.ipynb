{
 "cells": [
  {
   "cell_type": "code",
   "execution_count": 172,
   "metadata": {},
   "outputs": [],
   "source": [
    "import re\n",
    "\n",
    "import numpy as np\n",
    "import pandas as pd\n",
    "import matplotlib.pyplot as plt\n",
    "from tqdm.notebook import tqdm"
   ]
  },
  {
   "cell_type": "code",
   "execution_count": 2,
   "metadata": {},
   "outputs": [],
   "source": [
    "PATH_DATA = \"../../../data/\""
   ]
  },
  {
   "cell_type": "raw",
   "metadata": {},
   "source": [
    "Краткие комментарии:\n",
    "Apr 29 06:08:38 – дата, время\n",
    "0A49824D-04@dhcp  - логин абонента\n",
    "89.239.189.1 – это ip БРАС-1 (может быть еще 89.239.189.2 – БРАС-2) \n",
    "ULSK-.... - id сессии \n",
    "RADIUS,, - мастер сессия \n",
    "RADIUS,1, - сессия аккаунтинга направления 1 и т.д (всего 6 направлений) \n",
    "c8:d3:a3:ed:2c:ff - mac абонента\n",
    "89.239.157.169 - ip абонента"
   ]
  },
  {
   "cell_type": "code",
   "execution_count": 178,
   "metadata": {},
   "outputs": [],
   "source": [
    "def read_data(filename):\n",
    "    # 'radius.log.1'\n",
    "    with open(PATH_DATA + filename, 'rb') as f:\n",
    "        rows = f.readlines()\n",
    "    rows = [str(row)[2:][:-3] for row in tqdm(rows)]\n",
    "    return rows"
   ]
  },
  {
   "cell_type": "code",
   "execution_count": 135,
   "metadata": {},
   "outputs": [
    {
     "data": {
      "application/vnd.jupyter.widget-view+json": {
       "model_id": "3e596201779a4f688e715d1b1e871123",
       "version_major": 2,
       "version_minor": 0
      },
      "text/plain": [
       "HBox(children=(FloatProgress(value=0.0, max=9843649.0), HTML(value='')))"
      ]
     },
     "metadata": {},
     "output_type": "display_data"
    },
    {
     "name": "stdout",
     "output_type": "stream",
     "text": [
      "\n"
     ]
    }
   ],
   "source": [
    "with open(PATH_DATA + 'radius.log.9', 'rb') as f:\n",
    "    rows_9 = f.readlines()\n",
    "\n",
    "rows_9 = [str(row)[2:][:-3] for row in tqdm(rows_9)]"
   ]
  },
  {
   "cell_type": "code",
   "execution_count": 5,
   "metadata": {},
   "outputs": [
    {
     "name": "stdout",
     "output_type": "stream",
     "text": [
      "15\n"
     ]
    }
   ],
   "source": [
    "len_date = len(\"Apr 30 00:11:25\")\n",
    "print(len_date)"
   ]
  },
  {
   "cell_type": "code",
   "execution_count": 83,
   "metadata": {},
   "outputs": [],
   "source": [
    "def unlist(x: list):\n",
    "    if len(x) > 0:\n",
    "        return x[0]\n",
    "    else:\n",
    "        return ''"
   ]
  },
  {
   "cell_type": "code",
   "execution_count": 165,
   "metadata": {},
   "outputs": [
    {
     "data": {
      "text/plain": [
       "['Billing-Accounting']"
      ]
     },
     "execution_count": 165,
     "metadata": {},
     "output_type": "execute_result"
    }
   ],
   "source": [
    "re.findall(r'radiusd: \\[\\w+\\] ([\\w+|-|_|-]+)', row)"
   ]
  },
  {
   "cell_type": "code",
   "execution_count": 182,
   "metadata": {},
   "outputs": [],
   "source": [
    "def parse_data(rows): \n",
    "    columns = [\n",
    "        'date', 'rad/nfs', 'radiusd', 'type_', 'id_сессии', 'flag_мастер_сессия',\n",
    "        'сессия_аккаунтинга_направления', 'логин_абонента', 'ip_абонента', 'mac_абонента',\n",
    "        'БРАС-1/2', 'delay'\n",
    "    ]\n",
    "    res_parse = []\n",
    "\n",
    "    for row in tqdm(rows):\n",
    "        date = row[:len_date]\n",
    "        rad_nfs = row[(len_date+1): (len_date+4)]\n",
    "        radiusd = unlist(re.findall(r'radiusd: \\[(\\w+)\\]', row))\n",
    "        type_ = unlist(re.findall(r'radiusd: \\[\\w+\\] ([\\w+|-|_|-]+)', row))\n",
    "        ulsk = re.findall(r'ULSK-(\\w+)', row)\n",
    "        flg_master_session = \"RADIUS,,\" in row\n",
    "        session_accountinga_napravlenia = unlist(re.findall(r'RADIUS,(\\d),', row))\n",
    "        login_abonenta = unlist(re.findall(r\"'(.+)' via\", row))\n",
    "        ip_abonent = unlist(re.findall(r\", (\\d+.\\d+.\\d+.\\d+), \", row))\n",
    "        mac_abonent = unlist(re.findall(r\", (\\w+:\\w+:\\w+:\\w+:\\w+:\\w+)\\) \", row))\n",
    "        bras_1_2 = unlist(re.findall(r\"89.239.189.1|89.239.189.2\", row))\n",
    "        delay = unlist(re.findall(r\"delay (\\d+\\.\\d+)\", row))\n",
    "\n",
    "        res_parse.append([\n",
    "            date, rad_nfs, radiusd, type_, ulsk, flg_master_session, session_accountinga_napravlenia,\n",
    "            login_abonenta, ip_abonent, mac_abonent, bras_1_2, delay\n",
    "        ])\n",
    "        \n",
    "    df_ = pd.DataFrame(res_parse, columns=columns)\n",
    "    return df_"
   ]
  },
  {
   "cell_type": "code",
   "execution_count": null,
   "metadata": {},
   "outputs": [
    {
     "name": "stdout",
     "output_type": "stream",
     "text": [
      "radius.log.1\n"
     ]
    },
    {
     "data": {
      "application/vnd.jupyter.widget-view+json": {
       "model_id": "f6dc3844ca4e42c6bf76681e685f2b08",
       "version_major": 2,
       "version_minor": 0
      },
      "text/plain": [
       "HBox(children=(FloatProgress(value=0.0, max=8570710.0), HTML(value='')))"
      ]
     },
     "metadata": {},
     "output_type": "display_data"
    },
    {
     "name": "stdout",
     "output_type": "stream",
     "text": [
      "\n"
     ]
    },
    {
     "data": {
      "application/vnd.jupyter.widget-view+json": {
       "model_id": "d939b171b5a14394955e5e829a3c1ec2",
       "version_major": 2,
       "version_minor": 0
      },
      "text/plain": [
       "HBox(children=(FloatProgress(value=0.0, max=8570710.0), HTML(value='')))"
      ]
     },
     "metadata": {},
     "output_type": "display_data"
    }
   ],
   "source": [
    "res_parse_dfs = []\n",
    "for i in range(1, 10):\n",
    "    filename = f'radius.log.{i}'\n",
    "    print(filename)\n",
    "    rows = read_data(filename)\n",
    "    res_parse_dfs.append(parse_data(rows))\n",
    "res_parse_df = pd.concat(res_parse_dfs)"
   ]
  },
  {
   "cell_type": "code",
   "execution_count": 174,
   "metadata": {},
   "outputs": [
    {
     "data": {
      "text/plain": [
       "Text(0.5, 1.0, 'delay')"
      ]
     },
     "execution_count": 174,
     "metadata": {},
     "output_type": "execute_result"
    },
    {
     "data": {
      "image/png": "[encoded data removed]",
      "text/plain": [
       "<Figure size 432x288 with 1 Axes>"
      ]
     },
     "metadata": {
      "needs_background": "light"
     },
     "output_type": "display_data"
    }
   ],
   "source": [
    "pd.Series([0 if x == '' else float(x) for x in df['delay']]).hist(bins=20)\n",
    "plt.title('delay')"
   ]
  },
  {
   "cell_type": "code",
   "execution_count": 176,
   "metadata": {},
   "outputs": [
    {
     "data": {
      "text/plain": [
       "Billing-Accounting                77616\n",
       "huawei_save_sessid                18317\n",
       "Billing-Authentication             3928\n",
       "ora_access                           78\n",
       "Billing                              30\n",
       "Billing_Rad2Rad-Authentication       11\n",
       "                                      8\n",
       "Billing-COA-Request                   4\n",
       "1                                     4\n",
       "COA-ACK                               4\n",
       "Name: type_, dtype: int64"
      ]
     },
     "execution_count": 176,
     "metadata": {},
     "output_type": "execute_result"
    }
   ],
   "source": [
    "df['type_'].value_counts()"
   ]
  },
  {
   "cell_type": "code",
   "execution_count": 167,
   "metadata": {},
   "outputs": [
    {
     "data": {
      "text/html": [
       "<div>\n",
       "<style scoped>\n",
       "    .dataframe tbody tr th:only-of-type {\n",
       "        vertical-align: middle;\n",
       "    }\n",
       "\n",
       "    .dataframe tbody tr th {\n",
       "        vertical-align: top;\n",
       "    }\n",
       "\n",
       "    .dataframe thead th {\n",
       "        text-align: right;\n",
       "    }\n",
       "</style>\n",
       "<table border=\"1\" class=\"dataframe\">\n",
       "  <thead>\n",
       "    <tr style=\"text-align: right;\">\n",
       "      <th></th>\n",
       "      <th>date</th>\n",
       "      <th>rad/nfs</th>\n",
       "      <th>radiusd</th>\n",
       "      <th>type_</th>\n",
       "      <th>id_сессии</th>\n",
       "      <th>flag_мастер_сессия</th>\n",
       "      <th>сессия_аккаунтинга_направления</th>\n",
       "      <th>логин_абонента</th>\n",
       "      <th>ip_абонента</th>\n",
       "      <th>mac_абонента</th>\n",
       "      <th>БРАС-1/2</th>\n",
       "      <th>delay</th>\n",
       "    </tr>\n",
       "  </thead>\n",
       "  <tbody>\n",
       "    <tr>\n",
       "      <th>0</th>\n",
       "      <td>Apr 30 00:11:25</td>\n",
       "      <td>rad</td>\n",
       "      <td>17626</td>\n",
       "      <td>Billing-Accounting</td>\n",
       "      <td>[BR152331598000004a2463043502, B41033SSG000003...</td>\n",
       "      <td>False</td>\n",
       "      <td>4</td>\n",
       "      <td>9usLLsvL-Wg@dhcp</td>\n",
       "      <td>89.239.189.1</td>\n",
       "      <td>ec:4c:4d:ae:a7:30</td>\n",
       "      <td>89.239.189.1</td>\n",
       "      <td>0.211458</td>\n",
       "    </tr>\n",
       "    <tr>\n",
       "      <th>1</th>\n",
       "      <td>Apr 30 00:11:26</td>\n",
       "      <td>nfc</td>\n",
       "      <td>16233</td>\n",
       "      <td>Billing-Accounting</td>\n",
       "      <td>[BR09232112900000f15744056293, B07232SSG000003...</td>\n",
       "      <td>False</td>\n",
       "      <td>4</td>\n",
       "      <td>AAHvH8-W@pppoe</td>\n",
       "      <td>89.239.189.2</td>\n",
       "      <td>c4:6e:1f:44:36:6c</td>\n",
       "      <td>89.239.189.2</td>\n",
       "      <td>0.128042</td>\n",
       "    </tr>\n",
       "    <tr>\n",
       "      <th>2</th>\n",
       "      <td>Apr 30 00:11:25</td>\n",
       "      <td>rad</td>\n",
       "      <td>03402</td>\n",
       "      <td>huawei_save_sessid</td>\n",
       "      <td>[B04230SSG000003e90bb7217311]</td>\n",
       "      <td>False</td>\n",
       "      <td></td>\n",
       "      <td></td>\n",
       "      <td></td>\n",
       "      <td></td>\n",
       "      <td></td>\n",
       "      <td></td>\n",
       "    </tr>\n",
       "    <tr>\n",
       "      <th>3</th>\n",
       "      <td>Apr 30 00:11:26</td>\n",
       "      <td>nfc</td>\n",
       "      <td>16343</td>\n",
       "      <td>Billing-Accounting</td>\n",
       "      <td>[BR09232039100000d66624053175, B35032SSG000004...</td>\n",
       "      <td>False</td>\n",
       "      <td>5</td>\n",
       "      <td>9usLtigW-9t@dhcp</td>\n",
       "      <td>89.239.189.1</td>\n",
       "      <td>ec:4c:4d:f0:3c:bb</td>\n",
       "      <td>89.239.189.1</td>\n",
       "      <td>0.296358</td>\n",
       "    </tr>\n",
       "    <tr>\n",
       "      <th>4</th>\n",
       "      <td>Apr 30 00:11:25</td>\n",
       "      <td>rad</td>\n",
       "      <td>17553</td>\n",
       "      <td>Billing-Accounting</td>\n",
       "      <td>[BR09232039100000d66624053175, B35032SSG000002...</td>\n",
       "      <td>False</td>\n",
       "      <td>3</td>\n",
       "      <td>9usLtigW-9t@dhcp</td>\n",
       "      <td>89.239.189.1</td>\n",
       "      <td>ec:4c:4d:f0:3c:bb</td>\n",
       "      <td>89.239.189.1</td>\n",
       "      <td>0.282959</td>\n",
       "    </tr>\n",
       "  </tbody>\n",
       "</table>\n",
       "</div>"
      ],
      "text/plain": [
       "              date rad/nfs radiusd               type_  \\\n",
       "0  Apr 30 00:11:25     rad   17626  Billing-Accounting   \n",
       "1  Apr 30 00:11:26     nfc   16233  Billing-Accounting   \n",
       "2  Apr 30 00:11:25     rad   03402  huawei_save_sessid   \n",
       "3  Apr 30 00:11:26     nfc   16343  Billing-Accounting   \n",
       "4  Apr 30 00:11:25     rad   17553  Billing-Accounting   \n",
       "\n",
       "                                           id_сессии  flag_мастер_сессия  \\\n",
       "0  [BR152331598000004a2463043502, B41033SSG000003...               False   \n",
       "1  [BR09232112900000f15744056293, B07232SSG000003...               False   \n",
       "2                      [B04230SSG000003e90bb7217311]               False   \n",
       "3  [BR09232039100000d66624053175, B35032SSG000004...               False   \n",
       "4  [BR09232039100000d66624053175, B35032SSG000002...               False   \n",
       "\n",
       "  сессия_аккаунтинга_направления    логин_абонента   ip_абонента  \\\n",
       "0                              4  9usLLsvL-Wg@dhcp  89.239.189.1   \n",
       "1                              4    AAHvH8-W@pppoe  89.239.189.2   \n",
       "2                                                                  \n",
       "3                              5  9usLtigW-9t@dhcp  89.239.189.1   \n",
       "4                              3  9usLtigW-9t@dhcp  89.239.189.1   \n",
       "\n",
       "        mac_абонента      БРАС-1/2     delay  \n",
       "0  ec:4c:4d:ae:a7:30  89.239.189.1  0.211458  \n",
       "1  c4:6e:1f:44:36:6c  89.239.189.2  0.128042  \n",
       "2                                             \n",
       "3  ec:4c:4d:f0:3c:bb  89.239.189.1  0.296358  \n",
       "4  ec:4c:4d:f0:3c:bb  89.239.189.1  0.282959  "
      ]
     },
     "execution_count": 167,
     "metadata": {},
     "output_type": "execute_result"
    }
   ],
   "source": [
    "df = pd.DataFrame(res_parse, columns=columns)\n",
    "df.head()"
   ]
  },
  {
   "cell_type": "raw",
   "metadata": {},
   "source": [
    "Краткие комментарии:\n",
    "Apr 29 06:08:38 – дата, время\n",
    "0A49824D-04@dhcp  - логин абонента\n",
    "89.239.189.1 – это ip БРАС-1 (может быть еще 89.239.189.2 – БРАС-2) \n",
    "ULSK-.... - id сессии \n",
    "RADIUS,, - мастер сессия \n",
    "RADIUS,1, - сессия аккаунтинга направления 1 и т.д (всего 6 направлений) \n",
    "c8:d3:a3:ed:2c:ff - mac абонента\n",
    "89.239.157.169 - ip абонента"
   ]
  },
  {
   "cell_type": "code",
   "execution_count": 148,
   "metadata": {
    "scrolled": false
   },
   "outputs": [
    {
     "name": "stdout",
     "output_type": "stream",
     "text": [
      "\n",
      "Apr 30 00:11:25 rad radiusd: [17626] Billing-Accounting: 117/0 '9usLLsvL-Wg@dhcp' via radius@startip_nn - OK -- input (2020.04.30 00:11:25,89.239.189.1:253892158,Virtual-Access,Framed,PPP,Alive,ULSK-BR152331598000004a2463043502,RADIUS,4,ec:4c:4d:ae:a7:30,92.252.187.91,0,315000,13958,750386, 89.239.189.1, \\\\0x01\\\\0\\\\0\\\\0x160A499459, ULSK-B41033SSG0000035ccd3f043502, ULSK-BR152331598000004a2463043502, ec:4c:4d:ae:a7:30) delay 0.211458\n",
      "\n",
      "Apr 30 00:11:26 nfc radiusd: [16233] Billing-Accounting: 204/0 'AAHvH8-W@pppoe' via radius@startip_nn - OK -- input (2020.04.30 00:11:25,89.239.189.2:153224297,Virtual-Access,Framed,PPP,Alive,ULSK-BR09232112900000f15744056293,RADIUS,4,1380169-HDSLAM56-DD-ATS2-2 atm 0/12/0/57:0.33,92.252.235.144,0,60000,168587,1109056, 89.239.189.2, 1380169-HDSLAM56-DD-ATS2-2 atm 0/12/0/57:0.33, ULSK-B07232SSG000003c08e7d056293, ULSK-BR09232112900000f15744056293, c4:6e:1f:44:36:6c) delay 0.128042 \n",
      "\n",
      "Apr 30 00:11:25 rad radiusd: [03402] huawei_save_sessid: added 9ba05a8 ULSK-B04230SSG000003e90bb7217311 000024d9ca217311 4 1588191085\n",
      "\n",
      "Apr 30 00:11:26 nfc radiusd: [16343] Billing-Accounting: 181/0 '9usLtigW-9t@dhcp' via radius@startip_nn - OK -- input (2020.04.30 00:11:25,89.239.189.1:153223559,Virtual-Access,Framed,PPP,Alive,ULSK-BR09232039100000d66624053175,RADIUS,5,ec:4c:4d:f0:3c:bb,89.239.161.187,0,2520000,168294627,563942679, 89.239.189.1, \\\\0\\\\0x04\\\\0x05X\\\\0\\\\0x0e\\\\nI\\\\0xeda, ULSK-B35032SSG000004360b39053175, ULSK-BR09232039100000d66624053175, ec:4c:4d:f0:3c:bb) delay 0.296358 \n",
      "\n",
      "Apr 30 00:11:25 rad radiusd: [17553] Billing-Accounting: 54/0 '9usLtigW-9t@dhcp' via radius@startip_nn - OK -- input (2020.04.30 00:11:25,89.239.189.1:153223559,Virtual-Access,Framed,PPP,Alive,ULSK-BR09232039100000d66624053175,RADIUS,3,ec:4c:4d:f0:3c:bb,89.239.161.187,0,2520000,309764166,240347016, 89.239.189.1, \\\\0\\\\0x04\\\\0x05X\\\\0\\\\0x0e\\\\nI\\\\0xeda, ULSK-B35032SSG00000235cb69053175, ULSK-BR09232039100000d66624053175, ec:4c:4d:f0:3c:bb) delay 0.282959\n",
      "\n",
      "Apr 30 00:11:26 nfc radiusd: [16341] Billing-Accounting: 235/0 'AAHvH8-W@pppoe' via radius@startip_nn - OK -- input (2020.04.30 00:11:25,89.239.189.2:153224297,Virtual-Access,Framed,PPP,Alive,ULSK-BR09232112900000f15744056293,RADIUS,,1380169-HDSLAM56-DD-ATS2-2 atm 0/12/0/57:0.33,92.252.235.144,0,60000,44692133,587180510, 89.239.189.2, 1380169-HDSLAM56-DD-ATS2-2 atm 0/12/0/57:0.33, ULSK-BR09232112900000f15744056293, c4:6e:1f:44:36:6c) delay 0.266242 \n",
      "\n",
      "Apr 30 00:11:25 rad radiusd: [17624] Billing-Accounting: 165/0 '9usLLsvL-Wg@dhcp' via radius@startip_nn - OK -- input (2020.04.30 00:11:25,89.239.189.1:253892158,Virtual-Access,Framed,PPP,Alive,ULSK-BR152331598000004a2463043502,RADIUS,1,ec:4c:4d:ae:a7:30,92.252.187.91,0,315000,295173,290831, 89.239.189.1, \\\\0x01\\\\0\\\\0\\\\0x160A499459, ULSK-B41033SSG0000005bff9c043502, ULSK-BR152331598000004a2463043502, ec:4c:4d:ae:a7:30) delay 0.256257\n",
      "\n",
      "Apr 30 00:11:25 rad radiusd: [03402] huawei_save_sessid: added 8a8a940 ULSK-B45030SSG000003b24e4c118969 0000a31aeb118969 4 1588191085\n",
      "\n",
      "Apr 30 00:11:25 rad radiusd: [03402] huawei_save_sessid: added 88813c8 ULSK-B45030SSG000005b2ce5c118969 0000a31aeb118969 6 1588191085\n",
      "\n",
      "Apr 30 00:11:25 rad radiusd: [17621] Billing-Accounting: 199/0 '9usLLsvL-Wg@dhcp' via radius@startip_nn - OK -- input (2020.04.30 00:11:25,89.239.189.1:253892158,Virtual-Access,Framed,PPP,Alive,ULSK-BR152331598000004a2463043502,RADIUS,,ec:4c:4d:ae:a7:30,92.252.187.91,0,315000,59947546,123792658, 89.239.189.1, \\\\0x01\\\\0\\\\0\\\\0x160A499459, ULSK-BR152331598000004a2463043502, ec:4c:4d:ae:a7:30) delay 0.303769\n",
      "\n",
      "Apr 30 00:11:25 rad radiusd: [17623] Billing-Accounting: 198/0 '9usLtigW-9t@dhcp' via radius@startip_nn - OK -- input (2020.04.30 00:11:25,89.239.189.1:153223559,Virtual-Access,Framed,PPP,Alive,ULSK-BR09232039100000d66624053175,RADIUS,4,ec:4c:4d:f0:3c:bb,89.239.161.187,0,2520000,114129932,76207107, 89.239.189.1, \\\\0\\\\0x04\\\\0x05X\\\\0\\\\0x0e\\\\nI\\\\0xeda, ULSK-B35032SSG00000335eb3d053175, ULSK-BR09232039100000d66624053175, ec:4c:4d:f0:3c:bb) delay 0.303265\n",
      "\n",
      "Apr 30 00:11:25 rad radiusd: [17578] Billing-Accounting: 47/0 '9usLtt8H-Wv@dhcp' via radius@startip_nn - OK -- input (2020.04.30 00:11:25,89.239.189.2:102887892,Virtual-Access,Framed,PPP,Alive,ULSK-BR06231046800000a0dd57166724,RADIUS,4,08:60:6e:e7:c4:c9,92.252.225.27,0,382500,321960615,221119815, 89.239.189.2, \\\\0\\\\0x04\\\\0x05\\\\0x16\\\\0\\\\0x15\\\\nI\\\\0xee7, ULSK-B48031SSG000003797f7b166724, ULSK-BR06231046800000a0dd57166724, 08:60:6e:e7:c4:c9) delay 0.254928\n",
      "\n",
      "Apr 30 00:11:25 rad radiusd: [11401] Billing-Accounting: 66/0 '9usLtt8H-Wv@dhcp' via radius@startip_nn - OK -- input (2020.04.30 00:11:25,89.239.189.2:102887892,Virtual-Access,Framed,PPP,Alive,ULSK-BR06231046800000a0dd57166724,RADIUS,1,08:60:6e:e7:c4:c9,92.252.225.27,0,382500,41616,132444, 89.239.189.2, \\\\0\\\\0x04\\\\0x05\\\\0x16\\\\0\\\\0x15\\\\nI\\\\0xee7, ULSK-B48031SSG00000078aaba166724, ULSK-BR06231046800000a0dd57166724, 08:60:6e:e7:c4:c9) delay 0.256914\n",
      "\n",
      "Apr 30 00:11:25 rad radiusd: [17558] Billing-Accounting: 109/0 '9usLLsvL-Wg@dhcp' via radius@startip_nn - OK -- input (2020.04.30 00:11:25,89.239.189.1:253892158,Virtual-Access,Framed,PPP,Alive,ULSK-BR152331598000004a2463043502,RADIUS,3,ec:4c:4d:ae:a7:30,92.252.187.91,0,315000,181174,3454711, 89.239.189.1, \\\\0x01\\\\0\\\\0\\\\0x160A499459, ULSK-B41033SSG0000025c911f043502, ULSK-BR152331598000004a2463043502, ec:4c:4d:ae:a7:30) delay 0.269175\n",
      "\n",
      "Apr 30 00:11:25 rad radiusd: [17553] Billing-Authentication: 40/0 9usLisa8-9v@dhcp via radius@startip_nn - FAILED Service isn?t ON. -- code -3, input (89.239.189.2:153224753,Virtual-Access,Framed,PPP,,e0:d9:e3:76:11:20, 89.239.189.2, \\\\0x01\\\\0\\\\0\\\\0x050A49D4F3, ULSK-BR09232158500000f03c98059404, e0:d9:e3:76:11:20) delay 0.015798\n",
      "\n",
      "Apr 30 00:11:25 rad radiusd: [17703] Billing-Accounting: 72/0 '9usLtt8H-Wv@dhcp' via radius@startip_nn - OK -- input (2020.04.30 00:11:25,89.239.189.2:102887892,Virtual-Access,Framed,PPP,Alive,ULSK-BR06231046800000a0dd57166724,RADIUS,3,08:60:6e:e7:c4:c9,92.252.225.27,0,382500,202770754,481157258, 89.239.189.2, \\\\0\\\\0x04\\\\0x05\\\\0x16\\\\0\\\\0x15\\\\nI\\\\0xee7, ULSK-B48031SSG000002794163166724, ULSK-BR06231046800000a0dd57166724, 08:60:6e:e7:c4:c9) delay 0.262125\n",
      "\n",
      "Apr 30 00:11:25 rad radiusd: [17697] Billing-Accounting: 194/0 '9usLLsvL-Wg@dhcp' via radius@startip_nn - OK -- input (2020.04.30 00:11:25,89.239.189.1:253892158,Virtual-Access,Framed,PPP,Alive,ULSK-BR152331598000004a2463043502,RADIUS,5,ec:4c:4d:ae:a7:30,92.252.187.91,0,315000,59127588,119232959, 89.239.189.1, \\\\0x01\\\\0\\\\0\\\\0x160A499459, ULSK-B41033SSG0000045d091d043502, ULSK-BR152331598000004a2463043502, ec:4c:4d:ae:a7:30) delay 0.274977\n",
      "\n",
      "Apr 30 00:11:25 rad radiusd: [17557] Billing-Accounting: 250/0 'AAHvH8-W@pppoe' via radius@startip_nn - OK -- input (2020.04.30 00:11:25,89.239.189.2:153224297,Virtual-Access,Framed,PPP,Alive,ULSK-BR09232112900000f15744056293,RADIUS,5,1380169-HDSLAM56-DD-ATS2-2 atm 0/12/0/57:0.33,92.252.235.144,0,60000,807236,2433199, 89.239.189.2, 1380169-HDSLAM56-DD-ATS2-2 atm 0/12/0/57:0.33, ULSK-B07232SSG000004c0f0dc056293, ULSK-BR09232112900000f15744056293, c4:6e:1f:44:36:6c) delay 0.204653\n",
      "\n",
      "Apr 30 00:11:26 rad radiusd: [11395] Billing-Accounting: 101/0 'AAHvH8-W@pppoe' via radius@startip_nn - OK -- input (2020.04.30 00:11:25,89.239.189.2:153224297,Virtual-Access,Framed,PPP,Alive,ULSK-BR09232112900000f15744056293,RADIUS,1,1380169-HDSLAM56-DD-ATS2-2 atm 0/12/0/57:0.33,92.252.235.144,0,60000,4175783,86241533, 89.239.189.2, 1380169-HDSLAM56-DD-ATS2-2 atm 0/12/0/57:0.33, ULSK-B07232SSG000000bf6065056293, ULSK-BR09232112900000f15744056293, c4:6e:1f:44:36:6c) delay 0.255654\n",
      "\n",
      "Apr 30 00:11:26 nfc radiusd: [16231] Billing-Accounting: 30/0 'AAHvH8-W@pppoe' via radius@startip_nn - OK -- input (2020.04.30 00:11:25,89.239.189.2:153224297,Virtual-Access,Framed,PPP,Alive,ULSK-BR09232112900000f15744056293,RADIUS,3,1380169-HDSLAM56-DD-ATS2-2 atm 0/12/0/57:0.33,92.252.235.144,0,60000,30875278,220338442, 89.239.189.2, 1380169-HDSLAM56-DD-ATS2-2 atm 0/12/0/57:0.33, ULSK-B07232SSG000002c03304056293, ULSK-BR09232112900000f15744056293, c4:6e:1f:44:36:6c) delay 0.276941 \n"
     ]
    }
   ],
   "source": [
    "for i in rows[:20]:\n",
    "    print()\n",
    "    print(str(i))"
   ]
  },
  {
   "cell_type": "code",
   "execution_count": null,
   "metadata": {},
   "outputs": [],
   "source": []
  },
  {
   "cell_type": "code",
   "execution_count": null,
   "metadata": {},
   "outputs": [],
   "source": []
  },
  {
   "cell_type": "code",
   "execution_count": null,
   "metadata": {},
   "outputs": [],
   "source": []
  },
  {
   "cell_type": "code",
   "execution_count": null,
   "metadata": {},
   "outputs": [],
   "source": []
  }
 ],
 "metadata": {
  "kernelspec": {
   "display_name": "Python 3",
   "language": "python",
   "name": "python3"
  },
  "language_info": {
   "codemirror_mode": {
    "name": "ipython",
    "version": 3
   },
   "file_extension": ".py",
   "mimetype": "text/x-python",
   "name": "python",
   "nbconvert_exporter": "python",
   "pygments_lexer": "ipython3",
   "version": "3.7.6"
  }
 },
 "nbformat": 4,
 "nbformat_minor": 4
}
