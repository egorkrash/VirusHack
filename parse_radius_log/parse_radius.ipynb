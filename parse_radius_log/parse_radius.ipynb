{
 "cells": [
  {
   "cell_type": "code",
   "execution_count": 1,
   "metadata": {},
   "outputs": [],
   "source": [
    "import re\n",
    "\n",
    "import numpy as np\n",
    "import pandas as pd\n",
    "from tqdm.notebook import tqdm"
   ]
  },
  {
   "cell_type": "code",
   "execution_count": 2,
   "metadata": {},
   "outputs": [],
   "source": [
    "PATH_DATA = \"../../../data/\""
   ]
  },
  {
   "cell_type": "code",
   "execution_count": 3,
   "metadata": {},
   "outputs": [
    {
     "name": "stdout",
     "output_type": "stream",
     "text": [
      "total 62793344\r\n",
      "drwxr-xr-x  2 nikolay  staff    64B  3 май 12:46 \u001b[34marxiv\u001b[m\u001b[m/\r\n",
      "-rw-r--r--  1 nikolay  staff   2,8G  3 май 12:47 radius.log.1\r\n",
      "-rw-r--r--@ 1 nikolay  staff   356M  3 май 12:38 radius.log.1.gz\r\n",
      "-rw-r--r--  1 nikolay  staff   2,9G  3 май 12:47 radius.log.2\r\n",
      "-rw-r--r--@ 1 nikolay  staff   365M  3 май 12:39 radius.log.2.gz\r\n",
      "-rw-r--r--  1 nikolay  staff   3,0G  3 май 12:47 radius.log.3\r\n",
      "-rw-r--r--@ 1 nikolay  staff   372M  3 май 12:40 radius.log.3.gz\r\n",
      "-rw-r--r--  1 nikolay  staff   2,8G  3 май 12:47 radius.log.4\r\n",
      "-rw-r--r--@ 1 nikolay  staff   355M  3 май 12:41 radius.log.4.gz\r\n",
      "-rw-r--r--  1 nikolay  staff   2,9G  3 май 12:48 radius.log.5\r\n",
      "-rw-r--r--@ 1 nikolay  staff   363M  3 май 12:41 radius.log.5.gz\r\n",
      "-rw-r--r--  1 nikolay  staff   3,0G  3 май 12:48 radius.log.6\r\n",
      "-rw-r--r--@ 1 nikolay  staff   372M  3 май 12:42 radius.log.6.gz\r\n",
      "-rw-r--r--  1 nikolay  staff   2,9G  3 май 12:48 radius.log.7\r\n",
      "-rw-r--r--@ 1 nikolay  staff   364M  3 май 12:43 radius.log.7.gz\r\n",
      "-rw-r--r--  1 nikolay  staff   3,0G  3 май 12:48 radius.log.8\r\n",
      "-rw-r--r--@ 1 nikolay  staff   375M  3 май 12:44 radius.log.8.gz\r\n",
      "-rw-r--r--  1 nikolay  staff   3,2G  3 май 12:48 radius.log.9\r\n",
      "-rw-r--r--@ 1 nikolay  staff   392M  3 май 12:44 radius.log.9.gz\r\n"
     ]
    }
   ],
   "source": [
    "ls  -lh ../../../data"
   ]
  },
  {
   "cell_type": "code",
   "execution_count": null,
   "metadata": {},
   "outputs": [],
   "source": []
  },
  {
   "cell_type": "raw",
   "metadata": {},
   "source": [
    "Краткие комментарии:\n",
    "Apr 29 06:08:38 – дата, время\n",
    "0A49824D-04@dhcp  - логин абонента\n",
    "89.239.189.1 – это ip БРАС-1 (может быть еще 89.239.189.2 – БРАС-2) \n",
    "ULSK-.... - id сессии \n",
    "RADIUS,, - мастер сессия \n",
    "RADIUS,1, - сессия аккаунтинга направления 1 и т.д (всего 6 направлений) \n",
    "c8:d3:a3:ed:2c:ff - mac абонента\n",
    "89.239.157.169 - ip абонента"
   ]
  },
  {
   "cell_type": "code",
   "execution_count": 4,
   "metadata": {},
   "outputs": [
    {
     "data": {
      "application/vnd.jupyter.widget-view+json": {
       "model_id": "f6733fceb938483db09fde50ee622d43",
       "version_major": 2,
       "version_minor": 0
      },
      "text/plain": [
       "HBox(children=(FloatProgress(value=0.0, max=8570710.0), HTML(value='')))"
      ]
     },
     "metadata": {},
     "output_type": "display_data"
    },
    {
     "name": "stdout",
     "output_type": "stream",
     "text": [
      "\n"
     ]
    }
   ],
   "source": [
    "with open(PATH_DATA + 'radius.log.1', 'rb') as f:\n",
    "    rows = f.readlines()\n",
    "\n",
    "rows = [str(row)[2:][:-3] for row in tqdm(rows)]"
   ]
  },
  {
   "cell_type": "code",
   "execution_count": 5,
   "metadata": {},
   "outputs": [
    {
     "name": "stdout",
     "output_type": "stream",
     "text": [
      "15\n"
     ]
    }
   ],
   "source": [
    "len_date = len(\"Apr 30 00:11:25\")\n",
    "print(len_date)"
   ]
  },
  {
   "cell_type": "code",
   "execution_count": 83,
   "metadata": {},
   "outputs": [],
   "source": [
    "def unlist(x: list):\n",
    "    if len(x) > 0:\n",
    "        return x[0]\n",
    "    else:\n",
    "        return ''"
   ]
  },
  {
   "cell_type": "code",
   "execution_count": 119,
   "metadata": {},
   "outputs": [
    {
     "data": {
      "text/plain": [
       "['9usLaHXW-9g@dhcp']"
      ]
     },
     "execution_count": 119,
     "metadata": {},
     "output_type": "execute_result"
    }
   ],
   "source": [
    "re.findall(r\"'(.+)' via\", row)"
   ]
  },
  {
   "cell_type": "code",
   "execution_count": 123,
   "metadata": {},
   "outputs": [
    {
     "data": {
      "application/vnd.jupyter.widget-view+json": {
       "model_id": "7e5c4286ddbf4d08ba3efc7627256cdd",
       "version_major": 2,
       "version_minor": 0
      },
      "text/plain": [
       "HBox(children=(FloatProgress(value=0.0, max=100000.0), HTML(value='')))"
      ]
     },
     "metadata": {},
     "output_type": "display_data"
    },
    {
     "name": "stdout",
     "output_type": "stream",
     "text": [
      "\n"
     ]
    }
   ],
   "source": [
    "columns = [\n",
    "    'date', 'rad/nfs', 'radiusd', 'type_', 'id_сессии', 'flag_мастер_сессия',\n",
    "    'сессия_аккаунтинга_направления', 'логин_абонента']\n",
    "res_parse = []\n",
    "for row in tqdm(rows[:100000]):\n",
    "    date = row[:len_date]\n",
    "    rad_nfs = row[(len_date+1): (len_date+4)]\n",
    "    radiusd = unlist(re.findall(r'radiusd: \\[(\\w+)\\]', row))\n",
    "    type_ = unlist(re.findall(r'radiusd: \\[\\w+\\] ([.]+)', row))\n",
    "    ulsk = re.findall(r'ULSK-(\\w+)', row)\n",
    "    flg_master_session = \"RADIUS,,\" in row\n",
    "    session_accountinga_napravlenia = unlist(re.findall(r'RADIUS,(\\d),', row))\n",
    "    login_abonenta = unlist(re.findall(r\"'(.+)' via\", row))\n",
    "    \n",
    "    res_parse.append([\n",
    "        date, rad_nfs, radiusd, type_, ulsk, flg_master_session, session_accountinga_napravlenia,\n",
    "        login_abonenta,\n",
    "    ])"
   ]
  },
  {
   "cell_type": "code",
   "execution_count": 116,
   "metadata": {},
   "outputs": [
    {
     "data": {
      "text/plain": [
       "\"Apr 30 00:24:15 nfc radiusd: [16249] Billing-Accounting: 165/0 '9usLaHXW-9g@dhcp' via radius@startip_nn - OK -- input (2020.04.30 00:24:14,89.239.189.2:253892170,Virtual-Access,Framed,PPP,Alive,ULSK-BR15233161000000c845b7194404,RADIUS,5,dc:e3:05:7c:47:b0,100.74.214.186,0,382500,6767997,10802772, 89.239.189.2, \\\\\\\\0x01\\\\\\\\0\\\\\\\\0\\\\\\\\0x060A49F781, ULSK-B59033SSG0000048bbdb1194404, ULSK-BR15233161000000c845b7194404, dc:e3:05:7c:47:b0) delay 0.317029 \""
      ]
     },
     "execution_count": 116,
     "metadata": {},
     "output_type": "execute_result"
    }
   ],
   "source": [
    "row"
   ]
  },
  {
   "cell_type": "code",
   "execution_count": 45,
   "metadata": {},
   "outputs": [
    {
     "data": {
      "text/plain": [
       "\"Apr 30 00:12:32 rad radiusd: [17571] Billing-Accounting: 166/0 'Ov8XWXvH@pppoe' via radius@startip_nn - OK -- input (2020.04.30 00:12:32,89.239.189.1:35775480,Virtual-Access,Framed,PPP,Alive,ULSK-BR022301016000005e854a207150,RADIUS,1,1070378-HDSLAM-TIMOSHKINO atm 0/4/0/23:0.33,89.239.148.242,0,390000,65228652,1169689424, 89.239.189.1, 1070378-HDSLAM-TIMOSHKINO atm 0/4/0/23:0.33, ULSK-B04230SSG0000002cef80207150, ULSK-BR022301016000005e854a207150, 60:a4:4c:dc:2b:5c) delay 0.293691\""
      ]
     },
     "execution_count": 45,
     "metadata": {},
     "output_type": "execute_result"
    }
   ],
   "source": [
    "row"
   ]
  },
  {
   "cell_type": "code",
   "execution_count": 125,
   "metadata": {},
   "outputs": [
    {
     "data": {
      "text/plain": [
       "                      26736\n",
       "9usLLWuM-9W@dhcp        121\n",
       "9usLLXA9-9s@dhcp        112\n",
       "Gs9AWvsA@pppoe           96\n",
       "8H89Ws8HXA8s@pppoe       72\n",
       "                      ...  \n",
       "9usLtM9i-WA@dhcp          1\n",
       "9usLXggg-Wv@dhcp          1\n",
       "9usLtigi-WW@dhcp          1\n",
       "AA999H-H@pppoe            1\n",
       "GbR3yAZh@pppoe            1\n",
       "Name: логин_абонента, Length: 13076, dtype: int64"
      ]
     },
     "execution_count": 125,
     "metadata": {},
     "output_type": "execute_result"
    }
   ],
   "source": [
    "df['логин_абонента'].value_counts()"
   ]
  },
  {
   "cell_type": "code",
   "execution_count": 124,
   "metadata": {},
   "outputs": [
    {
     "data": {
      "text/html": [
       "<div>\n",
       "<style scoped>\n",
       "    .dataframe tbody tr th:only-of-type {\n",
       "        vertical-align: middle;\n",
       "    }\n",
       "\n",
       "    .dataframe tbody tr th {\n",
       "        vertical-align: top;\n",
       "    }\n",
       "\n",
       "    .dataframe thead th {\n",
       "        text-align: right;\n",
       "    }\n",
       "</style>\n",
       "<table border=\"1\" class=\"dataframe\">\n",
       "  <thead>\n",
       "    <tr style=\"text-align: right;\">\n",
       "      <th></th>\n",
       "      <th>date</th>\n",
       "      <th>rad/nfs</th>\n",
       "      <th>radiusd</th>\n",
       "      <th>type_</th>\n",
       "      <th>id_сессии</th>\n",
       "      <th>flag_мастер_сессия</th>\n",
       "      <th>сессия_аккаунтинга_направления</th>\n",
       "      <th>логин_абонента</th>\n",
       "    </tr>\n",
       "  </thead>\n",
       "  <tbody>\n",
       "    <tr>\n",
       "      <th>0</th>\n",
       "      <td>Apr 30 00:11:25</td>\n",
       "      <td>rad</td>\n",
       "      <td>17626</td>\n",
       "      <td></td>\n",
       "      <td>[BR152331598000004a2463043502, B41033SSG000003...</td>\n",
       "      <td>False</td>\n",
       "      <td>4</td>\n",
       "      <td>9usLLsvL-Wg@dhcp</td>\n",
       "    </tr>\n",
       "    <tr>\n",
       "      <th>1</th>\n",
       "      <td>Apr 30 00:11:26</td>\n",
       "      <td>nfc</td>\n",
       "      <td>16233</td>\n",
       "      <td></td>\n",
       "      <td>[BR09232112900000f15744056293, B07232SSG000003...</td>\n",
       "      <td>False</td>\n",
       "      <td>4</td>\n",
       "      <td>AAHvH8-W@pppoe</td>\n",
       "    </tr>\n",
       "    <tr>\n",
       "      <th>2</th>\n",
       "      <td>Apr 30 00:11:25</td>\n",
       "      <td>rad</td>\n",
       "      <td>03402</td>\n",
       "      <td></td>\n",
       "      <td>[B04230SSG000003e90bb7217311]</td>\n",
       "      <td>False</td>\n",
       "      <td></td>\n",
       "      <td></td>\n",
       "    </tr>\n",
       "    <tr>\n",
       "      <th>3</th>\n",
       "      <td>Apr 30 00:11:26</td>\n",
       "      <td>nfc</td>\n",
       "      <td>16343</td>\n",
       "      <td></td>\n",
       "      <td>[BR09232039100000d66624053175, B35032SSG000004...</td>\n",
       "      <td>False</td>\n",
       "      <td>5</td>\n",
       "      <td>9usLtigW-9t@dhcp</td>\n",
       "    </tr>\n",
       "    <tr>\n",
       "      <th>4</th>\n",
       "      <td>Apr 30 00:11:25</td>\n",
       "      <td>rad</td>\n",
       "      <td>17553</td>\n",
       "      <td></td>\n",
       "      <td>[BR09232039100000d66624053175, B35032SSG000002...</td>\n",
       "      <td>False</td>\n",
       "      <td>3</td>\n",
       "      <td>9usLtigW-9t@dhcp</td>\n",
       "    </tr>\n",
       "  </tbody>\n",
       "</table>\n",
       "</div>"
      ],
      "text/plain": [
       "              date rad/nfs radiusd type_  \\\n",
       "0  Apr 30 00:11:25     rad   17626         \n",
       "1  Apr 30 00:11:26     nfc   16233         \n",
       "2  Apr 30 00:11:25     rad   03402         \n",
       "3  Apr 30 00:11:26     nfc   16343         \n",
       "4  Apr 30 00:11:25     rad   17553         \n",
       "\n",
       "                                           id_сессии  flag_мастер_сессия  \\\n",
       "0  [BR152331598000004a2463043502, B41033SSG000003...               False   \n",
       "1  [BR09232112900000f15744056293, B07232SSG000003...               False   \n",
       "2                      [B04230SSG000003e90bb7217311]               False   \n",
       "3  [BR09232039100000d66624053175, B35032SSG000004...               False   \n",
       "4  [BR09232039100000d66624053175, B35032SSG000002...               False   \n",
       "\n",
       "  сессия_аккаунтинга_направления    логин_абонента  \n",
       "0                              4  9usLLsvL-Wg@dhcp  \n",
       "1                              4    AAHvH8-W@pppoe  \n",
       "2                                                   \n",
       "3                              5  9usLtigW-9t@dhcp  \n",
       "4                              3  9usLtigW-9t@dhcp  "
      ]
     },
     "execution_count": 124,
     "metadata": {},
     "output_type": "execute_result"
    }
   ],
   "source": [
    "df = pd.DataFrame(res_parse, columns=columns)\n",
    "df.head()"
   ]
  },
  {
   "cell_type": "code",
   "execution_count": 102,
   "metadata": {},
   "outputs": [
    {
     "data": {
      "text/plain": [
       "\"Apr 30 00:11:25 rad radiusd: [17626] Billing-Accounting: 117/0 '9usLLsvL-Wg@dhcp' via radius@startip_nn - OK -- input (2020.04.30 00:11:25,89.239.189.1:253892158,Virtual-Access,Framed,PPP,Alive,ULSK-BR152331598000004a2463043502,RADIUS,4,ec:4c:4d:ae:a7:30,92.252.187.91,0,315000,13958,750386, 89.239.189.1, \\\\\\\\0x01\\\\\\\\0\\\\\\\\0\\\\\\\\0x160A499459, ULSK-B41033SSG0000035ccd3f043502, ULSK-BR152331598000004a2463043502, ec:4c:4d:ae:a7:30) delay 0.211458\""
      ]
     },
     "execution_count": 102,
     "metadata": {},
     "output_type": "execute_result"
    }
   ],
   "source": [
    "rows[0][\"le\"]"
   ]
  },
  {
   "cell_type": "code",
   "execution_count": 104,
   "metadata": {},
   "outputs": [
    {
     "data": {
      "text/plain": [
       "rad    6641323\n",
       "nfc    1929387\n",
       "dtype: int64"
      ]
     },
     "execution_count": 104,
     "metadata": {},
     "output_type": "execute_result"
    }
   ],
   "source": [
    "dates.value_counts()"
   ]
  },
  {
   "cell_type": "code",
   "execution_count": 54,
   "metadata": {},
   "outputs": [],
   "source": [
    "len_ = len(\"Apr 30 00:11:25\") + 2"
   ]
  },
  {
   "cell_type": "raw",
   "metadata": {},
   "source": [
    "Краткие комментарии:\n",
    "Apr 29 06:08:38 – дата, время\n",
    "0A49824D-04@dhcp  - логин абонента\n",
    "89.239.189.1 – это ip БРАС-1 (может быть еще 89.239.189.2 – БРАС-2) \n",
    "ULSK-.... - id сессии \n",
    "RADIUS,, - мастер сессия \n",
    "RADIUS,1, - сессия аккаунтинга направления 1 и т.д (всего 6 направлений) \n",
    "c8:d3:a3:ed:2c:ff - mac абонента\n",
    "89.239.157.169 - ip абонента"
   ]
  },
  {
   "cell_type": "code",
   "execution_count": 27,
   "metadata": {
    "scrolled": false
   },
   "outputs": [
    {
     "name": "stdout",
     "output_type": "stream",
     "text": [
      "\n",
      "May  1 00:11:39 rad radiusd: [03402] huawei_save_sessid: added 84c7718 ULSK-B04230SSG000003682f28110260 0000603009110260 4 1588277499\n",
      "\n",
      "May  1 00:11:39 rad radiusd: [17665] Billing-Accounting: 85/0 '9usLa8sv-9v@dhcp' via radius@startip_nn - OK -- input (2020.05.01 00:11:39,89.239.189.1:253890951,Virtual-Access,Framed,PPP,Alive,ULSK-BR15233039100000b9512d226928,RADIUS,,88:a6:c6:9d:14:82,92.252.181.140,0,4755001,6950081365,83887977081, 89.239.189.1, \\\\0\\\\0x04\\\\0x05$\\\\0\\\\0x05\\\\nI\\\\0xf3E, ULSK-BR15233039100000b9512d226928, 88:a6:c6:9d:14:82) delay 0.343735\n",
      "\n",
      "May  1 00:11:39 nfc radiusd: [17401] Billing-Accounting: 71/0 '9usLtMAa-9a@dhcp' via radius@startip_nn - OK -- input (2020.05.01 00:11:39,89.239.189.1:253892106,Virtual-Access,Framed,PPP,Alive,ULSK-BR15233154600000f463b8149128,RADIUS,5,f8:e9:03:83:8d:c0,92.252.143.165,0,60000,1195226,1935586, 89.239.189.1, \\\\0x01\\\\0\\\\0\\\\0x0f0A49EB2F, ULSK-B41033SSG00000401cc84149128, ULSK-BR15233154600000f463b8149128, f8:e9:03:83:8d:c0) delay 0.227381 \n",
      "\n",
      "May  1 00:11:39 rad radiusd: [17624] Billing-Accounting: 3/0 '9usLtMAa-9a@dhcp' via radius@startip_nn - OK -- input (2020.05.01 00:11:39,89.239.189.1:253892106,Virtual-Access,Framed,PPP,Alive,ULSK-BR15233154600000f463b8149128,RADIUS,,f8:e9:03:83:8d:c0,92.252.143.165,0,60000,828269109,13793846215, 89.239.189.1, \\\\0x01\\\\0\\\\0\\\\0x0f0A49EB2F, ULSK-BR15233154600000f463b8149128, f8:e9:03:83:8d:c0) delay 0.326844\n",
      "\n",
      "May  1 00:11:39 rad radiusd: [17528] Billing-Accounting: 240/0 '9usLa8sv-9v@dhcp' via radius@startip_nn - OK -- input (2020.05.01 00:11:39,89.239.189.1:253890951,Virtual-Access,Framed,PPP,Alive,ULSK-BR15233039100000b9512d226928,RADIUS,1,88:a6:c6:9d:14:82,92.252.181.140,0,4755000,171015955,2501653095, 89.239.189.1, \\\\0\\\\0x04\\\\0x05$\\\\0\\\\0x05\\\\nI\\\\0xf3E, ULSK-B39033SSG000000800b70226928, ULSK-BR15233039100000b9512d226928, 88:a6:c6:9d:14:82) delay 0.276112\n",
      "\n",
      "May  1 00:11:39 rad radiusd: [11395] Billing-Accounting: 21/0 '9usLtMAa-9a@dhcp' via radius@startip_nn - OK -- input (2020.05.01 00:11:39,89.239.189.1:253892106,Virtual-Access,Framed,PPP,Alive,ULSK-BR15233154600000f463b8149128,RADIUS,1,f8:e9:03:83:8d:c0,92.252.143.165,0,60000,3370461,233096118, 89.239.189.1, \\\\0x01\\\\0\\\\0\\\\0x0f0A49EB2F, ULSK-B41033SSG0000000135a6149128, ULSK-BR15233154600000f463b8149128, f8:e9:03:83:8d:c0) delay 0.278305\n",
      "\n",
      "May  1 00:11:39 nfc radiusd: [03975] Billing-Accounting: 110/57275 'AW9v8g-W@pppoe' - OK Skiped due to traffic limit -- code 0 \n",
      "\n",
      "May  1 00:11:39 nfc radiusd: [03975] huawei_save_sessid: added cd8a860 ULSK-B06232SSG000003575438158911 00001cc29f158911 4 1588277499 \n",
      "\n",
      "May  1 00:11:39 rad radiusd: [03402] huawei_save_sessid: added 9412198 ULSK-B06232SSG00000558294f158911 00001cc29f158911 6 1588277499\n",
      "\n",
      "May  1 00:11:39 rad radiusd: [17623] Billing-Accounting: 79/0 '9usLtMAa-9a@dhcp' via radius@startip_nn - OK -- input (2020.05.01 00:11:39,89.239.189.1:253892106,Virtual-Access,Framed,PPP,Alive,ULSK-BR15233154600000f463b8149128,RADIUS,3,f8:e9:03:83:8d:c0,92.252.143.165,0,60000,762378545,9895796390, 89.239.189.1, \\\\0x01\\\\0\\\\0\\\\0x0f0A49EB2F, ULSK-B41033SSG00000201898c149128, ULSK-BR15233154600000f463b8149128, f8:e9:03:83:8d:c0) delay 0.289231\n",
      "\n",
      "May  1 00:11:39 rad radiusd: [17557] Billing-Accounting: 186/0 '9usLXu8M-WX@dhcp' via radius@startip_nn - OK -- input (2020.05.01 00:11:39,89.239.189.2:35776000,Virtual-Access,Framed,PPP,Alive,ULSK-BR0223015360000008ee58169724,RADIUS,1,88:a6:c6:b0:c9:b8,95.68.217.202,0,172500,13046929,298141749, 89.239.189.2, \\\\0x05\\\\0x15\\\\0x01\\\\0x180A498A3B, ULSK-B45030SSG00000077f680169724, ULSK-BR0223015360000008ee58169724, 88:a6:c6:b0:c9:b8) delay 0.312169\n",
      "\n",
      "May  1 00:11:39 nfc radiusd: [16233] Billing-Accounting: 104/0 '9usLtMAa-9a@dhcp' via radius@startip_nn - OK -- input (2020.05.01 00:11:39,89.239.189.1:253892106,Virtual-Access,Framed,PPP,Alive,ULSK-BR15233154600000f463b8149128,RADIUS,6,f8:e9:03:83:8d:c0,92.252.143.165,0,60000,58637170,3614072801, 89.239.189.1, \\\\0x01\\\\0\\\\0\\\\0x0f0A49EB2F, ULSK-B41033SSG00000501edfd149128, ULSK-BR15233154600000f463b8149128, f8:e9:03:83:8d:c0) delay 0.323094 \n",
      "\n",
      "May  1 00:11:39 rad radiusd: [03402] huawei_save_sessid: added 8443458 ULSK-B57033SSG0000036537ee142415 000043107b142415 4 1588277499\n",
      "\n",
      "May  1 00:11:39 nfc radiusd: [03975] huawei_save_sessid: added 9604998 ULSK-B57033SSG00000565b230142415 000043107b142415 6 1588277499 \n",
      "\n",
      "May  1 00:11:39 rad radiusd: [17892] Billing-Accounting: 167/0 '9usLXu8M-WX@dhcp' via radius@startip_nn - OK -- input (2020.05.01 00:11:39,89.239.189.2:35776000,Virtual-Access,Framed,PPP,Alive,ULSK-BR0223015360000008ee58169724,RADIUS,4,88:a6:c6:b0:c9:b8,95.68.217.202,0,172500,6754374,213027964, 89.239.189.2, \\\\0x05\\\\0x15\\\\0x01\\\\0x180A498A3B, ULSK-B45030SSG00000378d2ee169724, ULSK-BR0223015360000008ee58169724, 88:a6:c6:b0:c9:b8) delay 0.327647\n",
      "\n",
      "May  1 00:11:39 rad radiusd: [17626] Billing-Accounting: 243/0 'QPPrz7nJ@pppoe' via radius@startip_nn - OK -- input (2020.05.01 00:11:39,89.239.189.1:35775476,Virtual-Access,Framed,PPP,Alive,ULSK-BR02230101200000603009110260,RADIUS,,807631-HDSLAM56-TER atm 0/12/0/60:0.33,100.74.99.61,0,615000,343990603,9958552288, 89.239.189.1, 807631-HDSLAM56-TER atm 0/12/0/60:0.33, ULSK-BR02230101200000603009110260, f8:ab:05:ac:c3:c2) delay 0.245182\n",
      "\n",
      "May  1 00:11:39 nfc radiusd: [17336] Billing-Accounting: 148/0 '9usLa8sv-9v@dhcp' via radius@startip_nn - OK -- input (2020.05.01 00:11:39,89.239.189.1:253890951,Virtual-Access,Framed,PPP,Alive,ULSK-BR15233039100000b9512d226928,RADIUS,5,88:a6:c6:9d:14:82,92.252.181.140,0,4755000,60776642,100398833, 89.239.189.1, \\\\0\\\\0x04\\\\0x05$\\\\0\\\\0x05\\\\nI\\\\0xf3E, ULSK-B39033SSG00000480a823226928, ULSK-BR15233039100000b9512d226928, 88:a6:c6:9d:14:82) delay 0.344958 \n",
      "\n",
      "May  1 00:11:39 nfc radiusd: [17328] Billing-Accounting: 238/0 '6EdbVr-WLLHLX8vAv@pppoe' via radius@startip_nn - OK -- input (2020.05.01 00:11:39,89.239.189.2:35775804,Virtual-Access,Framed,PPP,Alive,ULSK-BR022301340000007e441c223588,RADIUS,1,534998-HDSLAM56-DD-ATS5-3 atm 0/2/0/1:0.33,92.252.230.215,0,4755000,317209812,260388588, 89.239.189.2, 534998-HDSLAM56-DD-ATS5-3 atm 0/2/0/1:0.33, ULSK-B05230SSG000000ac1ddf223588, ULSK-BR022301340000007e441c223588, 44:e9:dd:b9:cf:64) delay 0.185615 \n",
      "\n",
      "May  1 00:11:39 rad radiusd: [03402] huawei_save_sessid: added 99100c8 ULSK-B109030SSG000003a99753203256 00002ef973203256 4 1588277499\n",
      "\n",
      "May  1 00:11:39 rad radiusd: [11399] Billing-Accounting: 215/0 '9usLXu8M-WX@dhcp' via radius@startip_nn - OK -- input (2020.05.01 00:11:39,89.239.189.2:35776000,Virtual-Access,Framed,PPP,Alive,ULSK-BR0223015360000008ee58169724,RADIUS,6,88:a6:c6:b0:c9:b8,95.68.217.202,0,172500,3342675,129012537, 89.239.189.2, \\\\0x05\\\\0x15\\\\0x01\\\\0x180A498A3B, ULSK-B45030SSG000005794cd1169724, ULSK-BR0223015360000008ee58169724, 88:a6:c6:b0:c9:b8) delay 0.341294\n",
      "\n",
      "May  1 00:11:39 rad radiusd: [03403] Billing: no TASK\n",
      "\n",
      "May  1 00:11:39 rad radiusd: [11397] Billing-Accounting: 51/0 '9usLXu8M-WX@dhcp' via radius@startip_nn - OK -- input (2020.05.01 00:11:39,89.239.189.2:35776000,Virtual-Access,Framed,PPP,Alive,ULSK-BR0223015360000008ee58169724,RADIUS,3,88:a6:c6:b0:c9:b8,95.68.217.202,0,172500,31780449,940860365, 89.239.189.2, \\\\0x05\\\\0x15\\\\0x01\\\\0x180A498A3B, ULSK-B45030SSG0000027894b9169724, ULSK-BR0223015360000008ee58169724, 88:a6:c6:b0:c9:b8) delay 0.375504\n",
      "\n",
      "May  1 00:11:39 nfc radiusd: [17337] Billing-Accounting: 169/0 'QPPrz7nJ@pppoe' via radius@startip_nn - OK -- input (2020.05.01 00:11:39,89.239.189.1:35775476,Virtual-Access,Framed,PPP,Alive,ULSK-BR02230101200000603009110260,RADIUS,3,807631-HDSLAM56-TER atm 0/12/0/60:0.33,100.74.99.61,0,615000,241725398,6095394031, 89.239.189.1, 807631-HDSLAM56-TER atm 0/12/0/60:0.33, ULSK-B04230SSG00000267c579110260, ULSK-BR02230101200000603009110260, f8:ab:05:ac:c3:c2) delay 0.229810 \n",
      "\n",
      "May  1 00:11:39 rad radiusd: [17553] Billing-Accounting: 45/0 '6EdbVr-WLLHLX8vAv@pppoe' via radius@startip_nn - OK -- input (2020.05.01 00:11:39,89.239.189.2:35775804,Virtual-Access,Framed,PPP,Alive,ULSK-BR022301340000007e441c223588,RADIUS,,534998-HDSLAM56-DD-ATS5-3 atm 0/2/0/1:0.33,92.252.230.215,0,4755001,340485979,360383293, 89.239.189.2, 534998-HDSLAM56-DD-ATS5-3 atm 0/2/0/1:0.33, ULSK-BR022301340000007e441c223588, 44:e9:dd:b9:cf:64) delay 0.244306\n",
      "\n",
      "May  1 00:11:39 nfc radiusd: [17329] Billing-Accounting: 149/0 '9usLXu8M-WX@dhcp' via radius@startip_nn - OK -- input (2020.05.01 00:11:39,89.239.189.2:35776000,Virtual-Access,Framed,PPP,Alive,ULSK-BR0223015360000008ee58169724,RADIUS,5,88:a6:c6:b0:c9:b8,95.68.217.202,0,172500,1759048,2745231, 89.239.189.2, \\\\0x05\\\\0x15\\\\0x01\\\\0x180A498A3B, ULSK-B45030SSG000004790ff5169724, ULSK-BR0223015360000008ee58169724, 88:a6:c6:b0:c9:b8) delay 0.388229 \n",
      "\n",
      "May  1 00:11:39 rad radiusd: [17621] Billing-Accounting: 99/0 '9usLJXMH-WW@dhcp' via radius@startip_nn - OK -- input (2020.05.01 00:11:39,89.239.189.2:253890956,Virtual-Access,Framed,PPP,Alive,ULSK-BR1523303960000043107b142415,RADIUS,,dc:e3:05:7d:da:0c,95.68.177.122,0,480000,19118820615,52555213151, 89.239.189.2, \\\\0\\\\0x04\\\\0x05!\\\\0\\\\0x11\\\\nI\\\\0xc8\\\\0xb7, ULSK-BR1523303960000043107b142415, dc:e3:05:7d:da:0c) delay 0.253390\n",
      "\n",
      "May  1 00:11:39 rad radiusd: [17719] Billing-Authentication: 222/0 9usLiauJ-9i@dhcp via radius@startip_nn - OK -- input (89.239.189.2:153224747,Virtual-Access,Framed,PPP,,dc:e3:05:92:09:2f, 89.239.189.2, \\\\0x01\\\\0\\\\0\\\\r0A49DFAC, ULSK-BR092321579000002481d2006991, dc:e3:05:92:09:2f) output (255.255.255.254, 8640000) delay 0.083702\n",
      "\n",
      "May  1 00:11:39 rad radiusd: [03402] huawei_save_sessid: added 9850920 ULSK-B06232SSG0000033d72a3040142 00006c3647040142 4 1588277499\n",
      "\n",
      "May  1 00:11:39 rad radiusd: [18028] Billing-Accounting: 56/0 '8WgsvL-A@pppoe' via radius@startip_nn - OK -- input (2020.05.01 00:11:39,89.239.189.2:102888544,Virtual-Access,Framed,PPP,Alive,ULSK-BR06231112000000467f54148732,RADIUS,,477445-HDSLAM56-ISH atm 0/5/0/23:0.33,92.252.243.196,0,4755000,2136258292,9473242352, 89.239.189.2, 477445-HDSLAM56-ISH atm 0/5/0/23:0.33, ULSK-BR06231112000000467f54148732, 44:e9:dd:b9:d5:89) delay 0.303493\n",
      "\n",
      "May  1 00:11:39 rad radiusd: [17697] Billing-Accounting: 55/0 '9usLJXaL-WW@dhcp' via radius@startip_nn - OK -- input (2020.05.01 00:11:39,89.239.189.2:153223560,Virtual-Access,Framed,PPP,Alive,ULSK-BR092320392000000a7e63189971,RADIUS,4,00:1f:ce:7d:92:be,95.68.147.126,0,960000,1174341060,13604920257, 89.239.189.2, \\\\0\\\\0x04\\\\0x05\\\\0x82\\\\0\\\\0x11\\\\nI\\\\0xc8\\\\0xf9, ULSK-B53032SSG0000037f25a7189971, ULSK-BR092320392000000a7e63189971, 00:1f:ce:7d:92:be) delay 0.329971\n"
     ]
    }
   ],
   "source": [
    "for i in rows[-30:]:\n",
    "    print()\n",
    "    print(str(i))"
   ]
  },
  {
   "cell_type": "code",
   "execution_count": null,
   "metadata": {},
   "outputs": [],
   "source": [
    "f.re"
   ]
  },
  {
   "cell_type": "code",
   "execution_count": 21,
   "metadata": {},
   "outputs": [
    {
     "data": {
      "text/plain": [
       "\"Apr 30 00:11:25 rad radiusd: [17626] Billing-Accounting: 117/0 '9usLLsvL-Wg@dhcp' via radius@startip_nn - OK -- input (2020.04.30 00:11:25,89.239.189.1:253892158,Virtual-Access,Framed,PPP,Alive,ULSK-BR152331598000004a2463043502,RADIUS,4,ec:4c:4d:ae:a7:30,92.252.187.91,0,315000,13958,750386, 89.239.189.1, \\\\0x01\\\\0\\\\0\\\\0x160A499459, ULSK-B41033SSG0000035ccd3f043502, ULSK-BR152331598000004a2463043502, ec:4c:4d:ae:a7:30) delay 0.211458\\n\""
      ]
     },
     "execution_count": 21,
     "metadata": {},
     "output_type": "execute_result"
    }
   ],
   "source": [
    "a"
   ]
  },
  {
   "cell_type": "code",
   "execution_count": 17,
   "metadata": {},
   "outputs": [
    {
     "ename": "ParserError",
     "evalue": "Error tokenizing data. C error: Expected 20 fields in line 3177, saw 21\n",
     "output_type": "error",
     "traceback": [
      "\u001b[0;31m---------------------------------------------------------------------------\u001b[0m",
      "\u001b[0;31mParserError\u001b[0m                               Traceback (most recent call last)",
      "\u001b[0;32m<ipython-input-17-66084c34b5e4>\u001b[0m in \u001b[0;36m<module>\u001b[0;34m\u001b[0m\n\u001b[0;32m----> 1\u001b[0;31m \u001b[0ma\u001b[0m \u001b[0;34m=\u001b[0m \u001b[0mpd\u001b[0m\u001b[0;34m.\u001b[0m\u001b[0mread_csv\u001b[0m\u001b[0;34m(\u001b[0m\u001b[0mPATH_DATA\u001b[0m \u001b[0;34m+\u001b[0m \u001b[0;34m'radius.log.1'\u001b[0m\u001b[0;34m)\u001b[0m\u001b[0;34m\u001b[0m\u001b[0;34m\u001b[0m\u001b[0m\n\u001b[0m",
      "\u001b[0;32m/opt/anaconda3/lib/python3.7/site-packages/pandas/io/parsers.py\u001b[0m in \u001b[0;36mparser_f\u001b[0;34m(filepath_or_buffer, sep, delimiter, header, names, index_col, usecols, squeeze, prefix, mangle_dupe_cols, dtype, engine, converters, true_values, false_values, skipinitialspace, skiprows, skipfooter, nrows, na_values, keep_default_na, na_filter, verbose, skip_blank_lines, parse_dates, infer_datetime_format, keep_date_col, date_parser, dayfirst, cache_dates, iterator, chunksize, compression, thousands, decimal, lineterminator, quotechar, quoting, doublequote, escapechar, comment, encoding, dialect, error_bad_lines, warn_bad_lines, delim_whitespace, low_memory, memory_map, float_precision)\u001b[0m\n\u001b[1;32m    674\u001b[0m         )\n\u001b[1;32m    675\u001b[0m \u001b[0;34m\u001b[0m\u001b[0m\n\u001b[0;32m--> 676\u001b[0;31m         \u001b[0;32mreturn\u001b[0m \u001b[0m_read\u001b[0m\u001b[0;34m(\u001b[0m\u001b[0mfilepath_or_buffer\u001b[0m\u001b[0;34m,\u001b[0m \u001b[0mkwds\u001b[0m\u001b[0;34m)\u001b[0m\u001b[0;34m\u001b[0m\u001b[0;34m\u001b[0m\u001b[0m\n\u001b[0m\u001b[1;32m    677\u001b[0m \u001b[0;34m\u001b[0m\u001b[0m\n\u001b[1;32m    678\u001b[0m     \u001b[0mparser_f\u001b[0m\u001b[0;34m.\u001b[0m\u001b[0m__name__\u001b[0m \u001b[0;34m=\u001b[0m \u001b[0mname\u001b[0m\u001b[0;34m\u001b[0m\u001b[0;34m\u001b[0m\u001b[0m\n",
      "\u001b[0;32m/opt/anaconda3/lib/python3.7/site-packages/pandas/io/parsers.py\u001b[0m in \u001b[0;36m_read\u001b[0;34m(filepath_or_buffer, kwds)\u001b[0m\n\u001b[1;32m    452\u001b[0m \u001b[0;34m\u001b[0m\u001b[0m\n\u001b[1;32m    453\u001b[0m     \u001b[0;32mtry\u001b[0m\u001b[0;34m:\u001b[0m\u001b[0;34m\u001b[0m\u001b[0;34m\u001b[0m\u001b[0m\n\u001b[0;32m--> 454\u001b[0;31m         \u001b[0mdata\u001b[0m \u001b[0;34m=\u001b[0m \u001b[0mparser\u001b[0m\u001b[0;34m.\u001b[0m\u001b[0mread\u001b[0m\u001b[0;34m(\u001b[0m\u001b[0mnrows\u001b[0m\u001b[0;34m)\u001b[0m\u001b[0;34m\u001b[0m\u001b[0;34m\u001b[0m\u001b[0m\n\u001b[0m\u001b[1;32m    455\u001b[0m     \u001b[0;32mfinally\u001b[0m\u001b[0;34m:\u001b[0m\u001b[0;34m\u001b[0m\u001b[0;34m\u001b[0m\u001b[0m\n\u001b[1;32m    456\u001b[0m         \u001b[0mparser\u001b[0m\u001b[0;34m.\u001b[0m\u001b[0mclose\u001b[0m\u001b[0;34m(\u001b[0m\u001b[0;34m)\u001b[0m\u001b[0;34m\u001b[0m\u001b[0;34m\u001b[0m\u001b[0m\n",
      "\u001b[0;32m/opt/anaconda3/lib/python3.7/site-packages/pandas/io/parsers.py\u001b[0m in \u001b[0;36mread\u001b[0;34m(self, nrows)\u001b[0m\n\u001b[1;32m   1131\u001b[0m     \u001b[0;32mdef\u001b[0m \u001b[0mread\u001b[0m\u001b[0;34m(\u001b[0m\u001b[0mself\u001b[0m\u001b[0;34m,\u001b[0m \u001b[0mnrows\u001b[0m\u001b[0;34m=\u001b[0m\u001b[0;32mNone\u001b[0m\u001b[0;34m)\u001b[0m\u001b[0;34m:\u001b[0m\u001b[0;34m\u001b[0m\u001b[0;34m\u001b[0m\u001b[0m\n\u001b[1;32m   1132\u001b[0m         \u001b[0mnrows\u001b[0m \u001b[0;34m=\u001b[0m \u001b[0m_validate_integer\u001b[0m\u001b[0;34m(\u001b[0m\u001b[0;34m\"nrows\"\u001b[0m\u001b[0;34m,\u001b[0m \u001b[0mnrows\u001b[0m\u001b[0;34m)\u001b[0m\u001b[0;34m\u001b[0m\u001b[0;34m\u001b[0m\u001b[0m\n\u001b[0;32m-> 1133\u001b[0;31m         \u001b[0mret\u001b[0m \u001b[0;34m=\u001b[0m \u001b[0mself\u001b[0m\u001b[0;34m.\u001b[0m\u001b[0m_engine\u001b[0m\u001b[0;34m.\u001b[0m\u001b[0mread\u001b[0m\u001b[0;34m(\u001b[0m\u001b[0mnrows\u001b[0m\u001b[0;34m)\u001b[0m\u001b[0;34m\u001b[0m\u001b[0;34m\u001b[0m\u001b[0m\n\u001b[0m\u001b[1;32m   1134\u001b[0m \u001b[0;34m\u001b[0m\u001b[0m\n\u001b[1;32m   1135\u001b[0m         \u001b[0;31m# May alter columns / col_dict\u001b[0m\u001b[0;34m\u001b[0m\u001b[0;34m\u001b[0m\u001b[0;34m\u001b[0m\u001b[0m\n",
      "\u001b[0;32m/opt/anaconda3/lib/python3.7/site-packages/pandas/io/parsers.py\u001b[0m in \u001b[0;36mread\u001b[0;34m(self, nrows)\u001b[0m\n\u001b[1;32m   2035\u001b[0m     \u001b[0;32mdef\u001b[0m \u001b[0mread\u001b[0m\u001b[0;34m(\u001b[0m\u001b[0mself\u001b[0m\u001b[0;34m,\u001b[0m \u001b[0mnrows\u001b[0m\u001b[0;34m=\u001b[0m\u001b[0;32mNone\u001b[0m\u001b[0;34m)\u001b[0m\u001b[0;34m:\u001b[0m\u001b[0;34m\u001b[0m\u001b[0;34m\u001b[0m\u001b[0m\n\u001b[1;32m   2036\u001b[0m         \u001b[0;32mtry\u001b[0m\u001b[0;34m:\u001b[0m\u001b[0;34m\u001b[0m\u001b[0;34m\u001b[0m\u001b[0m\n\u001b[0;32m-> 2037\u001b[0;31m             \u001b[0mdata\u001b[0m \u001b[0;34m=\u001b[0m \u001b[0mself\u001b[0m\u001b[0;34m.\u001b[0m\u001b[0m_reader\u001b[0m\u001b[0;34m.\u001b[0m\u001b[0mread\u001b[0m\u001b[0;34m(\u001b[0m\u001b[0mnrows\u001b[0m\u001b[0;34m)\u001b[0m\u001b[0;34m\u001b[0m\u001b[0;34m\u001b[0m\u001b[0m\n\u001b[0m\u001b[1;32m   2038\u001b[0m         \u001b[0;32mexcept\u001b[0m \u001b[0mStopIteration\u001b[0m\u001b[0;34m:\u001b[0m\u001b[0;34m\u001b[0m\u001b[0;34m\u001b[0m\u001b[0m\n\u001b[1;32m   2039\u001b[0m             \u001b[0;32mif\u001b[0m \u001b[0mself\u001b[0m\u001b[0;34m.\u001b[0m\u001b[0m_first_chunk\u001b[0m\u001b[0;34m:\u001b[0m\u001b[0;34m\u001b[0m\u001b[0;34m\u001b[0m\u001b[0m\n",
      "\u001b[0;32mpandas/_libs/parsers.pyx\u001b[0m in \u001b[0;36mpandas._libs.parsers.TextReader.read\u001b[0;34m()\u001b[0m\n",
      "\u001b[0;32mpandas/_libs/parsers.pyx\u001b[0m in \u001b[0;36mpandas._libs.parsers.TextReader._read_low_memory\u001b[0;34m()\u001b[0m\n",
      "\u001b[0;32mpandas/_libs/parsers.pyx\u001b[0m in \u001b[0;36mpandas._libs.parsers.TextReader._read_rows\u001b[0;34m()\u001b[0m\n",
      "\u001b[0;32mpandas/_libs/parsers.pyx\u001b[0m in \u001b[0;36mpandas._libs.parsers.TextReader._tokenize_rows\u001b[0;34m()\u001b[0m\n",
      "\u001b[0;32mpandas/_libs/parsers.pyx\u001b[0m in \u001b[0;36mpandas._libs.parsers.raise_parser_error\u001b[0;34m()\u001b[0m\n",
      "\u001b[0;31mParserError\u001b[0m: Error tokenizing data. C error: Expected 20 fields in line 3177, saw 21\n"
     ]
    }
   ],
   "source": [
    "a = pd.read_csv(PATH_DATA + 'radius.log.1')"
   ]
  },
  {
   "cell_type": "code",
   "execution_count": null,
   "metadata": {},
   "outputs": [],
   "source": []
  },
  {
   "cell_type": "code",
   "execution_count": null,
   "metadata": {},
   "outputs": [],
   "source": []
  },
  {
   "cell_type": "code",
   "execution_count": null,
   "metadata": {},
   "outputs": [],
   "source": []
  },
  {
   "cell_type": "code",
   "execution_count": null,
   "metadata": {},
   "outputs": [],
   "source": []
  }
 ],
 "metadata": {
  "kernelspec": {
   "display_name": "Python 3",
   "language": "python",
   "name": "python3"
  },
  "language_info": {
   "codemirror_mode": {
    "name": "ipython",
    "version": 3
   },
   "file_extension": ".py",
   "mimetype": "text/x-python",
   "name": "python",
   "nbconvert_exporter": "python",
   "pygments_lexer": "ipython3",
   "version": "3.7.6"
  }
 },
 "nbformat": 4,
 "nbformat_minor": 4
}
