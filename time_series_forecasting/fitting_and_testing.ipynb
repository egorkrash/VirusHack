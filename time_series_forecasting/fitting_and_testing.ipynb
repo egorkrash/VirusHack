{
 "cells": [
  {
   "cell_type": "code",
   "execution_count": 8,
   "metadata": {},
   "outputs": [],
   "source": [
    "import pandas as pd\n",
    "import numpy as np\n",
    "import matplotlib.pyplot as plt\n",
    "from catboost import CatBoostRegressor\n",
    "from sklearn.ensemble import RandomForestRegressor\n",
    "from sklearn.linear_model import LinearRegression\n",
    "from sklearn.metrics import mean_squared_error, mean_absolute_error\n",
    "from sklearn.model_selection import train_test_split"
   ]
  },
  {
   "cell_type": "code",
   "execution_count": 9,
   "metadata": {},
   "outputs": [],
   "source": [
    "data = pd.read_csv('gb_total.csv')"
   ]
  },
  {
   "cell_type": "code",
   "execution_count": 10,
   "metadata": {},
   "outputs": [],
   "source": [
    "targets = [\n",
    "    \"start_stop_alige_count_Start\",\n",
    "    \"start_stop_alige_count_Stop\",\n",
    "    \"type__count_Billing-Accounting\",\n",
    "    \"type__count_Billing-Authentication\",\n",
    "    \"mean_delay\",\n",
    "    \"mean_input_trafic\",\n",
    "    \"mean_output_trafic\",\n",
    "    \"count_failed\"\n",
    "    ]"
   ]
  },
  {
   "cell_type": "code",
   "execution_count": 11,
   "metadata": {},
   "outputs": [],
   "source": [
    "def make_time_features(data, timestamps=[24, 12, 6, 5, 4, 3, 2, 1], target='mean_delay'):\n",
    "    targets = []\n",
    "    features = []\n",
    "    features_mean = []\n",
    "    for i in range(data.shape[0]):\n",
    "        \n",
    "        # prev values\n",
    "        temp_arr = []\n",
    "        for s in timestamps:\n",
    "            temp = data.shift(s)[target].loc[i]\n",
    "            temp_arr.append(temp)\n",
    "            \n",
    "        # mean\n",
    "        for s in timestamps:\n",
    "            temp = np.mean(data[target].loc[i-s:i-1])\n",
    "            temp_arr.append(temp)\n",
    "            \n",
    "        targets.append(data[target].loc[i])\n",
    "        features.append(temp_arr)\n",
    "    \n",
    "    res_df = pd.DataFrame(features)\n",
    "    res_df['target_{}'.format(target)] = targets\n",
    "    \n",
    "    rename_dict = {}\n",
    "    for i in range(len(timestamps)*2):\n",
    "        if i < len(timestamps):\n",
    "            rename_dict[i] = 'lag_{}_hours'.format(timestamps[i])\n",
    "        else:\n",
    "            rename_dict[i] = 'mean_{}_hours'.format(timestamps[len(timestamps) - i])\n",
    "            \n",
    "            \n",
    "    res_df = res_df.rename(columns=rename_dict)\n",
    "    res_df = res_df.dropna()\n",
    "    \n",
    "    return res_df.drop('target_{}'.format(target), axis=1), res_df['target_{}'.format(target)]"
   ]
  },
  {
   "cell_type": "code",
   "execution_count": 131,
   "metadata": {},
   "outputs": [],
   "source": [
    "class TargetForecasting():\n",
    "    def __init__(self, load_model=False, target=None, **params):\n",
    "        self.estimator = CatBoostRegressor(silent=True, iterations=15, **params)\n",
    "        \n",
    "        if load_model:\n",
    "            try:\n",
    "                self.estimator.load_model('models/{}'.format(target))\n",
    "            except FileNotFoundError:\n",
    "                print('model {} was not found'.format(target))\n",
    "        \n",
    "        \n",
    "    def fit(self, X, y, save_model=False, target=None, **fit_params):\n",
    "        self.estimator.fit(X, y, **fit_params)\n",
    "        \n",
    "        if save_model:\n",
    "            self.estimator.save_model('models/{}'.format(target))\n",
    "        \n",
    "        \n",
    "    def predict(self, X):\n",
    "        return self.estimator.predict(X)"
   ]
  },
  {
   "cell_type": "code",
   "execution_count": 132,
   "metadata": {},
   "outputs": [],
   "source": [
    "def test_model(data_target):\n",
    "    X, y = data_target\n",
    "    X_train, X_test, y_train, y_test = train_test_split(X, y, test_size=0.3, random_state=42)\n",
    "    model = TargetForecasting()\n",
    "    model.fit(X_train, y_train)\n",
    "    print('MAE (train):', mean_absolute_error(y_train, model.predict(X_train)))\n",
    "    print('MAE:', mean_absolute_error(y_test, model.predict(X_test)))"
   ]
  },
  {
   "cell_type": "code",
   "execution_count": 106,
   "metadata": {},
   "outputs": [
    {
     "name": "stdout",
     "output_type": "stream",
     "text": [
      "target start_stop_alige_count_\n",
      "MAE (train): 2342.22233907075\n",
      "MAE: 2303.131872503867\n",
      "\n",
      "target start_stop_alige_count_Alive\n",
      "MAE (train): 8457.31830681659\n",
      "MAE: 12313.708570929322\n",
      "\n",
      "target start_stop_alige_count_Start\n",
      "MAE (train): 4522.005475412939\n",
      "MAE: 4912.4673147024705\n",
      "\n",
      "target start_stop_alige_count_Stop\n",
      "MAE (train): 1676.324709592798\n",
      "MAE: 2559.1533656218157\n",
      "\n",
      "target type__count_Billing-Accounting\n",
      "MAE (train): 12929.547744569261\n",
      "MAE: 17250.02411161915\n",
      "\n",
      "target type__count_Billing-Authentication\n",
      "MAE (train): 1089.5128637250227\n",
      "MAE: 1205.232863088035\n",
      "\n",
      "target mean_delay\n",
      "MAE (train): 0.009762573608212853\n",
      "MAE: 0.011129779653876659\n",
      "\n",
      "target mean_input_trafic\n",
      "MAE (train): 118725244.64867997\n",
      "MAE: 195640358.44133916\n",
      "\n",
      "target mean_output_trafic\n",
      "MAE (train): 438119468.1393913\n",
      "MAE: 728970006.9652028\n",
      "\n",
      "target count_failed\n",
      "MAE (train): 83.33974670291866\n",
      "MAE: 116.26201895982398\n",
      "\n"
     ]
    }
   ],
   "source": [
    "for target in targets:\n",
    "    print('target', target)\n",
    "    data_time_features = make_time_features(data, target=target)\n",
    "    test_model(data_time_features)\n",
    "    print()"
   ]
  },
  {
   "cell_type": "markdown",
   "metadata": {},
   "source": [
    "### final fitting"
   ]
  },
  {
   "cell_type": "code",
   "execution_count": 133,
   "metadata": {},
   "outputs": [],
   "source": [
    "def fit_models(data, targets):\n",
    "    \n",
    "    for target in targets:\n",
    "        X, y = make_time_features(data, target=target)\n",
    "        \n",
    "        model = TargetForecasting()\n",
    "        model.fit(X, y, save_model=True, target=target)\n",
    "        print('{} has been fitted and saved'.format(target))\n"
   ]
  },
  {
   "cell_type": "code",
   "execution_count": 134,
   "metadata": {},
   "outputs": [
    {
     "name": "stdout",
     "output_type": "stream",
     "text": [
      "start_stop_alige_count_ has been fitted and saved\n",
      "start_stop_alige_count_Alive has been fitted and saved\n",
      "start_stop_alige_count_Start has been fitted and saved\n",
      "start_stop_alige_count_Stop has been fitted and saved\n",
      "type__count_Billing-Accounting has been fitted and saved\n",
      "type__count_Billing-Authentication has been fitted and saved\n",
      "mean_delay has been fitted and saved\n",
      "mean_input_trafic has been fitted and saved\n",
      "mean_output_trafic has been fitted and saved\n",
      "count_failed has been fitted and saved\n"
     ]
    }
   ],
   "source": [
    "fit_models(data, targets)"
   ]
  },
  {
   "cell_type": "code",
   "execution_count": 135,
   "metadata": {},
   "outputs": [],
   "source": [
    "def load_models(targets):\n",
    "    models = {}\n",
    "    for target in targets:\n",
    "        model = TargetForecasting(load_model=True, target=target)\n",
    "        models[target] = model\n",
    "    \n",
    "    return models"
   ]
  },
  {
   "cell_type": "code",
   "execution_count": 136,
   "metadata": {},
   "outputs": [],
   "source": [
    "models = load_models(targets)"
   ]
  },
  {
   "cell_type": "code",
   "execution_count": 147,
   "metadata": {},
   "outputs": [],
   "source": [
    "def make_predictions(data, models, targets, date='2020-05-01 00:00:00'):\n",
    "    \"\"\"Make predictions for the last hour using last days' data and fitted models.\"\"\"\n",
    "    \n",
    "    data = data[data['date'] <= pd.to_datetime(date)]\n",
    "    \n",
    "    pred_df = pd.DataFrame({'date': data.iloc[-24:]['date']})\n",
    "    \n",
    "    \n",
    "    for target in targets:\n",
    "        X, _ = make_time_features(data, target=target)\n",
    "        \n",
    "        return X\n",
    "        \n",
    "        X_pred = X.values[-24:]\n",
    "        \n",
    "        preds = models[target].predict(X_pred)\n",
    "        pred_df[target] = preds\n",
    "    \n",
    "    return data.iloc[-24:-1], pred_df"
   ]
  },
  {
   "cell_type": "code",
   "execution_count": 138,
   "metadata": {},
   "outputs": [],
   "source": [
    "data['date'] = pd.to_datetime(data['date'])"
   ]
  },
  {
   "cell_type": "code",
   "execution_count": 139,
   "metadata": {},
   "outputs": [],
   "source": [
    "real, preds = make_predictions(data, models, targets)"
   ]
  },
  {
   "cell_type": "code",
   "execution_count": 140,
   "metadata": {},
   "outputs": [],
   "source": [
    "def plot_target(data, pred_data, target='start_stop_alige_count_'):\n",
    "    \n",
    "    fig = plt.figure(figsize=(8, 6))\n",
    "    \n",
    "    data['date'] = pd.to_datetime(data['date'])\n",
    "    pred_data['date'] = pd.to_datetime(pred_data['date'])\n",
    "\n",
    "    plt.title('{} per hour'.format(target))\n",
    "    plt.plot(data['date'], data[target], label='real')\n",
    "    plt.plot(pred_data['date'], pred_data[target], label='predicted', alpha=0.4)\n",
    "    plt.legend()\n",
    "    "
   ]
  },
  {
   "cell_type": "code",
   "execution_count": 152,
   "metadata": {},
   "outputs": [
    {
     "data": {
      "image/png": "[encoded data removed]",
      "text/plain": [
       "<Figure size 576x432 with 1 Axes>"
      ]
     },
     "metadata": {
      "needs_background": "light"
     },
     "output_type": "display_data"
    }
   ],
   "source": [
    "plot_target(real, preds, target=targets[3])"
   ]
  },
  {
   "cell_type": "code",
   "execution_count": null,
   "metadata": {},
   "outputs": [],
   "source": []
  },
  {
   "cell_type": "code",
   "execution_count": null,
   "metadata": {},
   "outputs": [],
   "source": []
  }
 ],
 "metadata": {
  "kernelspec": {
   "display_name": "Python 3",
   "language": "python",
   "name": "python3"
  },
  "language_info": {
   "codemirror_mode": {
    "name": "ipython",
    "version": 3
   },
   "file_extension": ".py",
   "mimetype": "text/x-python",
   "name": "python",
   "nbconvert_exporter": "python",
   "pygments_lexer": "ipython3",
   "version": "3.7.4"
  }
 },
 "nbformat": 4,
 "nbformat_minor": 2
}
